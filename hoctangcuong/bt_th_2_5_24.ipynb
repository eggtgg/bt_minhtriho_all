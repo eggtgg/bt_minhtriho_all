{
  "nbformat": 4,
  "nbformat_minor": 0,
  "metadata": {
    "colab": {
      "provenance": [],
      "authorship_tag": "ABX9TyM7dH4cOXEQ50ZdkH0DQVwN",
      "include_colab_link": true
    },
    "kernelspec": {
      "name": "python3",
      "display_name": "Python 3"
    },
    "language_info": {
      "name": "python"
    }
  },
  "cells": [
    {
      "cell_type": "markdown",
      "metadata": {
        "id": "view-in-github",
        "colab_type": "text"
      },
      "source": [
        "<a href=\"https://colab.research.google.com/github/eggtgg/bt_minhtriho_all/blob/main/hoctangcuong/bt_th_2_5_24.ipynb\" target=\"_parent\"><img src=\"https://colab.research.google.com/assets/colab-badge.svg\" alt=\"Open In Colab\"/></a>"
      ]
    },
    {
      "cell_type": "markdown",
      "source": [
        "V(st)  <-- V(st) + alpha *( R(t+1)  + gamma * V(st+1) - V(st))"
      ],
      "metadata": {
        "id": "e78hQPe-Lp-B"
      }
    },
    {
      "cell_type": "code",
      "source": [
        "import numpy as np\n",
        "import pandas as pd\n",
        "import random"
      ],
      "metadata": {
        "id": "Hx8ZAdQgLnrC"
      },
      "execution_count": 58,
      "outputs": []
    },
    {
      "cell_type": "code",
      "source": [
        "q_table =  np.zeros([3,4,4])\n",
        "q_table"
      ],
      "metadata": {
        "colab": {
          "base_uri": "https://localhost:8080/"
        },
        "id": "Ey8nU4j-LzeQ",
        "outputId": "e7c59c6a-dcea-4d3f-b6cc-34ec7a3d4b1a"
      },
      "execution_count": 9,
      "outputs": [
        {
          "output_type": "execute_result",
          "data": {
            "text/plain": [
              "array([[[0., 0., 0., 0.],\n",
              "        [0., 0., 0., 0.],\n",
              "        [0., 0., 0., 0.],\n",
              "        [0., 0., 0., 0.]],\n",
              "\n",
              "       [[0., 0., 0., 0.],\n",
              "        [0., 0., 0., 0.],\n",
              "        [0., 0., 0., 0.],\n",
              "        [0., 0., 0., 0.]],\n",
              "\n",
              "       [[0., 0., 0., 0.],\n",
              "        [0., 0., 0., 0.],\n",
              "        [0., 0., 0., 0.],\n",
              "        [0., 0., 0., 0.]]])"
            ]
          },
          "metadata": {},
          "execution_count": 9
        }
      ]
    },
    {
      "cell_type": "code",
      "source": [
        "q_table"
      ],
      "metadata": {
        "colab": {
          "base_uri": "https://localhost:8080/"
        },
        "id": "Eofg8QqwMA2t",
        "outputId": "d79bd36e-6ceb-48ba-ad9d-a1507243834d"
      },
      "execution_count": 5,
      "outputs": [
        {
          "output_type": "execute_result",
          "data": {
            "text/plain": [
              "(3,)"
            ]
          },
          "metadata": {},
          "execution_count": 5
        }
      ]
    },
    {
      "cell_type": "code",
      "source": [
        "dict_acts = {\n",
        "    0: \"^\",\n",
        "    1:\"v\",\n",
        "    2:\"<\",\n",
        "    3: \">\"\n",
        "}"
      ],
      "metadata": {
        "id": "Z-EpI3ZDMMk0"
      },
      "execution_count": 10,
      "outputs": []
    },
    {
      "cell_type": "code",
      "source": [
        "list_act_move = {\n",
        "    0: np.array([-1,0]),\n",
        "    1: np.array([1,0]),\n",
        "    2: np.array([0, -1]),\n",
        "    3: np.array([0, 1])\n",
        "}"
      ],
      "metadata": {
        "id": "e3gKzj3vMn2l"
      },
      "execution_count": 12,
      "outputs": []
    },
    {
      "cell_type": "code",
      "source": [
        "grid = np.zeros([3,4])\n",
        "grid"
      ],
      "metadata": {
        "colab": {
          "base_uri": "https://localhost:8080/"
        },
        "id": "8iw9haJkMipW",
        "outputId": "188ebda3-ee5d-4af8-edf7-905690c81cce"
      },
      "execution_count": 17,
      "outputs": [
        {
          "output_type": "execute_result",
          "data": {
            "text/plain": [
              "array([[0., 0., 0., 0.],\n",
              "       [0., 0., 0., 0.],\n",
              "       [0., 0., 0., 0.]])"
            ]
          },
          "metadata": {},
          "execution_count": 17
        }
      ]
    },
    {
      "cell_type": "code",
      "source": [
        "walls = np.array([1,1]), np.array([2,3])"
      ],
      "metadata": {
        "id": "CtwK9gimOXub"
      },
      "execution_count": 49,
      "outputs": []
    },
    {
      "cell_type": "code",
      "source": [
        "target = np.array([0,3])"
      ],
      "metadata": {
        "id": "M9cFF5V0Qcnw"
      },
      "execution_count": 53,
      "outputs": []
    },
    {
      "cell_type": "code",
      "source": [
        "for w in walls:\n",
        "  print(w)"
      ],
      "metadata": {
        "colab": {
          "base_uri": "https://localhost:8080/"
        },
        "id": "GRY-XlOzQECe",
        "outputId": "c8c50a34-abb5-416f-d122-1df7753c5814"
      },
      "execution_count": 50,
      "outputs": [
        {
          "output_type": "stream",
          "name": "stdout",
          "text": [
            "[1 1]\n",
            "[2 3]\n"
          ]
        }
      ]
    },
    {
      "cell_type": "code",
      "source": [
        "for w in walls:\n",
        "  grid[w[0], w[1]] = -1"
      ],
      "metadata": {
        "id": "1K4cZLfcOzjM"
      },
      "execution_count": 51,
      "outputs": []
    },
    {
      "cell_type": "code",
      "source": [
        "grid[target[0], target[1]] = 1"
      ],
      "metadata": {
        "id": "SlO64bidQaPY"
      },
      "execution_count": 54,
      "outputs": []
    },
    {
      "cell_type": "code",
      "source": [
        "grid"
      ],
      "metadata": {
        "colab": {
          "base_uri": "https://localhost:8080/"
        },
        "id": "sVsUT5KeQvpm",
        "outputId": "aeee2cbf-3da7-4720-9568-e107cb40c2f2"
      },
      "execution_count": 55,
      "outputs": [
        {
          "output_type": "execute_result",
          "data": {
            "text/plain": [
              "array([[ 0.,  0.,  0.,  1.],\n",
              "       [ 0., -1.,  0.,  0.],\n",
              "       [ 0.,  0.,  0., -1.]])"
            ]
          },
          "metadata": {},
          "execution_count": 55
        }
      ]
    },
    {
      "cell_type": "code",
      "source": [
        "tom = np.array([2,0])"
      ],
      "metadata": {
        "id": "2uzYloIRPfD8"
      },
      "execution_count": 56,
      "outputs": []
    },
    {
      "cell_type": "code",
      "source": [
        "def tom_move(way):\n",
        "  tom += way"
      ],
      "metadata": {
        "id": "iIm1L8kQQ4uS"
      },
      "execution_count": null,
      "outputs": []
    },
    {
      "cell_type": "code",
      "source": [
        "root_car = np.array([2,0])"
      ],
      "metadata": {
        "id": "Phl0WlRigNrS"
      },
      "execution_count": 132,
      "outputs": []
    },
    {
      "cell_type": "code",
      "source": [
        "class CarGame:\n",
        "  def __init__(self, grid, q_table):\n",
        "    self.car = np.array([2,0])\n",
        "    self.grid = grid\n",
        "    self.q_table = q_table\n",
        "    self.alpha = 0.1\n",
        "    self.gamma = 0.9\n",
        "\n",
        "    #self.root_car = np.array([2,0])\n",
        "    self.root_grid = grid\n",
        "    self.root_q_table = q_table\n",
        "\n",
        "  def car_move(self, way):\n",
        "    self.car += list_act_move[way]\n",
        "    print(f\"car da den o {self.car}\")\n",
        "\n",
        "  def end_game_checker(self):\n",
        "    if self.car[0] <0  or self.car[1] <0:\n",
        "      end_game = True\n",
        "    elif (self.car[0]+1) > self.grid.shape[0] or (self.car[1]+1) > self.grid.shape[1]:\n",
        "      end_game = True\n",
        "    elif grid[self.car[0], self.car[1]] == -1:\n",
        "      end_game = True\n",
        "    else:\n",
        "      end_game = False\n",
        "    return end_game\n",
        "\n",
        "  def random_move(self):\n",
        "    way = random.randint(0,3)\n",
        "    old_car = self.car\n",
        "    self.car_move(way)\n",
        "    check_end = self.end_game_checker()\n",
        "    if check_end:\n",
        "      q_table[old_car[0], old_car[1], way] = q_table[old_car[0], old_car[1], way] + self.alpha *(-1 + self.gamma* (-1) - q_table[old_car[0], old_car[1], way])\n",
        "      self.car = np.array([2,0])\n",
        "    else:\n",
        "      q_table[old_car[0], old_car[1], way] = q_table[old_car[0], old_car[1], way] + self.alpha *(grid[self.car[0], self.car[1]] + self.gamma* q_table[self.car[0], self.car[0], way] - q_table[old_car[0], old_car[1], way])\n",
        "\n",
        "\n",
        "  def q_move(self, way):\n",
        "    old_car = self.car\n",
        "    self.car_move(way)\n",
        "    check_end = self.end_game_checker()\n",
        "    if check_end:\n",
        "      q_table[old_car[0], old_car[1], way] = q_table[old_car[0], old_car[1], way] + self.alpha *(-1 + self.gamma* (-1) - q_table[old_car[0], old_car[1], way])\n",
        "      self.car = np.array([2,0])\n",
        "    else:\n",
        "      q_table[old_car[0], old_car[1], way] = q_table[old_car[0], old_car[1], way] + self.alpha *(grid[self.car[0], self.car[1]] + self.gamma* q_table[self.car[0], self.car[0], way] - q_table[old_car[0], old_car[1], way])\n",
        "\n",
        "\n",
        "\n"
      ],
      "metadata": {
        "id": "yZK6NjtjRPa0"
      },
      "execution_count": 137,
      "outputs": []
    },
    {
      "cell_type": "code",
      "source": [
        "Game  = CarGame(grid, q_table)"
      ],
      "metadata": {
        "id": "IqubcsVzYHKo"
      },
      "execution_count": 146,
      "outputs": []
    },
    {
      "cell_type": "code",
      "source": [
        "Game.grid.shape[0]"
      ],
      "metadata": {
        "colab": {
          "base_uri": "https://localhost:8080/"
        },
        "id": "QHT-3AQeg6KR",
        "outputId": "48d79314-b942-4bc5-f9ea-28300f5dde84"
      },
      "execution_count": 150,
      "outputs": [
        {
          "output_type": "execute_result",
          "data": {
            "text/plain": [
              "3"
            ]
          },
          "metadata": {},
          "execution_count": 150
        }
      ]
    },
    {
      "cell_type": "code",
      "source": [
        "Game.car"
      ],
      "metadata": {
        "colab": {
          "base_uri": "https://localhost:8080/"
        },
        "id": "JONMoFKTg_6p",
        "outputId": "08904bb0-9aa3-4581-b911-48c36dbd37d4"
      },
      "execution_count": 152,
      "outputs": [
        {
          "output_type": "execute_result",
          "data": {
            "text/plain": [
              "array([3, 1])"
            ]
          },
          "metadata": {},
          "execution_count": 152
        }
      ]
    },
    {
      "cell_type": "code",
      "source": [
        "for i in range(1000):\n",
        "  rd = random.randint(0,1000)\n",
        "  if rd >= 800:\n",
        "    max_way = np.argmax(Game.q_table[Game.car[0],Game.car[0]])\n",
        "    Game.q_move(max_way)\n",
        "  else:\n",
        "    Game.random_move()"
      ],
      "metadata": {
        "colab": {
          "base_uri": "https://localhost:8080/",
          "height": 558
        },
        "id": "XUyxHSESYZv9",
        "outputId": "bf4bbc2f-2ea9-436c-aefb-cd2adeb08736"
      },
      "execution_count": 147,
      "outputs": [
        {
          "output_type": "stream",
          "name": "stdout",
          "text": [
            "car da den o [1 0]\n",
            "car da den o [1 1]\n",
            "car da den o [1 0]\n",
            "car da den o [0 0]\n",
            "car da den o [ 0 -1]\n",
            "car da den o [2 1]\n",
            "car da den o [2 0]\n",
            "car da den o [1 0]\n",
            "car da den o [ 1 -1]\n",
            "car da den o [1 0]\n",
            "car da den o [ 1 -1]\n",
            "car da den o [ 2 -1]\n",
            "car da den o [2 1]\n",
            "car da den o [3 1]\n"
          ]
        },
        {
          "output_type": "error",
          "ename": "IndexError",
          "evalue": "index 3 is out of bounds for axis 0 with size 3",
          "traceback": [
            "\u001b[0;31m---------------------------------------------------------------------------\u001b[0m",
            "\u001b[0;31mIndexError\u001b[0m                                Traceback (most recent call last)",
            "\u001b[0;32m<ipython-input-147-c2f771e8c1ae>\u001b[0m in \u001b[0;36m<cell line: 1>\u001b[0;34m()\u001b[0m\n\u001b[1;32m      5\u001b[0m     \u001b[0mGame\u001b[0m\u001b[0;34m.\u001b[0m\u001b[0mq_move\u001b[0m\u001b[0;34m(\u001b[0m\u001b[0mmax_way\u001b[0m\u001b[0;34m)\u001b[0m\u001b[0;34m\u001b[0m\u001b[0;34m\u001b[0m\u001b[0m\n\u001b[1;32m      6\u001b[0m   \u001b[0;32melse\u001b[0m\u001b[0;34m:\u001b[0m\u001b[0;34m\u001b[0m\u001b[0;34m\u001b[0m\u001b[0m\n\u001b[0;32m----> 7\u001b[0;31m     \u001b[0mGame\u001b[0m\u001b[0;34m.\u001b[0m\u001b[0mrandom_move\u001b[0m\u001b[0;34m(\u001b[0m\u001b[0;34m)\u001b[0m\u001b[0;34m\u001b[0m\u001b[0;34m\u001b[0m\u001b[0m\n\u001b[0m",
            "\u001b[0;32m<ipython-input-137-76a14d0d693d>\u001b[0m in \u001b[0;36mrandom_move\u001b[0;34m(self)\u001b[0m\n\u001b[1;32m     32\u001b[0m     \u001b[0mcheck_end\u001b[0m \u001b[0;34m=\u001b[0m \u001b[0mself\u001b[0m\u001b[0;34m.\u001b[0m\u001b[0mend_game_checker\u001b[0m\u001b[0;34m(\u001b[0m\u001b[0;34m)\u001b[0m\u001b[0;34m\u001b[0m\u001b[0;34m\u001b[0m\u001b[0m\n\u001b[1;32m     33\u001b[0m     \u001b[0;32mif\u001b[0m \u001b[0mcheck_end\u001b[0m\u001b[0;34m:\u001b[0m\u001b[0;34m\u001b[0m\u001b[0;34m\u001b[0m\u001b[0m\n\u001b[0;32m---> 34\u001b[0;31m       \u001b[0mq_table\u001b[0m\u001b[0;34m[\u001b[0m\u001b[0mold_car\u001b[0m\u001b[0;34m[\u001b[0m\u001b[0;36m0\u001b[0m\u001b[0;34m]\u001b[0m\u001b[0;34m,\u001b[0m \u001b[0mold_car\u001b[0m\u001b[0;34m[\u001b[0m\u001b[0;36m1\u001b[0m\u001b[0;34m]\u001b[0m\u001b[0;34m,\u001b[0m \u001b[0mway\u001b[0m\u001b[0;34m]\u001b[0m \u001b[0;34m=\u001b[0m \u001b[0mq_table\u001b[0m\u001b[0;34m[\u001b[0m\u001b[0mold_car\u001b[0m\u001b[0;34m[\u001b[0m\u001b[0;36m0\u001b[0m\u001b[0;34m]\u001b[0m\u001b[0;34m,\u001b[0m \u001b[0mold_car\u001b[0m\u001b[0;34m[\u001b[0m\u001b[0;36m1\u001b[0m\u001b[0;34m]\u001b[0m\u001b[0;34m,\u001b[0m \u001b[0mway\u001b[0m\u001b[0;34m]\u001b[0m \u001b[0;34m+\u001b[0m \u001b[0mself\u001b[0m\u001b[0;34m.\u001b[0m\u001b[0malpha\u001b[0m \u001b[0;34m*\u001b[0m\u001b[0;34m(\u001b[0m\u001b[0;34m-\u001b[0m\u001b[0;36m1\u001b[0m \u001b[0;34m+\u001b[0m \u001b[0mself\u001b[0m\u001b[0;34m.\u001b[0m\u001b[0mgamma\u001b[0m\u001b[0;34m*\u001b[0m \u001b[0;34m(\u001b[0m\u001b[0;34m-\u001b[0m\u001b[0;36m1\u001b[0m\u001b[0;34m)\u001b[0m \u001b[0;34m-\u001b[0m \u001b[0mq_table\u001b[0m\u001b[0;34m[\u001b[0m\u001b[0mold_car\u001b[0m\u001b[0;34m[\u001b[0m\u001b[0;36m0\u001b[0m\u001b[0;34m]\u001b[0m\u001b[0;34m,\u001b[0m \u001b[0mold_car\u001b[0m\u001b[0;34m[\u001b[0m\u001b[0;36m1\u001b[0m\u001b[0;34m]\u001b[0m\u001b[0;34m,\u001b[0m \u001b[0mway\u001b[0m\u001b[0;34m]\u001b[0m\u001b[0;34m)\u001b[0m\u001b[0;34m\u001b[0m\u001b[0;34m\u001b[0m\u001b[0m\n\u001b[0m\u001b[1;32m     35\u001b[0m       \u001b[0mself\u001b[0m\u001b[0;34m.\u001b[0m\u001b[0mcar\u001b[0m \u001b[0;34m=\u001b[0m \u001b[0mnp\u001b[0m\u001b[0;34m.\u001b[0m\u001b[0marray\u001b[0m\u001b[0;34m(\u001b[0m\u001b[0;34m[\u001b[0m\u001b[0;36m2\u001b[0m\u001b[0;34m,\u001b[0m\u001b[0;36m0\u001b[0m\u001b[0;34m]\u001b[0m\u001b[0;34m)\u001b[0m\u001b[0;34m\u001b[0m\u001b[0;34m\u001b[0m\u001b[0m\n\u001b[1;32m     36\u001b[0m     \u001b[0;32melse\u001b[0m\u001b[0;34m:\u001b[0m\u001b[0;34m\u001b[0m\u001b[0;34m\u001b[0m\u001b[0m\n",
            "\u001b[0;31mIndexError\u001b[0m: index 3 is out of bounds for axis 0 with size 3"
          ]
        }
      ]
    },
    {
      "cell_type": "code",
      "source": [
        "np.array([2,0])"
      ],
      "metadata": {
        "colab": {
          "base_uri": "https://localhost:8080/"
        },
        "id": "bzxCB0FogkaJ",
        "outputId": "bc7482c2-4e7c-4ae1-f23a-d3e1ddf29197"
      },
      "execution_count": 144,
      "outputs": [
        {
          "output_type": "execute_result",
          "data": {
            "text/plain": [
              "array([2, 0])"
            ]
          },
          "metadata": {},
          "execution_count": 144
        }
      ]
    },
    {
      "cell_type": "code",
      "source": [
        "root_car"
      ],
      "metadata": {
        "colab": {
          "base_uri": "https://localhost:8080/"
        },
        "id": "n3hbvDxzgYSd",
        "outputId": "b4013a50-d3eb-497b-cc27-190a55e85821"
      },
      "execution_count": 136,
      "outputs": [
        {
          "output_type": "execute_result",
          "data": {
            "text/plain": [
              "array([-2, -5])"
            ]
          },
          "metadata": {},
          "execution_count": 136
        }
      ]
    },
    {
      "cell_type": "code",
      "source": [
        "Game.root_car"
      ],
      "metadata": {
        "colab": {
          "base_uri": "https://localhost:8080/"
        },
        "id": "9pFK0HPdf361",
        "outputId": "1c1c7e42-ae69-4531-d327-32a7e31821d2"
      },
      "execution_count": 131,
      "outputs": [
        {
          "output_type": "execute_result",
          "data": {
            "text/plain": [
              "array([ 1, -5])"
            ]
          },
          "metadata": {},
          "execution_count": 131
        }
      ]
    },
    {
      "cell_type": "code",
      "source": [
        "Game.car"
      ],
      "metadata": {
        "colab": {
          "base_uri": "https://localhost:8080/"
        },
        "id": "Y2yA3srFdJQ_",
        "outputId": "fb9280ba-6028-4f69-9c4d-abf277cd44a2"
      },
      "execution_count": 103,
      "outputs": [
        {
          "output_type": "execute_result",
          "data": {
            "text/plain": [
              "array([-4,  0])"
            ]
          },
          "metadata": {},
          "execution_count": 103
        }
      ]
    },
    {
      "cell_type": "code",
      "source": [
        "Game.q_table"
      ],
      "metadata": {
        "colab": {
          "base_uri": "https://localhost:8080/"
        },
        "id": "2pgyvVxach09",
        "outputId": "e458f7bc-9878-4c53-a8fe-5c9fd539642d"
      },
      "execution_count": 99,
      "outputs": [
        {
          "output_type": "execute_result",
          "data": {
            "text/plain": [
              "array([[[ 0.  ,  0.  ,  0.  ,  0.  ],\n",
              "        [ 0.  ,  0.  ,  0.  ,  0.  ],\n",
              "        [ 0.  ,  0.  , -0.1 ,  0.  ],\n",
              "        [-0.19,  0.  ,  0.  , -0.1 ]],\n",
              "\n",
              "       [[ 0.  ,  0.  ,  0.  ,  0.  ],\n",
              "        [ 0.  ,  0.  ,  0.  , -0.1 ],\n",
              "        [ 0.  ,  0.  ,  0.  ,  0.  ],\n",
              "        [-0.19,  0.  ,  0.  ,  0.  ]],\n",
              "\n",
              "       [[ 0.  ,  0.  ,  0.  ,  0.  ],\n",
              "        [ 0.  ,  0.  ,  0.  ,  0.  ],\n",
              "        [ 0.  ,  0.  ,  0.  ,  0.  ],\n",
              "        [-0.1 ,  0.  , -0.1 ,  0.  ]]])"
            ]
          },
          "metadata": {},
          "execution_count": 99
        }
      ]
    },
    {
      "cell_type": "code",
      "source": [
        "max_way"
      ],
      "metadata": {
        "colab": {
          "base_uri": "https://localhost:8080/"
        },
        "id": "xPld-3KVbw90",
        "outputId": "8140033e-a263-4983-d96a-832b37275e6e"
      },
      "execution_count": 91,
      "outputs": [
        {
          "output_type": "execute_result",
          "data": {
            "text/plain": [
              "0"
            ]
          },
          "metadata": {},
          "execution_count": 91
        }
      ]
    },
    {
      "cell_type": "code",
      "source": [
        "np.argmax(Game.q_table[Game.car[0],Game.car[0]])"
      ],
      "metadata": {
        "colab": {
          "base_uri": "https://localhost:8080/"
        },
        "id": "Q-1nbLRLaKa7",
        "outputId": "7769fe9b-0a99-415f-c699-0207a29c230b"
      },
      "execution_count": 86,
      "outputs": [
        {
          "output_type": "execute_result",
          "data": {
            "text/plain": [
              "0"
            ]
          },
          "metadata": {},
          "execution_count": 86
        }
      ]
    },
    {
      "cell_type": "code",
      "source": [
        "max(1,2)"
      ],
      "metadata": {
        "colab": {
          "base_uri": "https://localhost:8080/"
        },
        "id": "C7dv3IOlZftD",
        "outputId": "eff28655-ce91-4067-b4e2-3f8db2734d82"
      },
      "execution_count": 80,
      "outputs": [
        {
          "output_type": "execute_result",
          "data": {
            "text/plain": [
              "2"
            ]
          },
          "metadata": {},
          "execution_count": 80
        }
      ]
    },
    {
      "cell_type": "code",
      "source": [
        "grid.shape[0]"
      ],
      "metadata": {
        "colab": {
          "base_uri": "https://localhost:8080/"
        },
        "id": "cedWKvFWTt1_",
        "outputId": "0fa0654b-eb47-4b59-a2bf-07efb43daf58"
      },
      "execution_count": 60,
      "outputs": [
        {
          "output_type": "execute_result",
          "data": {
            "text/plain": [
              "3"
            ]
          },
          "metadata": {},
          "execution_count": 60
        }
      ]
    },
    {
      "cell_type": "code",
      "source": [],
      "metadata": {
        "id": "_Tm75KRMX_hZ"
      },
      "execution_count": null,
      "outputs": []
    }
  ]
}