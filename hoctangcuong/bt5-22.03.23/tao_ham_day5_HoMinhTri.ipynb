{
  "nbformat": 4,
  "nbformat_minor": 0,
  "metadata": {
    "colab": {
      "provenance": [],
      "authorship_tag": "ABX9TyNz6mIaBg7lvPmQmBaZvRcX",
      "include_colab_link": true
    },
    "kernelspec": {
      "name": "python3",
      "display_name": "Python 3"
    },
    "language_info": {
      "name": "python"
    }
  },
  "cells": [
    {
      "cell_type": "markdown",
      "metadata": {
        "id": "view-in-github",
        "colab_type": "text"
      },
      "source": [
        "<a href=\"https://colab.research.google.com/github/eggtgg/bt_minhtriho_all/blob/main/hoctangcuong/bt5-22.03.23/tao_ham_day5_HoMinhTri.ipynb\" target=\"_parent\"><img src=\"https://colab.research.google.com/assets/colab-badge.svg\" alt=\"Open In Colab\"/></a>"
      ]
    },
    {
      "cell_type": "code",
      "execution_count": 72,
      "metadata": {
        "id": "4OQf2xR0NtV1"
      },
      "outputs": [],
      "source": [
        "import numpy as np"
      ]
    },
    {
      "cell_type": "code",
      "source": [
        "V = np.zeros((3,4))"
      ],
      "metadata": {
        "id": "LOW5QXQzNv7E"
      },
      "execution_count": 73,
      "outputs": []
    },
    {
      "cell_type": "code",
      "source": [
        "V\n",
        "lock = [(1,1)]"
      ],
      "metadata": {
        "id": "o8F8RxqhNyIc"
      },
      "execution_count": 74,
      "outputs": []
    },
    {
      "cell_type": "code",
      "source": [
        "reward = 0"
      ],
      "metadata": {
        "id": "hyCpJM-bhOG0"
      },
      "execution_count": 75,
      "outputs": []
    },
    {
      "cell_type": "code",
      "source": [
        "V"
      ],
      "metadata": {
        "colab": {
          "base_uri": "https://localhost:8080/"
        },
        "id": "BaiZeFEWaRfn",
        "outputId": "7ebf9f65-1a22-4f2d-ba0b-6d4c3ec06a5b"
      },
      "execution_count": 76,
      "outputs": [
        {
          "output_type": "execute_result",
          "data": {
            "text/plain": [
              "array([[0., 0., 0., 0.],\n",
              "       [0., 0., 0., 0.],\n",
              "       [0., 0., 0., 0.]])"
            ]
          },
          "metadata": {},
          "execution_count": 76
        }
      ]
    },
    {
      "cell_type": "code",
      "source": [
        "def find_move(x,y, shape_v):\n",
        "  up = (x-1, y)\n",
        "  down = (x+1, y)\n",
        "  left = (x, y-1)\n",
        "  right = (x, y+1)\n",
        "\n",
        "  list_move = [up, down, left, right]\n",
        "\n",
        "  true_list_move = []\n",
        "  for move in list_move:\n",
        "    for stt,i in enumerate(move):\n",
        "      if i < 0:\n",
        "        break\n",
        "      elif i >= shape_v[stt]:\n",
        "        break\n",
        "      if stt:\n",
        "        true_list_move.append(move)\n",
        "  return true_list_move"
      ],
      "metadata": {
        "id": "hFmNXqwsODFe"
      },
      "execution_count": 77,
      "outputs": []
    },
    {
      "cell_type": "code",
      "source": [
        "moves = find_move(1,2, V.shape)"
      ],
      "metadata": {
        "id": "GNjUPL88RQHW"
      },
      "execution_count": 78,
      "outputs": []
    },
    {
      "cell_type": "code",
      "source": [
        "for l in lock:\n",
        "  if l in moves:\n",
        "    moves.remove(l)"
      ],
      "metadata": {
        "id": "e29T2A53ZUn_"
      },
      "execution_count": 79,
      "outputs": []
    },
    {
      "cell_type": "code",
      "source": [
        "moves"
      ],
      "metadata": {
        "colab": {
          "base_uri": "https://localhost:8080/"
        },
        "id": "4aX99Yc5ZjJJ",
        "outputId": "2c6f5105-f4a0-4726-fa28-9d670295c371"
      },
      "execution_count": 80,
      "outputs": [
        {
          "output_type": "execute_result",
          "data": {
            "text/plain": [
              "[(0, 2), (2, 2), (1, 3)]"
            ]
          },
          "metadata": {},
          "execution_count": 80
        }
      ]
    },
    {
      "cell_type": "code",
      "source": [
        "V[1,3]=-1\n",
        "V[0,3] = 1\n",
        "V[1,1] = -100\n",
        "gamma = 0.9"
      ],
      "metadata": {
        "id": "baBz5zFlfumt"
      },
      "execution_count": 82,
      "outputs": []
    },
    {
      "cell_type": "code",
      "source": [
        "V"
      ],
      "metadata": {
        "colab": {
          "base_uri": "https://localhost:8080/"
        },
        "id": "2eoRjYOZfwIU",
        "outputId": "c853544f-303a-44dc-c1d2-70b7cc0237e2"
      },
      "execution_count": 83,
      "outputs": [
        {
          "output_type": "execute_result",
          "data": {
            "text/plain": [
              "array([[   0.,    0.,    0.,    1.],\n",
              "       [   0., -100.,    0.,   -1.],\n",
              "       [   0.,    0.,    0.,    0.]])"
            ]
          },
          "metadata": {},
          "execution_count": 83
        }
      ]
    },
    {
      "cell_type": "code",
      "source": [
        "moves_02 = find_move(0,2, V.shape)"
      ],
      "metadata": {
        "id": "2jNij1GShjaD"
      },
      "execution_count": 87,
      "outputs": []
    },
    {
      "cell_type": "code",
      "source": [
        "list_a = [1,2,3]"
      ],
      "metadata": {
        "id": "mgz4VnL-kJ6D"
      },
      "execution_count": 92,
      "outputs": []
    },
    {
      "cell_type": "code",
      "source": [
        "def other_points(input_value, list_point):\n",
        "    list_a = []\n",
        "    if input_value in list_point:\n",
        "        for item in list_point:\n",
        "            if item != input_value:\n",
        "                list_a.append(item)\n",
        "    else:\n",
        "        print(\"Giá trị nhập không hợp lệ.\")\n",
        "    return list_a"
      ],
      "metadata": {
        "id": "88InUSYgkngx"
      },
      "execution_count": 103,
      "outputs": []
    },
    {
      "cell_type": "code",
      "source": [
        "for move in moves_02:\n",
        "  move_2, move_3 = other_points(move,moves_02)\n",
        "  print(0.8*(reward + gamma*V[move]+(0.2/len(moves_02))*(2*reward + gamma*(V[move_2]+V[move_3]))))"
      ],
      "metadata": {
        "colab": {
          "base_uri": "https://localhost:8080/"
        },
        "id": "Vg7APXQkhpia",
        "outputId": "cb9e3bc0-b23b-4fbd-bacb-c1056c7c2493"
      },
      "execution_count": 105,
      "outputs": [
        {
          "output_type": "stream",
          "name": "stdout",
          "text": [
            "0.048\n",
            "0.048\n",
            "0.7200000000000001\n"
          ]
        }
      ]
    },
    {
      "cell_type": "code",
      "source": [
        "V[0,2] = max( 0.8*(reward + gamma*V[0,3] ) + 0.1*(reward + gamma*V[0,1]) + 0.1*(reward + gamma*V[1,2]),\n",
        "              0.1*(reward + gamma*V[0,3] ) + 0.8*(reward + gamma*V[0,1]) + 0.1*(reward + gamma*V[1,2]),\n",
        "              0.1*(reward + gamma*V[0,3] ) + 0.1*(reward + gamma*V[0,1]) + 0.8*(reward + gamma*V[1,2]))"
      ],
      "metadata": {
        "id": "Drt3Fi3ahDR9"
      },
      "execution_count": 84,
      "outputs": []
    },
    {
      "cell_type": "code",
      "source": [
        "V"
      ],
      "metadata": {
        "colab": {
          "base_uri": "https://localhost:8080/"
        },
        "id": "gor8keAzhS-7",
        "outputId": "4271c9fc-0303-4e84-af1c-9331828187f3"
      },
      "execution_count": 85,
      "outputs": [
        {
          "output_type": "execute_result",
          "data": {
            "text/plain": [
              "array([[   0.  ,    0.  ,    0.72,    1.  ],\n",
              "       [   0.  , -100.  ,    0.  ,   -1.  ],\n",
              "       [   0.  ,    0.  ,    0.  ,    0.  ]])"
            ]
          },
          "metadata": {},
          "execution_count": 85
        }
      ]
    }
  ]
}