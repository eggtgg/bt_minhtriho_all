{
  "nbformat": 4,
  "nbformat_minor": 0,
  "metadata": {
    "colab": {
      "provenance": [],
      "authorship_tag": "ABX9TyNTSncoCFLrT1KQXTeZI7VX",
      "include_colab_link": true
    },
    "kernelspec": {
      "name": "python3",
      "display_name": "Python 3"
    },
    "language_info": {
      "name": "python"
    }
  },
  "cells": [
    {
      "cell_type": "markdown",
      "metadata": {
        "id": "view-in-github",
        "colab_type": "text"
      },
      "source": [
        "<a href=\"https://colab.research.google.com/github/eggtgg/bt_minhtriho_all/blob/main/hoctangcuong/bt5-22.03.23/tao_ham_day5_HoMinhTri.ipynb\" target=\"_parent\"><img src=\"https://colab.research.google.com/assets/colab-badge.svg\" alt=\"Open In Colab\"/></a>"
      ]
    },
    {
      "cell_type": "code",
      "execution_count": 138,
      "metadata": {
        "id": "4OQf2xR0NtV1"
      },
      "outputs": [],
      "source": [
        "import numpy as np"
      ]
    },
    {
      "cell_type": "code",
      "source": [
        "V = np.zeros((3,4))"
      ],
      "metadata": {
        "id": "LOW5QXQzNv7E"
      },
      "execution_count": 139,
      "outputs": []
    },
    {
      "cell_type": "code",
      "source": [
        "V\n",
        "lock = [(1,1)]\n",
        "done = [(0,3),(1,3),(2,0), (1,1)]"
      ],
      "metadata": {
        "id": "o8F8RxqhNyIc"
      },
      "execution_count": 140,
      "outputs": []
    },
    {
      "cell_type": "code",
      "source": [
        "reward = 0"
      ],
      "metadata": {
        "id": "hyCpJM-bhOG0"
      },
      "execution_count": 141,
      "outputs": []
    },
    {
      "cell_type": "code",
      "source": [
        "V"
      ],
      "metadata": {
        "colab": {
          "base_uri": "https://localhost:8080/"
        },
        "id": "BaiZeFEWaRfn",
        "outputId": "3ff49b87-c772-4953-d71c-faa607b5894c"
      },
      "execution_count": 142,
      "outputs": [
        {
          "output_type": "execute_result",
          "data": {
            "text/plain": [
              "array([[0., 0., 0., 0.],\n",
              "       [0., 0., 0., 0.],\n",
              "       [0., 0., 0., 0.]])"
            ]
          },
          "metadata": {},
          "execution_count": 142
        }
      ]
    },
    {
      "cell_type": "code",
      "source": [
        "def find_move(x,y, shape_v):\n",
        "  up = (x-1, y)\n",
        "  down = (x+1, y)\n",
        "  left = (x, y-1)\n",
        "  right = (x, y+1)\n",
        "\n",
        "  list_move = [up, down, left, right]\n",
        "\n",
        "  true_list_move = []\n",
        "  for move in list_move:\n",
        "    for stt,i in enumerate(move):\n",
        "      if i < 0:\n",
        "        break\n",
        "      elif i >= shape_v[stt]:\n",
        "        break\n",
        "      if stt:\n",
        "        true_list_move.append(move)\n",
        "  for l in lock:\n",
        "    if l in true_list_move:\n",
        "      true_list_move.remove(l)\n",
        "  return true_list_move"
      ],
      "metadata": {
        "id": "hFmNXqwsODFe"
      },
      "execution_count": 143,
      "outputs": []
    },
    {
      "cell_type": "code",
      "source": [
        "moves = find_move(1,2, V.shape)"
      ],
      "metadata": {
        "id": "GNjUPL88RQHW"
      },
      "execution_count": 144,
      "outputs": []
    },
    {
      "cell_type": "code",
      "source": [
        "for l in lock:\n",
        "  if l in moves:\n",
        "    moves.remove(l)"
      ],
      "metadata": {
        "id": "e29T2A53ZUn_"
      },
      "execution_count": 145,
      "outputs": []
    },
    {
      "cell_type": "code",
      "source": [
        "moves"
      ],
      "metadata": {
        "colab": {
          "base_uri": "https://localhost:8080/"
        },
        "id": "4aX99Yc5ZjJJ",
        "outputId": "f8f7bb1b-3e11-429d-bd38-10e5320b5cbf"
      },
      "execution_count": 146,
      "outputs": [
        {
          "output_type": "execute_result",
          "data": {
            "text/plain": [
              "[(0, 2), (2, 2), (1, 3)]"
            ]
          },
          "metadata": {},
          "execution_count": 146
        }
      ]
    },
    {
      "cell_type": "code",
      "source": [
        "V[1,3]=-1\n",
        "V[0,3] = 1\n",
        "V[1,1] = -100\n",
        "gamma = 0.9"
      ],
      "metadata": {
        "id": "baBz5zFlfumt"
      },
      "execution_count": 147,
      "outputs": []
    },
    {
      "cell_type": "code",
      "source": [
        "V"
      ],
      "metadata": {
        "colab": {
          "base_uri": "https://localhost:8080/"
        },
        "id": "2eoRjYOZfwIU",
        "outputId": "a828141c-bc99-47e6-b27c-509156c7d43c"
      },
      "execution_count": 148,
      "outputs": [
        {
          "output_type": "execute_result",
          "data": {
            "text/plain": [
              "array([[   0.,    0.,    0.,    1.],\n",
              "       [   0., -100.,    0.,   -1.],\n",
              "       [   0.,    0.,    0.,    0.]])"
            ]
          },
          "metadata": {},
          "execution_count": 148
        }
      ]
    },
    {
      "cell_type": "code",
      "source": [
        "moves_02 = find_move(0,2, V.shape)"
      ],
      "metadata": {
        "id": "2jNij1GShjaD"
      },
      "execution_count": 149,
      "outputs": []
    },
    {
      "cell_type": "code",
      "source": [
        "moves_02"
      ],
      "metadata": {
        "colab": {
          "base_uri": "https://localhost:8080/"
        },
        "id": "ISzNNCWUrhVL",
        "outputId": "9bffca62-572b-47bb-da35-05aeba24a7fa"
      },
      "execution_count": 150,
      "outputs": [
        {
          "output_type": "execute_result",
          "data": {
            "text/plain": [
              "[(1, 2), (0, 1), (0, 3)]"
            ]
          },
          "metadata": {},
          "execution_count": 150
        }
      ]
    },
    {
      "cell_type": "code",
      "source": [
        "def other_points(input_value, list_point):\n",
        "    list_a = []\n",
        "    if input_value in list_point:\n",
        "        for item in list_point:\n",
        "            if item != input_value:\n",
        "                list_a.append(item)\n",
        "    else:\n",
        "        print(\"Giá trị nhập không hợp lệ.\")\n",
        "    return list_a"
      ],
      "metadata": {
        "id": "88InUSYgkngx"
      },
      "execution_count": 151,
      "outputs": []
    },
    {
      "cell_type": "code",
      "source": [
        "def update_value(moves):\n",
        "  value_range = []\n",
        "  for move in moves:\n",
        "    position_other_points = other_points(move,moves)\n",
        "    sum_other_points = 0\n",
        "    for position in position_other_points:\n",
        "      point = V[position]\n",
        "      sum_other_points+=point\n",
        "    value = 0.8*(reward + gamma*V[move]+(0.2/(len(moves)-1))*(2*reward + gamma*sum_other_points))\n",
        "    value_range.append(value)\n",
        "  return max(value_range)"
      ],
      "metadata": {
        "id": "Vg7APXQkhpia"
      },
      "execution_count": 152,
      "outputs": []
    },
    {
      "cell_type": "code",
      "source": [
        "for i in [1,2,3]:\n",
        "  i +=i\n",
        "  print(i)"
      ],
      "metadata": {
        "colab": {
          "base_uri": "https://localhost:8080/"
        },
        "id": "0NCQch3CpEB_",
        "outputId": "d422562b-82ab-42ad-e6ed-c726a034d8f3"
      },
      "execution_count": 153,
      "outputs": [
        {
          "output_type": "stream",
          "name": "stdout",
          "text": [
            "2\n",
            "4\n",
            "6\n"
          ]
        }
      ]
    },
    {
      "cell_type": "code",
      "source": [
        "for _ in range(5):\n",
        "  for i, row in enumerate(V):\n",
        "    #print(i)\n",
        "    for j, _ in enumerate(row):\n",
        "      if (i,j) not in done:\n",
        "        moves = find_move(i,j, V.shape)\n",
        "        V[i,j] = update_value(moves)\n",
        "\n",
        "  print(V, \"\\n\")"
      ],
      "metadata": {
        "colab": {
          "base_uri": "https://localhost:8080/"
        },
        "id": "gor8keAzhS-7",
        "outputId": "09f3d3e3-757e-4374-f8a6-bec0817ecace"
      },
      "execution_count": 154,
      "outputs": [
        {
          "output_type": "stream",
          "name": "stdout",
          "text": [
            "[[ 0.000000e+00  0.000000e+00  7.200000e-01  1.000000e+00]\n",
            " [ 0.000000e+00 -1.000000e+02  4.464000e-01 -1.000000e+00]\n",
            " [ 0.000000e+00  0.000000e+00  3.214080e-01  8.741376e-02]] \n",
            "\n",
            "[[   0.            0.5184        0.7894656     1.        ]\n",
            " [   0.         -100.            0.51955661   -1.        ]\n",
            " [   0.            0.23141376    0.39703634    0.14186616]] \n",
            "\n",
            "[[   0.373248      0.62216294    0.80220381    1.        ]\n",
            " [   0.26873856 -100.            0.53417336   -1.        ]\n",
            " [   0.            0.28586616    0.41540155    0.15508911]] \n",
            "\n",
            "[[   0.48665567    0.64766516    0.80509237    1.        ]\n",
            " [   0.35039208 -100.            0.53757542   -1.        ]\n",
            " [   0.            0.29908911    0.41975513    0.1582237 ]] \n",
            "\n",
            "[[   0.51677537    0.65408216    0.80579935    1.        ]\n",
            " [   0.37207827 -100.            0.5383979    -1.        ]\n",
            " [   0.            0.3022237     0.4207987     0.15897506]] \n",
            "\n"
          ]
        }
      ]
    }
  ]
}