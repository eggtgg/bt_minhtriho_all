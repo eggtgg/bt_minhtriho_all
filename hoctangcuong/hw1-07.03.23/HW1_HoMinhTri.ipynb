{
  "nbformat": 4,
  "nbformat_minor": 0,
  "metadata": {
    "colab": {
      "provenance": [],
      "authorship_tag": "ABX9TyOvld5SVxriRkgWEioYPRtx",
      "include_colab_link": true
    },
    "kernelspec": {
      "name": "python3",
      "display_name": "Python 3"
    },
    "language_info": {
      "name": "python"
    }
  },
  "cells": [
    {
      "cell_type": "markdown",
      "metadata": {
        "id": "view-in-github",
        "colab_type": "text"
      },
      "source": [
        "<a href=\"https://colab.research.google.com/github/eggtgg/bt_minhtriho_all/blob/main/hoctangcuong/hw1-07.03.23/HW1_HoMinhTri.ipynb\" target=\"_parent\"><img src=\"https://colab.research.google.com/assets/colab-badge.svg\" alt=\"Open In Colab\"/></a>"
      ]
    },
    {
      "cell_type": "code",
      "execution_count": 106,
      "metadata": {
        "id": "MPR5dHs3O446"
      },
      "outputs": [],
      "source": [
        "import numpy as np\n",
        "import matplotlib.pyplot as plt\n",
        "from random import choices"
      ]
    },
    {
      "cell_type": "markdown",
      "source": [
        "### Tỉ lệ p và q không đổi theo thời gian\n",
        "Xác suất xuất hiện của 1 trận thắng và thua không đổi qua nhiều lượt chơi khác nhau (Không có ràng buộc về sự chuyển trạng thái).\n",
        "\n",
        "Suy ra: p_win_1 = p_win_2 = p_win_3 = ... = p_win_n"
      ],
      "metadata": {
        "id": "cjlYZUSFk7vT"
      }
    },
    {
      "cell_type": "code",
      "source": [
        "# @title Hàm tính xác xuất ra về với số tiền mong muốn\n",
        "def proba(w0, p, N, times, n_simulate):\n",
        "  choice = [0, 1]\n",
        "  weights = [1-p, p]\n",
        "  count = 0\n",
        "  for i in range(n_simulate):\n",
        "    w=w0\n",
        "\n",
        "    for j in range(times):\n",
        "      random_choice = choices(choice, weights)[0]\n",
        "      # kiểm tra\n",
        "      if random_choice:\n",
        "        w+=1\n",
        "      else:\n",
        "        w-=1\n",
        "      # cập nhật\n",
        "      if w==N:\n",
        "        count += 1\n",
        "        break\n",
        "      if w==0:\n",
        "        break\n",
        "  return count/n_simulate"
      ],
      "metadata": {
        "id": "JzA7YVcNPKT9"
      },
      "execution_count": 75,
      "outputs": []
    },
    {
      "cell_type": "code",
      "source": [
        "proba(w0=20, p=0.5, N= 0, times = 40, n_simulate=10000)"
      ],
      "metadata": {
        "colab": {
          "base_uri": "https://localhost:8080/"
        },
        "id": "kIiXA6WVQJrW",
        "outputId": "84c89b3d-056d-4c7e-f3ef-0be7ac880b45"
      },
      "execution_count": 77,
      "outputs": [
        {
          "output_type": "execute_result",
          "data": {
            "text/plain": [
              "0.0011"
            ]
          },
          "metadata": {},
          "execution_count": 77
        }
      ]
    },
    {
      "cell_type": "code",
      "source": [
        "# @title (1) Xác suất ra về trắng tay với tối đa 100 lượt chơi\n",
        "# về tay trắng tức mục tiêu đạt được 0 đồng N=0, giả sử chơi 100 lượt\n",
        "# N = 0, time 100, w0=20, p= 0.25,0.75,0.5\n",
        "ps = [0.25, 0.5, 0.75]\n",
        "N = 0\n",
        "w0= 20\n",
        "times = 100\n",
        "for p in ps:\n",
        "  rate = proba(w0=20, p=p, N = N, times = times, n_simulate=10000)\n",
        "  msg = f'Với tỉ lệ thắng {p}, xác suất ra về với số tiền bằng {N} là: {rate*100}%'\n",
        "  print(msg)"
      ],
      "metadata": {
        "colab": {
          "base_uri": "https://localhost:8080/"
        },
        "id": "urdk2eIaX_ya",
        "outputId": "0f3d570d-1c75-40b5-db52-09fbca6025c7"
      },
      "execution_count": 87,
      "outputs": [
        {
          "output_type": "stream",
          "name": "stdout",
          "text": [
            "Với tỉ lệ thắng 0.25, xác suất ra về với số tiền bằng 0 là: 99.99%\n",
            "Với tỉ lệ thắng 0.5, xác suất ra về với số tiền bằng 0 là: 4.87%\n",
            "Với tỉ lệ thắng 0.75, xác suất ra về với số tiền bằng 0 là: 0.0%\n"
          ]
        }
      ]
    },
    {
      "cell_type": "code",
      "source": [
        "# @title (2) Xác suất ra về với 100 đồng với tối đa 100 lượt chơi\n",
        "\n",
        "# N = 100, time 100, w0=20, p= 0.25,0.75,0.5\n",
        "ps = [0.25, 0.5, 0.75]\n",
        "N = 100\n",
        "w0= 20\n",
        "times = 100\n",
        "for p in ps:\n",
        "  rate = proba(w0=w0, p=p, N = N, times = times, n_simulate=10000)\n",
        "  msg = f'Với tỉ lệ thắng {p}, xác suất ra về với số tiền bằng {N} là: {rate*100}%'\n",
        "  print(msg)"
      ],
      "metadata": {
        "colab": {
          "base_uri": "https://localhost:8080/"
        },
        "id": "7HxiQgb-ZdZc",
        "outputId": "2b8e7a44-0c8f-40f6-f870-b377b28f4599"
      },
      "execution_count": 93,
      "outputs": [
        {
          "output_type": "stream",
          "name": "stdout",
          "text": [
            "Với tỉ lệ thắng 0.25, xác suất ra về với số tiền bằng 100 là: 0.0%\n",
            "Với tỉ lệ thắng 0.5, xác suất ra về với số tiền bằng 100 là: 0.0%\n",
            "Với tỉ lệ thắng 0.75, xác suất ra về với số tiền bằng 100 là: 0.03%\n"
          ]
        }
      ]
    },
    {
      "cell_type": "markdown",
      "source": [
        "## (3) Nhận xét\n",
        "* p=0.25. Tài sản càng cao khiến tỉ lệ ra về tay trắng thấp. (Chơi càng nhiều càng dễ ra về tay trắng)\n",
        "\n",
        "* p=0.5. Tài sản càng cao khiến tỉ lệ ra về tay trắng càng thấp. (Khi tài sản cao hầu như tỉ lệ ra về tay trắng bằng không)\n",
        "\n",
        "* p=0.75. Tài sản càng cao khiến tỉ lệ ra về tay trắng càng thấp. (Hầu như w0 không ảnh hưởng đến việc ra về tay trắng, khó để ra về tay trắng)\n",
        "\n",
        "Nếu số lần chơi thấp thì tài sản ban đầu trở thành yếu tố quan trọng để ta có thể ra về tay trắng hay không, ngược lại khi số lần chơi cao, tỉ lệ ra về tay trắng sẽ dần được ổn định dựa theo xác xuất thua và thắng."
      ],
      "metadata": {
        "id": "7OLQ0oxiaVIy"
      }
    },
    {
      "cell_type": "code",
      "source": [
        "# @title (4) Với 100 đồng làm vốn- Xác suất ra về tay trắng với tối đa 300 lượt chơi\n",
        "\n",
        "# N = 100, time 100, w0=20, p= 0.25,0.75,0.5\n",
        "ps = np.arange(0.1, 1, 0.1)\n",
        "N = 0\n",
        "w0= 100\n",
        "times = 300\n",
        "rates = []\n",
        "for p in ps:\n",
        "  rate = proba(w0=w0, p=p, N = N, times = times, n_simulate=10000)\n",
        "  rates.append(rate)\n",
        "  msg = f'Với tỉ lệ thắng {p}, xác suất ra về với số tiền bằng {N} là: {rate*100}%'\n",
        "  print(msg)\n",
        "\n",
        "plt.plot(ps, rates)\n",
        "plt.xlabel('Tỉ lệ thắng (p)')\n",
        "plt.ylabel('Xác suất')\n",
        "plt.title('Xác suất ra về với số tiền bằng 0 với các tỉ lệ thắng khác nhau')\n",
        "plt.show()"
      ],
      "metadata": {
        "colab": {
          "base_uri": "https://localhost:8080/",
          "height": 631
        },
        "id": "-sUy3Z_BhgEu",
        "outputId": "7355d14c-786b-4707-becf-8ec614e40ccc"
      },
      "execution_count": 107,
      "outputs": [
        {
          "output_type": "stream",
          "name": "stdout",
          "text": [
            "Với tỉ lệ thắng 0.1, xác suất ra về với số tiền bằng 0 là: 100.0%\n",
            "Với tỉ lệ thắng 0.2, xác suất ra về với số tiền bằng 0 là: 100.0%\n",
            "Với tỉ lệ thắng 0.30000000000000004, xác suất ra về với số tiền bằng 0 là: 91.07%\n",
            "Với tỉ lệ thắng 0.4, xác suất ra về với số tiền bằng 0 là: 1.24%\n",
            "Với tỉ lệ thắng 0.5, xác suất ra về với số tiền bằng 0 là: 0.0%\n",
            "Với tỉ lệ thắng 0.6, xác suất ra về với số tiền bằng 0 là: 0.0%\n",
            "Với tỉ lệ thắng 0.7000000000000001, xác suất ra về với số tiền bằng 0 là: 0.0%\n",
            "Với tỉ lệ thắng 0.8, xác suất ra về với số tiền bằng 0 là: 0.0%\n",
            "Với tỉ lệ thắng 0.9, xác suất ra về với số tiền bằng 0 là: 0.0%\n"
          ]
        },
        {
          "output_type": "display_data",
          "data": {
            "text/plain": [
              "<Figure size 640x480 with 1 Axes>"
            ],
            "image/png": "[encoded data removed]"
          },
          "metadata": {}
        }
      ]
    }
  ]
}