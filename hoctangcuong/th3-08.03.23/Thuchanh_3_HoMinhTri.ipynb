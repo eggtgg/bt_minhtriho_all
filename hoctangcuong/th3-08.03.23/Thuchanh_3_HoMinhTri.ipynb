{
  "nbformat": 4,
  "nbformat_minor": 0,
  "metadata": {
    "colab": {
      "provenance": [],
      "authorship_tag": "ABX9TyNIy3yskvi4hkSMddC1s82Q",
      "include_colab_link": true
    },
    "kernelspec": {
      "name": "python3",
      "display_name": "Python 3"
    },
    "language_info": {
      "name": "python"
    }
  },
  "cells": [
    {
      "cell_type": "markdown",
      "metadata": {
        "id": "view-in-github",
        "colab_type": "text"
      },
      "source": [
        "<a href=\"https://colab.research.google.com/github/eggtgg/bt_minhtriho_all/blob/main/hoctangcuong/th3-08.03.23/Thuchanh_3_HoMinhTri.ipynb\" target=\"_parent\"><img src=\"https://colab.research.google.com/assets/colab-badge.svg\" alt=\"Open In Colab\"/></a>"
      ]
    },
    {
      "cell_type": "code",
      "source": [
        "import numpy as np\n",
        "import random"
      ],
      "metadata": {
        "id": "I1jvppfZyFBk"
      },
      "execution_count": 153,
      "outputs": []
    },
    {
      "cell_type": "code",
      "source": [
        "#@title Hàm tạo mảng\n",
        "def create_array(len_array,bias):\n",
        "  N=[0]*len_array\n",
        "  numbers = list(range(len_array))\n",
        "  random_bias = random.sample(numbers, bias)\n",
        "  for i in random_bias:\n",
        "    N[i]=1\n",
        "  return N"
      ],
      "metadata": {
        "id": "XuEZ41wA9WRS"
      },
      "execution_count": 234,
      "outputs": []
    },
    {
      "cell_type": "code",
      "source": [
        "N = create_array(10,4)"
      ],
      "metadata": {
        "id": "l7S00NSE_FOs"
      },
      "execution_count": 254,
      "outputs": []
    },
    {
      "cell_type": "code",
      "source": [
        "# @title Hàm giả lập quá trình chơi\n",
        "def play_game(N):\n",
        "  for i in range(len(N)):\n",
        "    a = random.randint(0,len(N)-1)\n",
        "    if N[a]:\n",
        "      print(\"you_lose\")\n",
        "      print(N)\n",
        "      break\n",
        "    else:\n",
        "      N[a]=1\n",
        "      print(\"tiep tuc\")\n",
        "      print(N)\n",
        "    check_win = np.sum(N) == len(N)\n",
        "    if check_win:\n",
        "      print(\"you win\")\n",
        "      print(N)\n",
        "      break"
      ],
      "metadata": {
        "id": "DmtqKPqkBZlz"
      },
      "execution_count": 258,
      "outputs": []
    },
    {
      "cell_type": "code",
      "source": [
        "play_game(N)"
      ],
      "metadata": {
        "colab": {
          "base_uri": "https://localhost:8080/"
        },
        "id": "tY-9M59ZDJ6K",
        "outputId": "d20b6c84-54d5-49a3-a0d2-73f397ccdd1b"
      },
      "execution_count": 263,
      "outputs": [
        {
          "output_type": "stream",
          "name": "stdout",
          "text": [
            "tiep tuc\n",
            "[1, 1, 1, 1, 1, 0, 1, 1, 0, 1]\n",
            "you_lose\n",
            "[1, 1, 1, 1, 1, 0, 1, 1, 0, 1]\n"
          ]
        }
      ]
    },
    {
      "cell_type": "code",
      "source": [
        "#@title Hàm chọn ra các vị trí tối ưu trong mảng đầu vào\n",
        "def check_top_pick(N):\n",
        "  top_pick = []\n",
        "  for stt, i in enumerate(N):\n",
        "    if i==0:\n",
        "      top_pick.append(stt)\n",
        "  return top_pick"
      ],
      "metadata": {
        "id": "b1eiOk7iw7w0"
      },
      "execution_count": 186,
      "outputs": []
    },
    {
      "cell_type": "code",
      "source": [
        "top_pick = check_top_pick(N)\n",
        "print(f\"bạn nên đi vào các ô {top_pick}\")"
      ],
      "metadata": {
        "colab": {
          "base_uri": "https://localhost:8080/"
        },
        "id": "PbZsbGqCxTp2",
        "outputId": "90d3d0c6-c4f3-4694-f5ac-0fa7d4302021"
      },
      "execution_count": 243,
      "outputs": [
        {
          "output_type": "stream",
          "name": "stdout",
          "text": [
            "bạn nên đi vào các ô [0, 1, 2, 4, 6]\n"
          ]
        }
      ]
    },
    {
      "cell_type": "code",
      "source": [
        "#@title Hàm Giả lập 1 lần chơi luôn thắng\n",
        "\n",
        "def play_always_win(N):\n",
        "  for i in range(len(N)):\n",
        "    check_win = np.sum(N) == len(N)\n",
        "    top_pick = check_top_pick(N)\n",
        "    if check_win:\n",
        "        print(\"Mảng đầu vào toàn 1, you lose\")\n",
        "        break\n",
        "    else:\n",
        "        N[top_pick[0]] = 1\n",
        "        check_win = np.sum(N) == len(N)\n",
        "        if check_win:\n",
        "            print(\"you win\")\n",
        "            print(N)\n",
        "            break\n",
        "        print(\"tiep tuc\")\n",
        "\n",
        "        print(N)"
      ],
      "metadata": {
        "id": "2Io1WvZz4I2T"
      },
      "execution_count": 248,
      "outputs": []
    },
    {
      "cell_type": "code",
      "source": [
        "play_always_win(N)"
      ],
      "metadata": {
        "colab": {
          "base_uri": "https://localhost:8080/"
        },
        "id": "uX-M57rt6Jjc",
        "outputId": "f09fedf0-c4f2-4d5d-e9c4-5022f5c77e49"
      },
      "execution_count": 249,
      "outputs": [
        {
          "output_type": "stream",
          "name": "stdout",
          "text": [
            "tiep tuc\n",
            "[1, 1, 0, 0, 0, 1, 0, 1, 1, 0]\n",
            "tiep tuc\n",
            "[1, 1, 1, 0, 0, 1, 0, 1, 1, 0]\n",
            "tiep tuc\n",
            "[1, 1, 1, 1, 0, 1, 0, 1, 1, 0]\n",
            "tiep tuc\n",
            "[1, 1, 1, 1, 1, 1, 0, 1, 1, 0]\n",
            "tiep tuc\n",
            "[1, 1, 1, 1, 1, 1, 1, 1, 1, 0]\n",
            "you win\n",
            "[1, 1, 1, 1, 1, 1, 1, 1, 1, 1]\n"
          ]
        }
      ]
    }
  ]
}