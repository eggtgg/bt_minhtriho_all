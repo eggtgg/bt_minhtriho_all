{
  "nbformat": 4,
  "nbformat_minor": 0,
  "metadata": {
    "colab": {
      "provenance": [],
      "authorship_tag": "ABX9TyNHoagv7XAMz1tbQBcNhHe6",
      "include_colab_link": true
    },
    "kernelspec": {
      "name": "python3",
      "display_name": "Python 3"
    },
    "language_info": {
      "name": "python"
    }
  },
  "cells": [
    {
      "cell_type": "markdown",
      "metadata": {
        "id": "view-in-github",
        "colab_type": "text"
      },
      "source": [
        "<a href=\"https://colab.research.google.com/github/eggtgg/bt_minhtriho_all/blob/main/hoctangcuong/th3-08.03.23/Thuchanh_3_HoMinhTri.ipynb\" target=\"_parent\"><img src=\"https://colab.research.google.com/assets/colab-badge.svg\" alt=\"Open In Colab\"/></a>"
      ]
    },
    {
      "cell_type": "code",
      "source": [
        "import numpy as np\n",
        "import random"
      ],
      "metadata": {
        "id": "I1jvppfZyFBk"
      },
      "execution_count": 153,
      "outputs": []
    },
    {
      "cell_type": "code",
      "execution_count": 213,
      "metadata": {
        "id": "kViv4o9KwGa1"
      },
      "outputs": [],
      "source": [
        "N0=[0]*10\n",
        "N0[1]= N0[8] =1"
      ]
    },
    {
      "cell_type": "code",
      "source": [
        "N = list(N0)"
      ],
      "metadata": {
        "id": "HSTYKxIswRdd"
      },
      "execution_count": 214,
      "outputs": []
    },
    {
      "cell_type": "code",
      "source": [
        "N"
      ],
      "metadata": {
        "colab": {
          "base_uri": "https://localhost:8080/"
        },
        "id": "3BPsqABLwslj",
        "outputId": "31280ecd-eda4-4cbe-998a-cf8b8442f0a2"
      },
      "execution_count": 184,
      "outputs": [
        {
          "output_type": "execute_result",
          "data": {
            "text/plain": [
              "[0, 1, 0, 0, 0, 0, 0, 0, 1, 0]"
            ]
          },
          "metadata": {},
          "execution_count": 184
        }
      ]
    },
    {
      "cell_type": "code",
      "source": [
        "#@title Hàm chọn ra các vị trí tối ưu trong mảng đầu vào\n",
        "def check_top_pick(N):\n",
        "  top_pick = []\n",
        "  for stt, i in enumerate(N):\n",
        "    if i==0:\n",
        "      top_pick.append(stt)\n",
        "  return top_pick"
      ],
      "metadata": {
        "id": "b1eiOk7iw7w0"
      },
      "execution_count": 186,
      "outputs": []
    },
    {
      "cell_type": "code",
      "source": [
        "check_top_pick(N)"
      ],
      "metadata": {
        "colab": {
          "base_uri": "https://localhost:8080/"
        },
        "id": "PbZsbGqCxTp2",
        "outputId": "30e9687c-85ff-4e2c-b0b2-5b4925a546bc"
      },
      "execution_count": 187,
      "outputs": [
        {
          "output_type": "execute_result",
          "data": {
            "text/plain": [
              "[0, 2, 3, 4, 5, 6, 9]"
            ]
          },
          "metadata": {},
          "execution_count": 187
        }
      ]
    },
    {
      "cell_type": "code",
      "source": [
        "#@title Hàm Giả lập 1 lần chơi luôn thắng\n",
        "\n",
        "def play_always_win(N):\n",
        "  for i in range(len(N)):\n",
        "    check_win = np.sum(N) == len(N)\n",
        "    top_pick = check_top_pick(N)\n",
        "    if check_win:\n",
        "        print(\"you lose\")\n",
        "        break\n",
        "    else:\n",
        "        N[top_pick[0]] = 1\n",
        "        check_win = np.sum(N) == len(N)\n",
        "        if check_win:\n",
        "            print(\"you win\")\n",
        "            print(N)\n",
        "            break\n",
        "        print(\"tiep tuc\")\n",
        "\n",
        "        print(N)"
      ],
      "metadata": {
        "id": "2Io1WvZz4I2T"
      },
      "execution_count": 212,
      "outputs": []
    },
    {
      "cell_type": "code",
      "source": [
        "play_always_win(N)"
      ],
      "metadata": {
        "colab": {
          "base_uri": "https://localhost:8080/"
        },
        "id": "uX-M57rt6Jjc",
        "outputId": "26550f3e-4d6c-44d3-eda6-a30c163ab2cc"
      },
      "execution_count": 215,
      "outputs": [
        {
          "output_type": "stream",
          "name": "stdout",
          "text": [
            "tiep tuc\n",
            "[1, 1, 0, 0, 0, 0, 0, 0, 1, 0]\n",
            "tiep tuc\n",
            "[1, 1, 1, 0, 0, 0, 0, 0, 1, 0]\n",
            "tiep tuc\n",
            "[1, 1, 1, 1, 0, 0, 0, 0, 1, 0]\n",
            "tiep tuc\n",
            "[1, 1, 1, 1, 1, 0, 0, 0, 1, 0]\n",
            "tiep tuc\n",
            "[1, 1, 1, 1, 1, 1, 0, 0, 1, 0]\n",
            "tiep tuc\n",
            "[1, 1, 1, 1, 1, 1, 1, 0, 1, 0]\n",
            "tiep tuc\n",
            "[1, 1, 1, 1, 1, 1, 1, 1, 1, 0]\n",
            "you win\n",
            "[1, 1, 1, 1, 1, 1, 1, 1, 1, 1]\n"
          ]
        }
      ]
    }
  ]
}