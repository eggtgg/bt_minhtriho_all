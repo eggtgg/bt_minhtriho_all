{
 "cells": [
  {
   "cell_type": "markdown",
   "metadata": {},
   "source": [
    "## Bài tiểu luận cuối học kỳ\n",
    "- **Môn:** toán và thống kê cho KHDL\n",
    "- **Họ và tên:** Hồ Minh Trí\n",
    "- **Mã sinh viên:** 20E1020081"
   ]
  },
  {
   "cell_type": "code",
   "execution_count": 1,
   "metadata": {},
   "outputs": [],
   "source": [
    "import numpy as np\n",
    "import pandas as pd\n",
    "from matplotlib import pyplot as plt\n",
    "from scipy import stats, interpolate\n",
    "import seaborn as sns"
   ]
  },
  {
   "cell_type": "code",
   "execution_count": 2,
   "metadata": {},
   "outputs": [],
   "source": [
    "df = pd.read_csv('Diem.csv')"
   ]
  },
  {
   "cell_type": "code",
   "execution_count": 3,
   "metadata": {},
   "outputs": [
    {
     "data": {
      "text/html": [
       "<div>\n",
       "<style scoped>\n",
       "    .dataframe tbody tr th:only-of-type {\n",
       "        vertical-align: middle;\n",
       "    }\n",
       "\n",
       "    .dataframe tbody tr th {\n",
       "        vertical-align: top;\n",
       "    }\n",
       "\n",
       "    .dataframe thead th {\n",
       "        text-align: right;\n",
       "    }\n",
       "</style>\n",
       "<table border=\"1\" class=\"dataframe\">\n",
       "  <thead>\n",
       "    <tr style=\"text-align: right;\">\n",
       "      <th></th>\n",
       "      <th>Mã SV</th>\n",
       "      <th>Điểm TBTN</th>\n",
       "      <th>Tỉ lệ Văn/Toán</th>\n",
       "      <th>Tổng HS</th>\n",
       "      <th>Hạng PT</th>\n",
       "      <th>Giới tính</th>\n",
       "      <th>Dân tộc</th>\n",
       "      <th>Học kỳ</th>\n",
       "      <th>Thời gian tự học</th>\n",
       "      <th>Điểm giữa kỳ</th>\n",
       "      <th>Thể thao</th>\n",
       "      <th>Điểm cuối kỳ</th>\n",
       "    </tr>\n",
       "  </thead>\n",
       "  <tbody>\n",
       "    <tr>\n",
       "      <th>587</th>\n",
       "      <td>588</td>\n",
       "      <td>8.25</td>\n",
       "      <td>0.82</td>\n",
       "      <td>771</td>\n",
       "      <td>481</td>\n",
       "      <td>Nam</td>\n",
       "      <td>Kinh</td>\n",
       "      <td>1</td>\n",
       "      <td>0</td>\n",
       "      <td>1.50</td>\n",
       "      <td>0</td>\n",
       "      <td>0.00</td>\n",
       "    </tr>\n",
       "    <tr>\n",
       "      <th>430</th>\n",
       "      <td>431</td>\n",
       "      <td>5.59</td>\n",
       "      <td>0.90</td>\n",
       "      <td>148</td>\n",
       "      <td>26</td>\n",
       "      <td>Nữ</td>\n",
       "      <td>Kinh</td>\n",
       "      <td>2</td>\n",
       "      <td>49</td>\n",
       "      <td>2.76</td>\n",
       "      <td>0</td>\n",
       "      <td>2.73</td>\n",
       "    </tr>\n",
       "    <tr>\n",
       "      <th>7</th>\n",
       "      <td>8</td>\n",
       "      <td>6.71</td>\n",
       "      <td>1.00</td>\n",
       "      <td>383</td>\n",
       "      <td>66</td>\n",
       "      <td>Nam</td>\n",
       "      <td>Kinh</td>\n",
       "      <td>1</td>\n",
       "      <td>91</td>\n",
       "      <td>2.80</td>\n",
       "      <td>0</td>\n",
       "      <td>2.35</td>\n",
       "    </tr>\n",
       "    <tr>\n",
       "      <th>230</th>\n",
       "      <td>231</td>\n",
       "      <td>5.80</td>\n",
       "      <td>0.93</td>\n",
       "      <td>10</td>\n",
       "      <td>5</td>\n",
       "      <td>Nam</td>\n",
       "      <td>Khác</td>\n",
       "      <td>2</td>\n",
       "      <td>13</td>\n",
       "      <td>1.20</td>\n",
       "      <td>1</td>\n",
       "      <td>1.30</td>\n",
       "    </tr>\n",
       "    <tr>\n",
       "      <th>456</th>\n",
       "      <td>457</td>\n",
       "      <td>7.13</td>\n",
       "      <td>0.70</td>\n",
       "      <td>10</td>\n",
       "      <td>10</td>\n",
       "      <td>Nam</td>\n",
       "      <td>Kinh</td>\n",
       "      <td>2</td>\n",
       "      <td>17</td>\n",
       "      <td>2.46</td>\n",
       "      <td>0</td>\n",
       "      <td>1.76</td>\n",
       "    </tr>\n",
       "    <tr>\n",
       "      <th>523</th>\n",
       "      <td>524</td>\n",
       "      <td>8.53</td>\n",
       "      <td>0.74</td>\n",
       "      <td>465</td>\n",
       "      <td>8</td>\n",
       "      <td>Nam</td>\n",
       "      <td>Khác</td>\n",
       "      <td>1</td>\n",
       "      <td>0</td>\n",
       "      <td>4.00</td>\n",
       "      <td>0</td>\n",
       "      <td>0.00</td>\n",
       "    </tr>\n",
       "    <tr>\n",
       "      <th>542</th>\n",
       "      <td>543</td>\n",
       "      <td>6.85</td>\n",
       "      <td>0.88</td>\n",
       "      <td>238</td>\n",
       "      <td>46</td>\n",
       "      <td>Nam</td>\n",
       "      <td>Kinh</td>\n",
       "      <td>2</td>\n",
       "      <td>13</td>\n",
       "      <td>2.53</td>\n",
       "      <td>1</td>\n",
       "      <td>2.76</td>\n",
       "    </tr>\n",
       "    <tr>\n",
       "      <th>621</th>\n",
       "      <td>622</td>\n",
       "      <td>8.39</td>\n",
       "      <td>0.62</td>\n",
       "      <td>415</td>\n",
       "      <td>14</td>\n",
       "      <td>Nam</td>\n",
       "      <td>Kinh</td>\n",
       "      <td>1</td>\n",
       "      <td>0</td>\n",
       "      <td>3.38</td>\n",
       "      <td>1</td>\n",
       "      <td>0.00</td>\n",
       "    </tr>\n",
       "    <tr>\n",
       "      <th>48</th>\n",
       "      <td>49</td>\n",
       "      <td>5.66</td>\n",
       "      <td>1.08</td>\n",
       "      <td>227</td>\n",
       "      <td>56</td>\n",
       "      <td>Nữ</td>\n",
       "      <td>Kinh</td>\n",
       "      <td>2</td>\n",
       "      <td>42</td>\n",
       "      <td>2.85</td>\n",
       "      <td>0</td>\n",
       "      <td>2.64</td>\n",
       "    </tr>\n",
       "    <tr>\n",
       "      <th>528</th>\n",
       "      <td>529</td>\n",
       "      <td>6.85</td>\n",
       "      <td>0.78</td>\n",
       "      <td>240</td>\n",
       "      <td>120</td>\n",
       "      <td>Nam</td>\n",
       "      <td>Kinh</td>\n",
       "      <td>2</td>\n",
       "      <td>40</td>\n",
       "      <td>1.75</td>\n",
       "      <td>0</td>\n",
       "      <td>2.07</td>\n",
       "    </tr>\n",
       "  </tbody>\n",
       "</table>\n",
       "</div>"
      ],
      "text/plain": [
       "     Mã SV  Điểm TBTN  Tỉ lệ Văn/Toán  Tổng HS  Hạng PT Giới tính Dân tộc  \\\n",
       "587    588       8.25            0.82      771      481       Nam    Kinh   \n",
       "430    431       5.59            0.90      148       26        Nữ    Kinh   \n",
       "7        8       6.71            1.00      383       66       Nam    Kinh   \n",
       "230    231       5.80            0.93       10        5       Nam    Khác   \n",
       "456    457       7.13            0.70       10       10       Nam    Kinh   \n",
       "523    524       8.53            0.74      465        8       Nam    Khác   \n",
       "542    543       6.85            0.88      238       46       Nam    Kinh   \n",
       "621    622       8.39            0.62      415       14       Nam    Kinh   \n",
       "48      49       5.66            1.08      227       56        Nữ    Kinh   \n",
       "528    529       6.85            0.78      240      120       Nam    Kinh   \n",
       "\n",
       "     Học kỳ  Thời gian tự học  Điểm giữa kỳ  Thể thao  Điểm cuối kỳ  \n",
       "587       1                 0          1.50         0          0.00  \n",
       "430       2                49          2.76         0          2.73  \n",
       "7         1                91          2.80         0          2.35  \n",
       "230       2                13          1.20         1          1.30  \n",
       "456       2                17          2.46         0          1.76  \n",
       "523       1                 0          4.00         0          0.00  \n",
       "542       2                13          2.53         1          2.76  \n",
       "621       1                 0          3.38         1          0.00  \n",
       "48        2                42          2.85         0          2.64  \n",
       "528       2                40          1.75         0          2.07  "
      ]
     },
     "execution_count": 3,
     "metadata": {},
     "output_type": "execute_result"
    }
   ],
   "source": [
    "df.sample(10)"
   ]
  },
  {
   "cell_type": "code",
   "execution_count": 4,
   "metadata": {},
   "outputs": [
    {
     "data": {
      "text/html": [
       "<div>\n",
       "<style scoped>\n",
       "    .dataframe tbody tr th:only-of-type {\n",
       "        vertical-align: middle;\n",
       "    }\n",
       "\n",
       "    .dataframe tbody tr th {\n",
       "        vertical-align: top;\n",
       "    }\n",
       "\n",
       "    .dataframe thead th {\n",
       "        text-align: right;\n",
       "    }\n",
       "</style>\n",
       "<table border=\"1\" class=\"dataframe\">\n",
       "  <thead>\n",
       "    <tr style=\"text-align: right;\">\n",
       "      <th></th>\n",
       "      <th>Mã SV</th>\n",
       "      <th>Điểm TBTN</th>\n",
       "      <th>Tỉ lệ Văn/Toán</th>\n",
       "      <th>Tổng HS</th>\n",
       "      <th>Hạng PT</th>\n",
       "      <th>Học kỳ</th>\n",
       "      <th>Thời gian tự học</th>\n",
       "      <th>Điểm giữa kỳ</th>\n",
       "      <th>Thể thao</th>\n",
       "      <th>Điểm cuối kỳ</th>\n",
       "    </tr>\n",
       "  </thead>\n",
       "  <tbody>\n",
       "    <tr>\n",
       "      <th>count</th>\n",
       "      <td>731.000000</td>\n",
       "      <td>731.000000</td>\n",
       "      <td>731.000000</td>\n",
       "      <td>731.000000</td>\n",
       "      <td>731.000000</td>\n",
       "      <td>731.000000</td>\n",
       "      <td>731.000000</td>\n",
       "      <td>731.000000</td>\n",
       "      <td>731.000000</td>\n",
       "      <td>731.000000</td>\n",
       "    </tr>\n",
       "    <tr>\n",
       "      <th>mean</th>\n",
       "      <td>366.000000</td>\n",
       "      <td>6.283543</td>\n",
       "      <td>0.854802</td>\n",
       "      <td>313.181943</td>\n",
       "      <td>108.046512</td>\n",
       "      <td>1.500684</td>\n",
       "      <td>47.061560</td>\n",
       "      <td>2.331382</td>\n",
       "      <td>0.325581</td>\n",
       "      <td>2.080629</td>\n",
       "    </tr>\n",
       "    <tr>\n",
       "      <th>std</th>\n",
       "      <td>211.165812</td>\n",
       "      <td>1.175870</td>\n",
       "      <td>0.153612</td>\n",
       "      <td>198.603442</td>\n",
       "      <td>109.667420</td>\n",
       "      <td>0.500342</td>\n",
       "      <td>35.134151</td>\n",
       "      <td>0.758158</td>\n",
       "      <td>0.468913</td>\n",
       "      <td>0.990275</td>\n",
       "    </tr>\n",
       "    <tr>\n",
       "      <th>min</th>\n",
       "      <td>1.000000</td>\n",
       "      <td>3.150000</td>\n",
       "      <td>0.460000</td>\n",
       "      <td>4.000000</td>\n",
       "      <td>1.000000</td>\n",
       "      <td>1.000000</td>\n",
       "      <td>0.000000</td>\n",
       "      <td>0.000000</td>\n",
       "      <td>0.000000</td>\n",
       "      <td>0.000000</td>\n",
       "    </tr>\n",
       "    <tr>\n",
       "      <th>25%</th>\n",
       "      <td>183.500000</td>\n",
       "      <td>5.520000</td>\n",
       "      <td>0.750000</td>\n",
       "      <td>169.000000</td>\n",
       "      <td>28.500000</td>\n",
       "      <td>1.000000</td>\n",
       "      <td>15.000000</td>\n",
       "      <td>1.840000</td>\n",
       "      <td>0.000000</td>\n",
       "      <td>1.870000</td>\n",
       "    </tr>\n",
       "    <tr>\n",
       "      <th>50%</th>\n",
       "      <td>366.000000</td>\n",
       "      <td>6.290000</td>\n",
       "      <td>0.840000</td>\n",
       "      <td>274.000000</td>\n",
       "      <td>72.000000</td>\n",
       "      <td>2.000000</td>\n",
       "      <td>43.000000</td>\n",
       "      <td>2.330000</td>\n",
       "      <td>0.000000</td>\n",
       "      <td>2.170000</td>\n",
       "    </tr>\n",
       "    <tr>\n",
       "      <th>75%</th>\n",
       "      <td>548.500000</td>\n",
       "      <td>7.130000</td>\n",
       "      <td>0.940000</td>\n",
       "      <td>462.000000</td>\n",
       "      <td>150.000000</td>\n",
       "      <td>2.000000</td>\n",
       "      <td>74.000000</td>\n",
       "      <td>2.830000</td>\n",
       "      <td>1.000000</td>\n",
       "      <td>2.665000</td>\n",
       "    </tr>\n",
       "    <tr>\n",
       "      <th>max</th>\n",
       "      <td>731.000000</td>\n",
       "      <td>10.000000</td>\n",
       "      <td>1.420000</td>\n",
       "      <td>850.000000</td>\n",
       "      <td>529.000000</td>\n",
       "      <td>2.000000</td>\n",
       "      <td>134.000000</td>\n",
       "      <td>4.000000</td>\n",
       "      <td>1.000000</td>\n",
       "      <td>4.000000</td>\n",
       "    </tr>\n",
       "  </tbody>\n",
       "</table>\n",
       "</div>"
      ],
      "text/plain": [
       "            Mã SV   Điểm TBTN  Tỉ lệ Văn/Toán     Tổng HS     Hạng PT  \\\n",
       "count  731.000000  731.000000      731.000000  731.000000  731.000000   \n",
       "mean   366.000000    6.283543        0.854802  313.181943  108.046512   \n",
       "std    211.165812    1.175870        0.153612  198.603442  109.667420   \n",
       "min      1.000000    3.150000        0.460000    4.000000    1.000000   \n",
       "25%    183.500000    5.520000        0.750000  169.000000   28.500000   \n",
       "50%    366.000000    6.290000        0.840000  274.000000   72.000000   \n",
       "75%    548.500000    7.130000        0.940000  462.000000  150.000000   \n",
       "max    731.000000   10.000000        1.420000  850.000000  529.000000   \n",
       "\n",
       "           Học kỳ  Thời gian tự học  Điểm giữa kỳ    Thể thao  Điểm cuối kỳ  \n",
       "count  731.000000        731.000000    731.000000  731.000000    731.000000  \n",
       "mean     1.500684         47.061560      2.331382    0.325581      2.080629  \n",
       "std      0.500342         35.134151      0.758158    0.468913      0.990275  \n",
       "min      1.000000          0.000000      0.000000    0.000000      0.000000  \n",
       "25%      1.000000         15.000000      1.840000    0.000000      1.870000  \n",
       "50%      2.000000         43.000000      2.330000    0.000000      2.170000  \n",
       "75%      2.000000         74.000000      2.830000    1.000000      2.665000  \n",
       "max      2.000000        134.000000      4.000000    1.000000      4.000000  "
      ]
     },
     "execution_count": 4,
     "metadata": {},
     "output_type": "execute_result"
    }
   ],
   "source": [
    "df.describe()"
   ]
  },
  {
   "cell_type": "code",
   "execution_count": 6,
   "metadata": {},
   "outputs": [],
   "source": [
    "columns_dinh_luong = ['Điểm TBTN', 'Tỉ lệ Văn/Toán', 'Thời gian tự học',\n",
    "                     'Điểm giữa kỳ', 'Điểm cuối kỳ']\n",
    "columns_dinh_tinh = ['Giới tính', 'Dân tộc', 'Học kỳ', 'Thể thao']"
   ]
  },
  {
   "cell_type": "code",
   "execution_count": 7,
   "metadata": {},
   "outputs": [
    {
     "data": {
      "text/html": [
       "<div>\n",
       "<style scoped>\n",
       "    .dataframe tbody tr th:only-of-type {\n",
       "        vertical-align: middle;\n",
       "    }\n",
       "\n",
       "    .dataframe tbody tr th {\n",
       "        vertical-align: top;\n",
       "    }\n",
       "\n",
       "    .dataframe thead th {\n",
       "        text-align: right;\n",
       "    }\n",
       "</style>\n",
       "<table border=\"1\" class=\"dataframe\">\n",
       "  <thead>\n",
       "    <tr style=\"text-align: right;\">\n",
       "      <th></th>\n",
       "      <th>Điểm TBTN</th>\n",
       "      <th>Tỉ lệ Văn/Toán</th>\n",
       "      <th>Thời gian tự học</th>\n",
       "      <th>Điểm giữa kỳ</th>\n",
       "      <th>Điểm cuối kỳ</th>\n",
       "    </tr>\n",
       "  </thead>\n",
       "  <tbody>\n",
       "    <tr>\n",
       "      <th>count</th>\n",
       "      <td>731.000000</td>\n",
       "      <td>731.000000</td>\n",
       "      <td>731.000000</td>\n",
       "      <td>731.000000</td>\n",
       "      <td>731.000000</td>\n",
       "    </tr>\n",
       "    <tr>\n",
       "      <th>mean</th>\n",
       "      <td>6.283543</td>\n",
       "      <td>0.854802</td>\n",
       "      <td>47.061560</td>\n",
       "      <td>2.331382</td>\n",
       "      <td>2.080629</td>\n",
       "    </tr>\n",
       "    <tr>\n",
       "      <th>std</th>\n",
       "      <td>1.175870</td>\n",
       "      <td>0.153612</td>\n",
       "      <td>35.134151</td>\n",
       "      <td>0.758158</td>\n",
       "      <td>0.990275</td>\n",
       "    </tr>\n",
       "    <tr>\n",
       "      <th>min</th>\n",
       "      <td>3.150000</td>\n",
       "      <td>0.460000</td>\n",
       "      <td>0.000000</td>\n",
       "      <td>0.000000</td>\n",
       "      <td>0.000000</td>\n",
       "    </tr>\n",
       "    <tr>\n",
       "      <th>25%</th>\n",
       "      <td>5.520000</td>\n",
       "      <td>0.750000</td>\n",
       "      <td>15.000000</td>\n",
       "      <td>1.840000</td>\n",
       "      <td>1.870000</td>\n",
       "    </tr>\n",
       "    <tr>\n",
       "      <th>50%</th>\n",
       "      <td>6.290000</td>\n",
       "      <td>0.840000</td>\n",
       "      <td>43.000000</td>\n",
       "      <td>2.330000</td>\n",
       "      <td>2.170000</td>\n",
       "    </tr>\n",
       "    <tr>\n",
       "      <th>75%</th>\n",
       "      <td>7.130000</td>\n",
       "      <td>0.940000</td>\n",
       "      <td>74.000000</td>\n",
       "      <td>2.830000</td>\n",
       "      <td>2.665000</td>\n",
       "    </tr>\n",
       "    <tr>\n",
       "      <th>max</th>\n",
       "      <td>10.000000</td>\n",
       "      <td>1.420000</td>\n",
       "      <td>134.000000</td>\n",
       "      <td>4.000000</td>\n",
       "      <td>4.000000</td>\n",
       "    </tr>\n",
       "  </tbody>\n",
       "</table>\n",
       "</div>"
      ],
      "text/plain": [
       "        Điểm TBTN  Tỉ lệ Văn/Toán  Thời gian tự học  Điểm giữa kỳ  \\\n",
       "count  731.000000      731.000000        731.000000    731.000000   \n",
       "mean     6.283543        0.854802         47.061560      2.331382   \n",
       "std      1.175870        0.153612         35.134151      0.758158   \n",
       "min      3.150000        0.460000          0.000000      0.000000   \n",
       "25%      5.520000        0.750000         15.000000      1.840000   \n",
       "50%      6.290000        0.840000         43.000000      2.330000   \n",
       "75%      7.130000        0.940000         74.000000      2.830000   \n",
       "max     10.000000        1.420000        134.000000      4.000000   \n",
       "\n",
       "       Điểm cuối kỳ  \n",
       "count    731.000000  \n",
       "mean       2.080629  \n",
       "std        0.990275  \n",
       "min        0.000000  \n",
       "25%        1.870000  \n",
       "50%        2.170000  \n",
       "75%        2.665000  \n",
       "max        4.000000  "
      ]
     },
     "execution_count": 7,
     "metadata": {},
     "output_type": "execute_result"
    }
   ],
   "source": [
    "df.describe()[columns_dinh_luong]"
   ]
  },
  {
   "cell_type": "code",
   "execution_count": 7,
   "metadata": {},
   "outputs": [],
   "source": [
    "# vẽ histogram\n",
    "def hist(data, label):\n",
    "    mean = np.mean(data)\n",
    "    # ddof = 1 :: hiệu chỉnh\n",
    "    std = np.std(data, ddof=1)\n",
    "    domain = np.linspace(np.min(data), np.max(data))\n",
    "\n",
    "    plt.plot(domain, stats.norm.pdf(domain, mean, std))\n",
    "    sns.histplot(data = data, stat=\"density\", color = 'orange')\n",
    "    plt.title(label = label )\n",
    "    plt.show()"
   ]
  },
  {
   "cell_type": "code",
   "execution_count": 9,
   "metadata": {},
   "outputs": [
    {
     "data": {
      "image/png": "[encoded data removed]",
      "text/plain": [
       "<Figure size 432x288 with 1 Axes>"
      ]
     },
     "metadata": {
      "needs_background": "light"
     },
     "output_type": "display_data"
    },
    {
     "data": {
      "image/png": "[encoded data removed]",
      "text/plain": [
       "<Figure size 432x288 with 1 Axes>"
      ]
     },
     "metadata": {
      "needs_background": "light"
     },
     "output_type": "display_data"
    },
    {
     "data": {
      "image/png": "[encoded data removed]",
      "text/plain": [
       "<Figure size 432x288 with 1 Axes>"
      ]
     },
     "metadata": {
      "needs_background": "light"
     },
     "output_type": "display_data"
    },
    {
     "data": {
      "image/png": "[encoded data removed]",
      "text/plain": [
       "<Figure size 432x288 with 1 Axes>"
      ]
     },
     "metadata": {
      "needs_background": "light"
     },
     "output_type": "display_data"
    },
    {
     "data": {
      "image/png": "[encoded data removed]",
      "text/plain": [
       "<Figure size 432x288 with 1 Axes>"
      ]
     },
     "metadata": {
      "needs_background": "light"
     },
     "output_type": "display_data"
    }
   ],
   "source": [
    "for column in columns_dinh_luong:\n",
    "    hist(df[column], label = f'Biểu đồ {column}')"
   ]
  },
  {
   "cell_type": "code",
   "execution_count": 10,
   "metadata": {},
   "outputs": [
    {
     "data": {
      "image/png": "[encoded data removed]",
      "text/plain": [
       "<Figure size 432x288 with 1 Axes>"
      ]
     },
     "metadata": {
      "needs_background": "light"
     },
     "output_type": "display_data"
    },
    {
     "data": {
      "image/png": "[encoded data removed]",
      "text/plain": [
       "<Figure size 432x288 with 1 Axes>"
      ]
     },
     "metadata": {
      "needs_background": "light"
     },
     "output_type": "display_data"
    },
    {
     "data": {
      "image/png": "[encoded data removed]",
      "text/plain": [
       "<Figure size 432x288 with 1 Axes>"
      ]
     },
     "metadata": {
      "needs_background": "light"
     },
     "output_type": "display_data"
    },
    {
     "data": {
      "image/png": "[encoded data removed]",
      "text/plain": [
       "<Figure size 432x288 with 1 Axes>"
      ]
     },
     "metadata": {
      "needs_background": "light"
     },
     "output_type": "display_data"
    }
   ],
   "source": [
    "for dinh_tinh in columns_dinh_tinh:\n",
    "    sns.countplot(data=df, x=dinh_tinh)\n",
    "    plt.title(label=dinh_tinh)\n",
    "    plt.show()"
   ]
  },
  {
   "cell_type": "code",
   "execution_count": 11,
   "metadata": {},
   "outputs": [
    {
     "data": {
      "image/png": "[encoded data removed]",
      "text/plain": [
       "<Figure size 432x288 with 1 Axes>"
      ]
     },
     "metadata": {
      "needs_background": "light"
     },
     "output_type": "display_data"
    },
    {
     "data": {
      "image/png": "[encoded data removed]",
      "text/plain": [
       "<Figure size 432x288 with 1 Axes>"
      ]
     },
     "metadata": {
      "needs_background": "light"
     },
     "output_type": "display_data"
    },
    {
     "data": {
      "image/png": "[encoded data removed]",
      "text/plain": [
       "<Figure size 432x288 with 1 Axes>"
      ]
     },
     "metadata": {
      "needs_background": "light"
     },
     "output_type": "display_data"
    },
    {
     "data": {
      "image/png": "[encoded data removed]",
      "text/plain": [
       "<Figure size 432x288 with 1 Axes>"
      ]
     },
     "metadata": {
      "needs_background": "light"
     },
     "output_type": "display_data"
    },
    {
     "data": {
      "image/png": "[encoded data removed]",
      "text/plain": [
       "<Figure size 432x288 with 1 Axes>"
      ]
     },
     "metadata": {
      "needs_background": "light"
     },
     "output_type": "display_data"
    },
    {
     "data": {
      "image/png": "[encoded data removed]",
      "text/plain": [
       "<Figure size 432x288 with 1 Axes>"
      ]
     },
     "metadata": {
      "needs_background": "light"
     },
     "output_type": "display_data"
    },
    {
     "data": {
      "image/png": "[encoded data removed]",
      "text/plain": [
       "<Figure size 432x288 with 1 Axes>"
      ]
     },
     "metadata": {
      "needs_background": "light"
     },
     "output_type": "display_data"
    },
    {
     "data": {
      "image/png": "[encoded data removed]",
      "text/plain": [
       "<Figure size 432x288 with 1 Axes>"
      ]
     },
     "metadata": {
      "needs_background": "light"
     },
     "output_type": "display_data"
    },
    {
     "data": {
      "image/png": "[encoded data removed]",
      "text/plain": [
       "<Figure size 432x288 with 1 Axes>"
      ]
     },
     "metadata": {
      "needs_background": "light"
     },
     "output_type": "display_data"
    },
    {
     "data": {
      "image/png": "[encoded data removed]",
      "text/plain": [
       "<Figure size 432x288 with 1 Axes>"
      ]
     },
     "metadata": {
      "needs_background": "light"
     },
     "output_type": "display_data"
    },
    {
     "data": {
      "image/png": "[encoded data removed]",
      "text/plain": [
       "<Figure size 432x288 with 1 Axes>"
      ]
     },
     "metadata": {
      "needs_background": "light"
     },
     "output_type": "display_data"
    },
    {
     "data": {
      "image/png": "[encoded data removed]",
      "text/plain": [
       "<Figure size 432x288 with 1 Axes>"
      ]
     },
     "metadata": {
      "needs_background": "light"
     },
     "output_type": "display_data"
    },
    {
     "data": {
      "image/png": "[encoded data removed]",
      "text/plain": [
       "<Figure size 432x288 with 1 Axes>"
      ]
     },
     "metadata": {
      "needs_background": "light"
     },
     "output_type": "display_data"
    },
    {
     "data": {
      "image/png": "[encoded data removed]",
      "text/plain": [
       "<Figure size 432x288 with 1 Axes>"
      ]
     },
     "metadata": {
      "needs_background": "light"
     },
     "output_type": "display_data"
    },
    {
     "data": {
      "image/png": "[encoded data removed]",
      "text/plain": [
       "<Figure size 432x288 with 1 Axes>"
      ]
     },
     "metadata": {
      "needs_background": "light"
     },
     "output_type": "display_data"
    },
    {
     "data": {
      "image/png": "[encoded data removed]",
      "text/plain": [
       "<Figure size 432x288 with 1 Axes>"
      ]
     },
     "metadata": {
      "needs_background": "light"
     },
     "output_type": "display_data"
    },
    {
     "data": {
      "image/png": "[encoded data removed]",
      "text/plain": [
       "<Figure size 432x288 with 1 Axes>"
      ]
     },
     "metadata": {
      "needs_background": "light"
     },
     "output_type": "display_data"
    },
    {
     "data": {
      "image/png": "[encoded data removed]",
      "text/plain": [
       "<Figure size 432x288 with 1 Axes>"
      ]
     },
     "metadata": {
      "needs_background": "light"
     },
     "output_type": "display_data"
    },
    {
     "data": {
      "image/png": "[encoded data removed]",
      "text/plain": [
       "<Figure size 432x288 with 1 Axes>"
      ]
     },
     "metadata": {
      "needs_background": "light"
     },
     "output_type": "display_data"
    },
    {
     "data": {
      "image/png": "[encoded data removed]",
      "text/plain": [
       "<Figure size 432x288 with 1 Axes>"
      ]
     },
     "metadata": {
      "needs_background": "light"
     },
     "output_type": "display_data"
    }
   ],
   "source": [
    "for dinh_tinh in columns_dinh_tinh:\n",
    "    for dinh_luong in columns_dinh_luong:\n",
    "        sns.barplot(data=df, x=dinh_tinh, y=dinh_luong, estimator = np.mean)\n",
    "        plt.title(label = f'{dinh_luong} theo {dinh_tinh}')\n",
    "        plt.show()"
   ]
  },
  {
   "cell_type": "code",
   "execution_count": 12,
   "metadata": {},
   "outputs": [
    {
     "data": {
      "text/plain": [
       "<AxesSubplot:xlabel='Dân tộc', ylabel='Điểm giữa kỳ'>"
      ]
     },
     "execution_count": 12,
     "metadata": {},
     "output_type": "execute_result"
    },
    {
     "data": {
      "image/png": "[encoded data removed]",
      "text/plain": [
       "<Figure size 432x288 with 1 Axes>"
      ]
     },
     "metadata": {
      "needs_background": "light"
     },
     "output_type": "display_data"
    }
   ],
   "source": [
    "sns.boxplot(data=df, x='Dân tộc', y='Điểm giữa kỳ', hue = 'Giới tính', palette=\"Greens\")"
   ]
  },
  {
   "cell_type": "code",
   "execution_count": 13,
   "metadata": {},
   "outputs": [
    {
     "data": {
      "text/plain": [
       "<seaborn.axisgrid.FacetGrid at 0x1efe4757790>"
      ]
     },
     "execution_count": 13,
     "metadata": {},
     "output_type": "execute_result"
    },
    {
     "data": {
      "image/png": "[encoded data removed]",
      "text/plain": [
       "<Figure size 866.9x288 with 2 Axes>"
      ]
     },
     "metadata": {
      "needs_background": "light"
     },
     "output_type": "display_data"
    }
   ],
   "source": [
    "kws = dict(s=100, edgecolor='k', alpha=.7)\n",
    "score = sns.FacetGrid(data=df, col='Thể thao',\n",
    "                      hue='Dân tộc',\n",
    "                      palette='Set2',\n",
    "                      height=4, aspect=1.4)\n",
    "score.map(sns.scatterplot, 'Điểm giữa kỳ', 'Điểm cuối kỳ', **kws)\n",
    "score.add_legend()"
   ]
  },
  {
   "cell_type": "markdown",
   "metadata": {},
   "source": [
    "# Kiểm định thống kê"
   ]
  },
  {
   "cell_type": "code",
   "execution_count": 9,
   "metadata": {},
   "outputs": [],
   "source": [
    "np.random.seed(20)"
   ]
  },
  {
   "cell_type": "code",
   "execution_count": 13,
   "metadata": {},
   "outputs": [],
   "source": [
    "df_30 = df.sample(30)"
   ]
  },
  {
   "cell_type": "code",
   "execution_count": 14,
   "metadata": {},
   "outputs": [
    {
     "data": {
      "text/html": [
       "<div>\n",
       "<style scoped>\n",
       "    .dataframe tbody tr th:only-of-type {\n",
       "        vertical-align: middle;\n",
       "    }\n",
       "\n",
       "    .dataframe tbody tr th {\n",
       "        vertical-align: top;\n",
       "    }\n",
       "\n",
       "    .dataframe thead th {\n",
       "        text-align: right;\n",
       "    }\n",
       "</style>\n",
       "<table border=\"1\" class=\"dataframe\">\n",
       "  <thead>\n",
       "    <tr style=\"text-align: right;\">\n",
       "      <th></th>\n",
       "      <th>Mã SV</th>\n",
       "      <th>Điểm TBTN</th>\n",
       "      <th>Tỉ lệ Văn/Toán</th>\n",
       "      <th>Tổng HS</th>\n",
       "      <th>Hạng PT</th>\n",
       "      <th>Giới tính</th>\n",
       "      <th>Dân tộc</th>\n",
       "      <th>Học kỳ</th>\n",
       "      <th>Thời gian tự học</th>\n",
       "      <th>Điểm giữa kỳ</th>\n",
       "      <th>Thể thao</th>\n",
       "      <th>Điểm cuối kỳ</th>\n",
       "    </tr>\n",
       "  </thead>\n",
       "  <tbody>\n",
       "    <tr>\n",
       "      <th>685</th>\n",
       "      <td>686</td>\n",
       "      <td>7.55</td>\n",
       "      <td>0.93</td>\n",
       "      <td>640</td>\n",
       "      <td>267</td>\n",
       "      <td>Nam</td>\n",
       "      <td>Kinh</td>\n",
       "      <td>1</td>\n",
       "      <td>0</td>\n",
       "      <td>1.86</td>\n",
       "      <td>0</td>\n",
       "      <td>0.00</td>\n",
       "    </tr>\n",
       "    <tr>\n",
       "      <th>83</th>\n",
       "      <td>84</td>\n",
       "      <td>6.78</td>\n",
       "      <td>0.76</td>\n",
       "      <td>5</td>\n",
       "      <td>1</td>\n",
       "      <td>Nữ</td>\n",
       "      <td>Kinh</td>\n",
       "      <td>1</td>\n",
       "      <td>64</td>\n",
       "      <td>3.40</td>\n",
       "      <td>0</td>\n",
       "      <td>3.18</td>\n",
       "    </tr>\n",
       "    <tr>\n",
       "      <th>19</th>\n",
       "      <td>20</td>\n",
       "      <td>5.45</td>\n",
       "      <td>0.70</td>\n",
       "      <td>78</td>\n",
       "      <td>17</td>\n",
       "      <td>Nam</td>\n",
       "      <td>Kinh</td>\n",
       "      <td>1</td>\n",
       "      <td>59</td>\n",
       "      <td>2.50</td>\n",
       "      <td>1</td>\n",
       "      <td>2.38</td>\n",
       "    </tr>\n",
       "    <tr>\n",
       "      <th>459</th>\n",
       "      <td>460</td>\n",
       "      <td>6.15</td>\n",
       "      <td>0.96</td>\n",
       "      <td>370</td>\n",
       "      <td>165</td>\n",
       "      <td>Nam</td>\n",
       "      <td>Kinh</td>\n",
       "      <td>1</td>\n",
       "      <td>59</td>\n",
       "      <td>3.00</td>\n",
       "      <td>0</td>\n",
       "      <td>2.38</td>\n",
       "    </tr>\n",
       "    <tr>\n",
       "      <th>717</th>\n",
       "      <td>718</td>\n",
       "      <td>6.01</td>\n",
       "      <td>0.65</td>\n",
       "      <td>509</td>\n",
       "      <td>315</td>\n",
       "      <td>Nam</td>\n",
       "      <td>Kinh</td>\n",
       "      <td>1</td>\n",
       "      <td>0</td>\n",
       "      <td>0.92</td>\n",
       "      <td>1</td>\n",
       "      <td>0.00</td>\n",
       "    </tr>\n",
       "  </tbody>\n",
       "</table>\n",
       "</div>"
      ],
      "text/plain": [
       "     Mã SV  Điểm TBTN  Tỉ lệ Văn/Toán  Tổng HS  Hạng PT Giới tính Dân tộc  \\\n",
       "685    686       7.55            0.93      640      267       Nam    Kinh   \n",
       "83      84       6.78            0.76        5        1        Nữ    Kinh   \n",
       "19      20       5.45            0.70       78       17       Nam    Kinh   \n",
       "459    460       6.15            0.96      370      165       Nam    Kinh   \n",
       "717    718       6.01            0.65      509      315       Nam    Kinh   \n",
       "\n",
       "     Học kỳ  Thời gian tự học  Điểm giữa kỳ  Thể thao  Điểm cuối kỳ  \n",
       "685       1                 0          1.86         0          0.00  \n",
       "83        1                64          3.40         0          3.18  \n",
       "19        1                59          2.50         1          2.38  \n",
       "459       1                59          3.00         0          2.38  \n",
       "717       1                 0          0.92         1          0.00  "
      ]
     },
     "execution_count": 14,
     "metadata": {},
     "output_type": "execute_result"
    }
   ],
   "source": [
    "df_30.head()"
   ]
  },
  {
   "cell_type": "code",
   "execution_count": 16,
   "metadata": {},
   "outputs": [],
   "source": [
    "def results(p, alpha=0.05):\n",
    "    if p['p_value'] < alpha:\n",
    "        p['KetLuan'] = f\"Chấp nhận H1 với mức ý nghĩa {alpha}\"\n",
    "    if p['p_value'] >= alpha:\n",
    "        p['KetLuan'] = f\"Chấp nhận H0 với mức ý nghĩa {alpha}\"\n",
    "    df = pd.DataFrame(p, index=[''])\n",
    "    return df"
   ]
  },
  {
   "cell_type": "markdown",
   "metadata": {},
   "source": [
    "## Ngiên cứu sự khác nhau về Điểm thi cuối kỳ của những người có chơi thể thao và không chơi thể thao (qua một mẫu ngẫu nhiên gồm có 30 sinh viên)"
   ]
  },
  {
   "cell_type": "markdown",
   "metadata": {},
   "source": [
    "### Giả thiết thống kê\n",
    "- **H0**: *Không có sự khác nhau về giá trị trung bình Điểm cuối kỳ về việc chơi thể thao*\n",
    "- **H1**: *Có sự khác nhau về giá trị trung bình Điểm cuối kỳ về việc chơi thể thao*"
   ]
  },
  {
   "cell_type": "markdown",
   "metadata": {},
   "source": [
    "### Kiểm định T- test"
   ]
  },
  {
   "cell_type": "code",
   "execution_count": 17,
   "metadata": {},
   "outputs": [
    {
     "data": {
      "text/html": [
       "<div>\n",
       "<style scoped>\n",
       "    .dataframe tbody tr th:only-of-type {\n",
       "        vertical-align: middle;\n",
       "    }\n",
       "\n",
       "    .dataframe tbody tr th {\n",
       "        vertical-align: top;\n",
       "    }\n",
       "\n",
       "    .dataframe thead th {\n",
       "        text-align: right;\n",
       "    }\n",
       "</style>\n",
       "<table border=\"1\" class=\"dataframe\">\n",
       "  <thead>\n",
       "    <tr style=\"text-align: right;\">\n",
       "      <th></th>\n",
       "      <th>score</th>\n",
       "      <th>p_value</th>\n",
       "      <th>KetLuan</th>\n",
       "    </tr>\n",
       "  </thead>\n",
       "  <tbody>\n",
       "    <tr>\n",
       "      <th></th>\n",
       "      <td>1.893701</td>\n",
       "      <td>0.06864</td>\n",
       "      <td>Chấp nhận H0 với mức ý nghĩa 0.05</td>\n",
       "    </tr>\n",
       "  </tbody>\n",
       "</table>\n",
       "</div>"
      ],
      "text/plain": [
       "     score  p_value                            KetLuan\n",
       "  1.893701  0.06864  Chấp nhận H0 với mức ý nghĩa 0.05"
      ]
     },
     "execution_count": 17,
     "metadata": {},
     "output_type": "execute_result"
    }
   ],
   "source": [
    "p = {}\n",
    "p['score'], p['p_value'] = stats.ttest_ind(df_30['Điểm cuối kỳ'][df_30['Thể thao']==0],\n",
    "                                           df_30['Điểm cuối kỳ'][df_30['Thể thao']==1])\n",
    "results(p)"
   ]
  },
  {
   "cell_type": "markdown",
   "metadata": {},
   "source": [
    "### Các giả định\n",
    "* *Mẫu độc lập*\n",
    "* *Phân phối chuẩn*"
   ]
  },
  {
   "cell_type": "code",
   "execution_count": 18,
   "metadata": {},
   "outputs": [
    {
     "data": {
      "text/plain": [
       "ShapiroResult(statistic=0.8670681118965149, pvalue=0.01287824846804142)"
      ]
     },
     "execution_count": 18,
     "metadata": {},
     "output_type": "execute_result"
    }
   ],
   "source": [
    "stats.shapiro(df_30['Điểm cuối kỳ'][df_30['Thể thao']==0])"
   ]
  },
  {
   "cell_type": "code",
   "execution_count": 19,
   "metadata": {},
   "outputs": [
    {
     "data": {
      "text/plain": [
       "ShapiroResult(statistic=0.8315141201019287, pvalue=0.02443966455757618)"
      ]
     },
     "execution_count": 19,
     "metadata": {},
     "output_type": "execute_result"
    }
   ],
   "source": [
    "stats.shapiro(df_30['Điểm cuối kỳ'][df_30['Thể thao']==1])"
   ]
  },
  {
   "cell_type": "markdown",
   "metadata": {},
   "source": [
    "* *Đồng nhất phương sai*"
   ]
  },
  {
   "cell_type": "code",
   "execution_count": 27,
   "metadata": {},
   "outputs": [
    {
     "data": {
      "text/plain": [
       "LeveneResult(statistic=0.03967145593145795, pvalue=0.8435636607866674)"
      ]
     },
     "execution_count": 27,
     "metadata": {},
     "output_type": "execute_result"
    }
   ],
   "source": [
    "stats.levene(df_30['Điểm cuối kỳ'][df_30['Thể thao']==0],\n",
    "            df_30['Điểm cuối kỳ'][df_30['Thể thao']==1])"
   ]
  },
  {
   "cell_type": "markdown",
   "metadata": {},
   "source": [
    "## Ngiên cứu sự khác nhau về Điểm thi cuối kỳ của 2 giới (qua một mẫu ngẫu nhiên gồm có 30 sinh viên)"
   ]
  },
  {
   "cell_type": "markdown",
   "metadata": {},
   "source": [
    "### Giả thiết thống kê\n",
    "- **H0**: *Không có sự khác nhau về giá trị trung bình Điểm cuối kỳ về giới tính*\n",
    "- **H1**: *Có sự khác nhau về giá trị trung bình Điểm cuối kỳ về giới tính*"
   ]
  },
  {
   "cell_type": "markdown",
   "metadata": {},
   "source": [
    "### Kiểm định T- test"
   ]
  },
  {
   "cell_type": "code",
   "execution_count": 28,
   "metadata": {},
   "outputs": [
    {
     "data": {
      "text/html": [
       "<div>\n",
       "<style scoped>\n",
       "    .dataframe tbody tr th:only-of-type {\n",
       "        vertical-align: middle;\n",
       "    }\n",
       "\n",
       "    .dataframe tbody tr th {\n",
       "        vertical-align: top;\n",
       "    }\n",
       "\n",
       "    .dataframe thead th {\n",
       "        text-align: right;\n",
       "    }\n",
       "</style>\n",
       "<table border=\"1\" class=\"dataframe\">\n",
       "  <thead>\n",
       "    <tr style=\"text-align: right;\">\n",
       "      <th></th>\n",
       "      <th>score</th>\n",
       "      <th>p_value</th>\n",
       "      <th>KetLuan</th>\n",
       "    </tr>\n",
       "  </thead>\n",
       "  <tbody>\n",
       "    <tr>\n",
       "      <th></th>\n",
       "      <td>-1.551034</td>\n",
       "      <td>0.132124</td>\n",
       "      <td>Chấp nhận H0 với mức ý nghĩa 0.05</td>\n",
       "    </tr>\n",
       "  </tbody>\n",
       "</table>\n",
       "</div>"
      ],
      "text/plain": [
       "     score   p_value                            KetLuan\n",
       " -1.551034  0.132124  Chấp nhận H0 với mức ý nghĩa 0.05"
      ]
     },
     "execution_count": 28,
     "metadata": {},
     "output_type": "execute_result"
    }
   ],
   "source": [
    "p = {}\n",
    "p['score'], p['p_value'] = stats.ttest_ind(df_30['Điểm cuối kỳ'][df_30['Giới tính']=='Nam'],\n",
    "                                           df_30['Điểm cuối kỳ'][df_30['Giới tính']=='Nữ'])\n",
    "results(p)"
   ]
  },
  {
   "cell_type": "markdown",
   "metadata": {},
   "source": [
    "### Các giả định\n",
    "* *Mẫu độc lập*\n",
    "* *Phân phối chuẩn*"
   ]
  },
  {
   "cell_type": "code",
   "execution_count": 29,
   "metadata": {},
   "outputs": [
    {
     "data": {
      "text/plain": [
       "ShapiroResult(statistic=0.8371046781539917, pvalue=0.0012716376222670078)"
      ]
     },
     "execution_count": 29,
     "metadata": {},
     "output_type": "execute_result"
    }
   ],
   "source": [
    "stats.shapiro(df_30['Điểm cuối kỳ'][df_30['Giới tính']=='Nam'])"
   ]
  },
  {
   "cell_type": "code",
   "execution_count": 30,
   "metadata": {},
   "outputs": [
    {
     "data": {
      "text/plain": [
       "ShapiroResult(statistic=0.9074521660804749, pvalue=0.4198479950428009)"
      ]
     },
     "execution_count": 30,
     "metadata": {},
     "output_type": "execute_result"
    }
   ],
   "source": [
    "stats.shapiro(df_30['Điểm cuối kỳ'][df_30['Giới tính']=='Nữ'])"
   ]
  },
  {
   "cell_type": "markdown",
   "metadata": {},
   "source": [
    "* *Đồng nhất phương sai*"
   ]
  },
  {
   "cell_type": "code",
   "execution_count": 31,
   "metadata": {},
   "outputs": [
    {
     "data": {
      "text/plain": [
       "LeveneResult(statistic=0.5705083313548522, pvalue=0.45636413300625744)"
      ]
     },
     "execution_count": 31,
     "metadata": {},
     "output_type": "execute_result"
    }
   ],
   "source": [
    "stats.levene(df_30['Điểm cuối kỳ'][df_30['Giới tính']=='Nam'],\n",
    "            df_30['Điểm cuối kỳ'][df_30['Giới tính']=='Nữ'])"
   ]
  },
  {
   "cell_type": "markdown",
   "metadata": {},
   "source": [
    "## Ngiên cứu sự khác nhau của Điểm xếp loại cuối kỳ về giới tính"
   ]
  },
  {
   "cell_type": "code",
   "execution_count": 32,
   "metadata": {},
   "outputs": [],
   "source": [
    "bins_tu_hoc = [-1,15,45,75,135]\n",
    "bins_cuoi_ky = [-1, 1, 1.7, 2.7, 3.7, 4]"
   ]
  },
  {
   "cell_type": "code",
   "execution_count": 33,
   "metadata": {},
   "outputs": [],
   "source": [
    "df['StudyHours'] = pd.cut(df['Thời gian tự học'], bins_tu_hoc, labels=['Thấp','Trung bình','Nhiều','Rất nhiều'])"
   ]
  },
  {
   "cell_type": "code",
   "execution_count": 34,
   "metadata": {},
   "outputs": [],
   "source": [
    "df['LetterGrade'] = pd.cut(df['Điểm cuối kỳ'], bins_cuoi_ky, labels = ['F','D','C','B','A'])"
   ]
  },
  {
   "cell_type": "code",
   "execution_count": 35,
   "metadata": {},
   "outputs": [
    {
     "data": {
      "text/html": [
       "<div>\n",
       "<style scoped>\n",
       "    .dataframe tbody tr th:only-of-type {\n",
       "        vertical-align: middle;\n",
       "    }\n",
       "\n",
       "    .dataframe tbody tr th {\n",
       "        vertical-align: top;\n",
       "    }\n",
       "\n",
       "    .dataframe thead th {\n",
       "        text-align: right;\n",
       "    }\n",
       "</style>\n",
       "<table border=\"1\" class=\"dataframe\">\n",
       "  <thead>\n",
       "    <tr style=\"text-align: right;\">\n",
       "      <th></th>\n",
       "      <th>Mã SV</th>\n",
       "      <th>Điểm TBTN</th>\n",
       "      <th>Tỉ lệ Văn/Toán</th>\n",
       "      <th>Tổng HS</th>\n",
       "      <th>Hạng PT</th>\n",
       "      <th>Giới tính</th>\n",
       "      <th>Dân tộc</th>\n",
       "      <th>Học kỳ</th>\n",
       "      <th>Thời gian tự học</th>\n",
       "      <th>Điểm giữa kỳ</th>\n",
       "      <th>Thể thao</th>\n",
       "      <th>Điểm cuối kỳ</th>\n",
       "      <th>StudyHours</th>\n",
       "      <th>LetterGrade</th>\n",
       "    </tr>\n",
       "  </thead>\n",
       "  <tbody>\n",
       "    <tr>\n",
       "      <th>593</th>\n",
       "      <td>594</td>\n",
       "      <td>3.43</td>\n",
       "      <td>0.75</td>\n",
       "      <td>144</td>\n",
       "      <td>55</td>\n",
       "      <td>Nữ</td>\n",
       "      <td>Khác</td>\n",
       "      <td>1</td>\n",
       "      <td>112</td>\n",
       "      <td>1.60</td>\n",
       "      <td>0</td>\n",
       "      <td>2.00</td>\n",
       "      <td>Rất nhiều</td>\n",
       "      <td>C</td>\n",
       "    </tr>\n",
       "    <tr>\n",
       "      <th>36</th>\n",
       "      <td>37</td>\n",
       "      <td>5.03</td>\n",
       "      <td>0.85</td>\n",
       "      <td>283</td>\n",
       "      <td>76</td>\n",
       "      <td>Nam</td>\n",
       "      <td>Khác</td>\n",
       "      <td>2</td>\n",
       "      <td>51</td>\n",
       "      <td>1.60</td>\n",
       "      <td>1</td>\n",
       "      <td>1.64</td>\n",
       "      <td>Nhiều</td>\n",
       "      <td>D</td>\n",
       "    </tr>\n",
       "    <tr>\n",
       "      <th>337</th>\n",
       "      <td>338</td>\n",
       "      <td>4.48</td>\n",
       "      <td>1.06</td>\n",
       "      <td>219</td>\n",
       "      <td>63</td>\n",
       "      <td>Nam</td>\n",
       "      <td>Khác</td>\n",
       "      <td>1</td>\n",
       "      <td>40</td>\n",
       "      <td>2.00</td>\n",
       "      <td>1</td>\n",
       "      <td>1.65</td>\n",
       "      <td>Trung bình</td>\n",
       "      <td>D</td>\n",
       "    </tr>\n",
       "    <tr>\n",
       "      <th>2</th>\n",
       "      <td>3</td>\n",
       "      <td>5.45</td>\n",
       "      <td>0.81</td>\n",
       "      <td>123</td>\n",
       "      <td>102</td>\n",
       "      <td>Nam</td>\n",
       "      <td>Kinh</td>\n",
       "      <td>2</td>\n",
       "      <td>43</td>\n",
       "      <td>1.60</td>\n",
       "      <td>0</td>\n",
       "      <td>2.09</td>\n",
       "      <td>Trung bình</td>\n",
       "      <td>C</td>\n",
       "    </tr>\n",
       "    <tr>\n",
       "      <th>299</th>\n",
       "      <td>300</td>\n",
       "      <td>7.48</td>\n",
       "      <td>0.81</td>\n",
       "      <td>485</td>\n",
       "      <td>74</td>\n",
       "      <td>Nữ</td>\n",
       "      <td>Kinh</td>\n",
       "      <td>1</td>\n",
       "      <td>31</td>\n",
       "      <td>3.00</td>\n",
       "      <td>0</td>\n",
       "      <td>1.83</td>\n",
       "      <td>Trung bình</td>\n",
       "      <td>C</td>\n",
       "    </tr>\n",
       "    <tr>\n",
       "      <th>120</th>\n",
       "      <td>121</td>\n",
       "      <td>5.87</td>\n",
       "      <td>0.79</td>\n",
       "      <td>48</td>\n",
       "      <td>32</td>\n",
       "      <td>Nữ</td>\n",
       "      <td>Kinh</td>\n",
       "      <td>2</td>\n",
       "      <td>16</td>\n",
       "      <td>2.31</td>\n",
       "      <td>0</td>\n",
       "      <td>2.12</td>\n",
       "      <td>Trung bình</td>\n",
       "      <td>C</td>\n",
       "    </tr>\n",
       "    <tr>\n",
       "      <th>106</th>\n",
       "      <td>107</td>\n",
       "      <td>6.57</td>\n",
       "      <td>0.71</td>\n",
       "      <td>251</td>\n",
       "      <td>45</td>\n",
       "      <td>Nam</td>\n",
       "      <td>Kinh</td>\n",
       "      <td>2</td>\n",
       "      <td>50</td>\n",
       "      <td>2.13</td>\n",
       "      <td>0</td>\n",
       "      <td>2.54</td>\n",
       "      <td>Nhiều</td>\n",
       "      <td>C</td>\n",
       "    </tr>\n",
       "    <tr>\n",
       "      <th>589</th>\n",
       "      <td>590</td>\n",
       "      <td>7.34</td>\n",
       "      <td>0.78</td>\n",
       "      <td>687</td>\n",
       "      <td>314</td>\n",
       "      <td>Nam</td>\n",
       "      <td>Kinh</td>\n",
       "      <td>1</td>\n",
       "      <td>27</td>\n",
       "      <td>2.50</td>\n",
       "      <td>0</td>\n",
       "      <td>1.96</td>\n",
       "      <td>Trung bình</td>\n",
       "      <td>C</td>\n",
       "    </tr>\n",
       "    <tr>\n",
       "      <th>49</th>\n",
       "      <td>50</td>\n",
       "      <td>5.73</td>\n",
       "      <td>1.10</td>\n",
       "      <td>571</td>\n",
       "      <td>344</td>\n",
       "      <td>Nam</td>\n",
       "      <td>Khác</td>\n",
       "      <td>1</td>\n",
       "      <td>31</td>\n",
       "      <td>2.33</td>\n",
       "      <td>0</td>\n",
       "      <td>2.22</td>\n",
       "      <td>Trung bình</td>\n",
       "      <td>C</td>\n",
       "    </tr>\n",
       "    <tr>\n",
       "      <th>193</th>\n",
       "      <td>194</td>\n",
       "      <td>3.78</td>\n",
       "      <td>0.93</td>\n",
       "      <td>240</td>\n",
       "      <td>151</td>\n",
       "      <td>Nam</td>\n",
       "      <td>Khác</td>\n",
       "      <td>1</td>\n",
       "      <td>100</td>\n",
       "      <td>2.00</td>\n",
       "      <td>1</td>\n",
       "      <td>2.20</td>\n",
       "      <td>Rất nhiều</td>\n",
       "      <td>C</td>\n",
       "    </tr>\n",
       "  </tbody>\n",
       "</table>\n",
       "</div>"
      ],
      "text/plain": [
       "     Mã SV  Điểm TBTN  Tỉ lệ Văn/Toán  Tổng HS  Hạng PT Giới tính Dân tộc  \\\n",
       "593    594       3.43            0.75      144       55        Nữ    Khác   \n",
       "36      37       5.03            0.85      283       76       Nam    Khác   \n",
       "337    338       4.48            1.06      219       63       Nam    Khác   \n",
       "2        3       5.45            0.81      123      102       Nam    Kinh   \n",
       "299    300       7.48            0.81      485       74        Nữ    Kinh   \n",
       "120    121       5.87            0.79       48       32        Nữ    Kinh   \n",
       "106    107       6.57            0.71      251       45       Nam    Kinh   \n",
       "589    590       7.34            0.78      687      314       Nam    Kinh   \n",
       "49      50       5.73            1.10      571      344       Nam    Khác   \n",
       "193    194       3.78            0.93      240      151       Nam    Khác   \n",
       "\n",
       "     Học kỳ  Thời gian tự học  Điểm giữa kỳ  Thể thao  Điểm cuối kỳ  \\\n",
       "593       1               112          1.60         0          2.00   \n",
       "36        2                51          1.60         1          1.64   \n",
       "337       1                40          2.00         1          1.65   \n",
       "2         2                43          1.60         0          2.09   \n",
       "299       1                31          3.00         0          1.83   \n",
       "120       2                16          2.31         0          2.12   \n",
       "106       2                50          2.13         0          2.54   \n",
       "589       1                27          2.50         0          1.96   \n",
       "49        1                31          2.33         0          2.22   \n",
       "193       1               100          2.00         1          2.20   \n",
       "\n",
       "     StudyHours LetterGrade  \n",
       "593   Rất nhiều           C  \n",
       "36        Nhiều           D  \n",
       "337  Trung bình           D  \n",
       "2    Trung bình           C  \n",
       "299  Trung bình           C  \n",
       "120  Trung bình           C  \n",
       "106       Nhiều           C  \n",
       "589  Trung bình           C  \n",
       "49   Trung bình           C  \n",
       "193   Rất nhiều           C  "
      ]
     },
     "execution_count": 35,
     "metadata": {},
     "output_type": "execute_result"
    }
   ],
   "source": [
    "df.sample(10)"
   ]
  },
  {
   "cell_type": "markdown",
   "metadata": {},
   "source": [
    "### Giả thiết thống kê\n",
    "- **H0**: *Giới tính không ảnh hưởng đến Điểm xếp loại cuối kỳ*\n",
    "- **H1**: *Giới tính ảnh hưởng đến Điểm xếp loại cuối kỳ*"
   ]
  },
  {
   "cell_type": "markdown",
   "metadata": {},
   "source": [
    "### Kiểm định Chi2"
   ]
  },
  {
   "cell_type": "code",
   "execution_count": 36,
   "metadata": {},
   "outputs": [
    {
     "data": {
      "text/html": [
       "<div>\n",
       "<style scoped>\n",
       "    .dataframe tbody tr th:only-of-type {\n",
       "        vertical-align: middle;\n",
       "    }\n",
       "\n",
       "    .dataframe tbody tr th {\n",
       "        vertical-align: top;\n",
       "    }\n",
       "\n",
       "    .dataframe thead th {\n",
       "        text-align: right;\n",
       "    }\n",
       "</style>\n",
       "<table border=\"1\" class=\"dataframe\">\n",
       "  <thead>\n",
       "    <tr style=\"text-align: right;\">\n",
       "      <th>LetterGrade</th>\n",
       "      <th>F</th>\n",
       "      <th>D</th>\n",
       "      <th>C</th>\n",
       "      <th>B</th>\n",
       "      <th>A</th>\n",
       "    </tr>\n",
       "    <tr>\n",
       "      <th>Giới tính</th>\n",
       "      <th></th>\n",
       "      <th></th>\n",
       "      <th></th>\n",
       "      <th></th>\n",
       "      <th></th>\n",
       "    </tr>\n",
       "  </thead>\n",
       "  <tbody>\n",
       "    <tr>\n",
       "      <th>Nam</th>\n",
       "      <td>74</td>\n",
       "      <td>30</td>\n",
       "      <td>353</td>\n",
       "      <td>77</td>\n",
       "      <td>18</td>\n",
       "    </tr>\n",
       "    <tr>\n",
       "      <th>Nữ</th>\n",
       "      <td>29</td>\n",
       "      <td>3</td>\n",
       "      <td>71</td>\n",
       "      <td>71</td>\n",
       "      <td>5</td>\n",
       "    </tr>\n",
       "  </tbody>\n",
       "</table>\n",
       "</div>"
      ],
      "text/plain": [
       "LetterGrade   F   D    C   B   A\n",
       "Giới tính                       \n",
       "Nam          74  30  353  77  18\n",
       "Nữ           29   3   71  71   5"
      ]
     },
     "execution_count": 36,
     "metadata": {},
     "output_type": "execute_result"
    }
   ],
   "source": [
    "tan_so_xep_loai = pd.crosstab(index=df['Giới tính'], columns=df['LetterGrade'])\n",
    "tan_so_xep_loai"
   ]
  },
  {
   "cell_type": "code",
   "execution_count": 37,
   "metadata": {},
   "outputs": [],
   "source": [
    "score, p_value, dof, expected = stats.chi2_contingency(tan_so_xep_loai)"
   ]
  },
  {
   "cell_type": "code",
   "execution_count": 38,
   "metadata": {},
   "outputs": [
    {
     "data": {
      "text/html": [
       "<div>\n",
       "<style scoped>\n",
       "    .dataframe tbody tr th:only-of-type {\n",
       "        vertical-align: middle;\n",
       "    }\n",
       "\n",
       "    .dataframe tbody tr th {\n",
       "        vertical-align: top;\n",
       "    }\n",
       "\n",
       "    .dataframe thead th {\n",
       "        text-align: right;\n",
       "    }\n",
       "</style>\n",
       "<table border=\"1\" class=\"dataframe\">\n",
       "  <thead>\n",
       "    <tr style=\"text-align: right;\">\n",
       "      <th></th>\n",
       "      <th>score</th>\n",
       "      <th>p_value</th>\n",
       "      <th>dof</th>\n",
       "      <th>KetLuan</th>\n",
       "    </tr>\n",
       "  </thead>\n",
       "  <tbody>\n",
       "    <tr>\n",
       "      <th></th>\n",
       "      <td>62.965975</td>\n",
       "      <td>6.898717e-13</td>\n",
       "      <td>4</td>\n",
       "      <td>Chấp nhận H1 với mức ý nghĩa 0.05</td>\n",
       "    </tr>\n",
       "  </tbody>\n",
       "</table>\n",
       "</div>"
      ],
      "text/plain": [
       "      score       p_value  dof                            KetLuan\n",
       "  62.965975  6.898717e-13    4  Chấp nhận H1 với mức ý nghĩa 0.05"
      ]
     },
     "execution_count": 38,
     "metadata": {},
     "output_type": "execute_result"
    }
   ],
   "source": [
    "p = {}\n",
    "p['score'] = score\n",
    "p['p_value'] = p_value\n",
    "p['dof'] = dof\n",
    "results(p)"
   ]
  },
  {
   "cell_type": "markdown",
   "metadata": {},
   "source": [
    "*Về mặt thống kê giới tính có ảnh hưởng đến Điểm xếp loại cuối kì với mức ý nghĩa 0.05.*"
   ]
  },
  {
   "cell_type": "markdown",
   "metadata": {},
   "source": [
    "### Kỹ thuật EDA"
   ]
  },
  {
   "cell_type": "code",
   "execution_count": 39,
   "metadata": {},
   "outputs": [],
   "source": [
    "nam = df['Điểm cuối kỳ'][df['Giới tính']=='Nam']\n",
    "nu = df['Điểm cuối kỳ'][df['Giới tính']=='Nữ']"
   ]
  },
  {
   "cell_type": "code",
   "execution_count": 41,
   "metadata": {},
   "outputs": [
    {
     "data": {
      "image/png": "[encoded data removed]",
      "text/plain": [
       "<Figure size 432x288 with 1 Axes>"
      ]
     },
     "metadata": {
      "needs_background": "light"
     },
     "output_type": "display_data"
    }
   ],
   "source": [
    "sns.histplot(data=nam, color = 'blue',label='Nam', kde=True)\n",
    "sns.histplot(data=nu, color = 'pink', label='Nữ', kde=True)\n",
    "plt.legend()\n",
    "plt.show()"
   ]
  },
  {
   "cell_type": "markdown",
   "metadata": {},
   "source": [
    "## Kiểm chứng nhận định cho rằng thời gian tự học (StudyHours) có ảnh hưởng đến kết quả LetterGrade (có thể dùng Chi2 test) với mức ý nghĩa 5%."
   ]
  },
  {
   "cell_type": "markdown",
   "metadata": {},
   "source": [
    "### Giả thiết thống kê\n",
    "- **H0**: *Thời gian tự học không ảnh hưởng đến Điểm xếp loại cuối kỳ*\n",
    "- **H1**: *Thời gian tự học ảnh hưởng đến Điểm xếp loại cuối kỳ*"
   ]
  },
  {
   "cell_type": "code",
   "execution_count": 52,
   "metadata": {},
   "outputs": [
    {
     "data": {
      "text/html": [
       "<div>\n",
       "<style scoped>\n",
       "    .dataframe tbody tr th:only-of-type {\n",
       "        vertical-align: middle;\n",
       "    }\n",
       "\n",
       "    .dataframe tbody tr th {\n",
       "        vertical-align: top;\n",
       "    }\n",
       "\n",
       "    .dataframe thead th {\n",
       "        text-align: right;\n",
       "    }\n",
       "</style>\n",
       "<table border=\"1\" class=\"dataframe\">\n",
       "  <thead>\n",
       "    <tr style=\"text-align: right;\">\n",
       "      <th>LetterGrade</th>\n",
       "      <th>F</th>\n",
       "      <th>D</th>\n",
       "      <th>C</th>\n",
       "      <th>B</th>\n",
       "      <th>A</th>\n",
       "    </tr>\n",
       "    <tr>\n",
       "      <th>StudyHours</th>\n",
       "      <th></th>\n",
       "      <th></th>\n",
       "      <th></th>\n",
       "      <th></th>\n",
       "      <th></th>\n",
       "    </tr>\n",
       "  </thead>\n",
       "  <tbody>\n",
       "    <tr>\n",
       "      <th>Thấp</th>\n",
       "      <td>101</td>\n",
       "      <td>17</td>\n",
       "      <td>39</td>\n",
       "      <td>16</td>\n",
       "      <td>15</td>\n",
       "    </tr>\n",
       "    <tr>\n",
       "      <th>Trung bình</th>\n",
       "      <td>2</td>\n",
       "      <td>9</td>\n",
       "      <td>134</td>\n",
       "      <td>54</td>\n",
       "      <td>4</td>\n",
       "    </tr>\n",
       "    <tr>\n",
       "      <th>Nhiều</th>\n",
       "      <td>0</td>\n",
       "      <td>4</td>\n",
       "      <td>127</td>\n",
       "      <td>32</td>\n",
       "      <td>2</td>\n",
       "    </tr>\n",
       "    <tr>\n",
       "      <th>Rất nhiều</th>\n",
       "      <td>0</td>\n",
       "      <td>3</td>\n",
       "      <td>124</td>\n",
       "      <td>46</td>\n",
       "      <td>2</td>\n",
       "    </tr>\n",
       "  </tbody>\n",
       "</table>\n",
       "</div>"
      ],
      "text/plain": [
       "LetterGrade    F   D    C   B   A\n",
       "StudyHours                       \n",
       "Thấp         101  17   39  16  15\n",
       "Trung bình     2   9  134  54   4\n",
       "Nhiều          0   4  127  32   2\n",
       "Rất nhiều      0   3  124  46   2"
      ]
     },
     "execution_count": 52,
     "metadata": {},
     "output_type": "execute_result"
    }
   ],
   "source": [
    "tan_so_xep_letter = pd.crosstab(index=df['StudyHours'], columns=df['LetterGrade'])\n",
    "tan_so_xep_letter"
   ]
  },
  {
   "cell_type": "markdown",
   "metadata": {},
   "source": [
    "### Kiểm định Chi square"
   ]
  },
  {
   "cell_type": "code",
   "execution_count": 53,
   "metadata": {},
   "outputs": [],
   "source": [
    "score, p_value, dof, expected = stats.chi2_contingency(tan_so_xep_letter)"
   ]
  },
  {
   "cell_type": "code",
   "execution_count": 54,
   "metadata": {},
   "outputs": [
    {
     "data": {
      "text/html": [
       "<div>\n",
       "<style scoped>\n",
       "    .dataframe tbody tr th:only-of-type {\n",
       "        vertical-align: middle;\n",
       "    }\n",
       "\n",
       "    .dataframe tbody tr th {\n",
       "        vertical-align: top;\n",
       "    }\n",
       "\n",
       "    .dataframe thead th {\n",
       "        text-align: right;\n",
       "    }\n",
       "</style>\n",
       "<table border=\"1\" class=\"dataframe\">\n",
       "  <thead>\n",
       "    <tr style=\"text-align: right;\">\n",
       "      <th></th>\n",
       "      <th>score</th>\n",
       "      <th>p_value</th>\n",
       "      <th>dof</th>\n",
       "      <th>KetLuan</th>\n",
       "    </tr>\n",
       "  </thead>\n",
       "  <tbody>\n",
       "    <tr>\n",
       "      <th></th>\n",
       "      <td>396.956073</td>\n",
       "      <td>1.669123e-77</td>\n",
       "      <td>12</td>\n",
       "      <td>Chấp nhận H1 với mức ý nghĩa 0.05</td>\n",
       "    </tr>\n",
       "  </tbody>\n",
       "</table>\n",
       "</div>"
      ],
      "text/plain": [
       "       score       p_value  dof                            KetLuan\n",
       "  396.956073  1.669123e-77   12  Chấp nhận H1 với mức ý nghĩa 0.05"
      ]
     },
     "execution_count": 54,
     "metadata": {},
     "output_type": "execute_result"
    }
   ],
   "source": [
    "p = {}\n",
    "p['score'] = score\n",
    "p['p_value'] = p_value\n",
    "p['dof'] = dof\n",
    "results(p)"
   ]
  },
  {
   "cell_type": "markdown",
   "metadata": {},
   "source": [
    "*Về mặt thống kê thời gian tự học có ảnh hưởng đến Điểm xếp loại cuối kì với mức ý nghĩa 0.05.*"
   ]
  },
  {
   "cell_type": "markdown",
   "metadata": {},
   "source": [
    "### Kỹ Thuật EDA"
   ]
  },
  {
   "cell_type": "code",
   "execution_count": 55,
   "metadata": {},
   "outputs": [],
   "source": [
    "thap = df['Điểm cuối kỳ'][df['StudyHours']=='Thấp']\n",
    "trung =  df['Điểm cuối kỳ'][df['StudyHours']=='Trung bình']\n",
    "nhieu = df['Điểm cuối kỳ'][df['StudyHours']=='Nhiều']\n",
    "rat_nhieu = df['Điểm cuối kỳ'][df['StudyHours']=='Rất nhiều']"
   ]
  },
  {
   "cell_type": "code",
   "execution_count": 56,
   "metadata": {},
   "outputs": [
    {
     "data": {
      "image/png": "[encoded data removed]",
      "text/plain": [
       "<Figure size 432x288 with 1 Axes>"
      ]
     },
     "metadata": {
      "needs_background": "light"
     },
     "output_type": "display_data"
    }
   ],
   "source": [
    "sns.histplot(data=thap, color='blue',label='Thấp',element=\"step\", kde=True)\n",
    "sns.histplot(data=trung, color='pink', label='Trung bình',element=\"step\", kde=True)\n",
    "sns.histplot(data=nhieu, color='orange',label='Nhiều',element=\"step\", kde=True)\n",
    "sns.histplot(data=rat_nhieu, color='gray', label='Rất nhiều',element=\"step\", kde=True)\n",
    "plt.legend()\n",
    "plt.show()"
   ]
  },
  {
   "cell_type": "markdown",
   "metadata": {},
   "source": [
    "## Kiểm chứng nhận định cho rằng điểm kiểm tra giữa kỳ có ảnh hưởng đến điểm thi cuối kỳ với độ tin cậy 95%."
   ]
  },
  {
   "cell_type": "code",
   "execution_count": 57,
   "metadata": {},
   "outputs": [],
   "source": [
    "bins_giua_ky = [-1, 1, 1.7, 2.7, 3.7, 4]\n",
    "df['MidLetterGrade'] = pd.cut(df['Điểm giữa kỳ'], bins_giua_ky, labels = ['F','D','C','B','A'])"
   ]
  },
  {
   "cell_type": "code",
   "execution_count": 58,
   "metadata": {},
   "outputs": [
    {
     "data": {
      "text/html": [
       "<div>\n",
       "<style scoped>\n",
       "    .dataframe tbody tr th:only-of-type {\n",
       "        vertical-align: middle;\n",
       "    }\n",
       "\n",
       "    .dataframe tbody tr th {\n",
       "        vertical-align: top;\n",
       "    }\n",
       "\n",
       "    .dataframe thead th {\n",
       "        text-align: right;\n",
       "    }\n",
       "</style>\n",
       "<table border=\"1\" class=\"dataframe\">\n",
       "  <thead>\n",
       "    <tr style=\"text-align: right;\">\n",
       "      <th></th>\n",
       "      <th>Mã SV</th>\n",
       "      <th>Điểm TBTN</th>\n",
       "      <th>Tỉ lệ Văn/Toán</th>\n",
       "      <th>Tổng HS</th>\n",
       "      <th>Hạng PT</th>\n",
       "      <th>Giới tính</th>\n",
       "      <th>Dân tộc</th>\n",
       "      <th>Học kỳ</th>\n",
       "      <th>Thời gian tự học</th>\n",
       "      <th>Điểm giữa kỳ</th>\n",
       "      <th>Thể thao</th>\n",
       "      <th>Điểm cuối kỳ</th>\n",
       "      <th>StudyHours</th>\n",
       "      <th>LetterGrade</th>\n",
       "      <th>MidLetterGrade</th>\n",
       "    </tr>\n",
       "  </thead>\n",
       "  <tbody>\n",
       "    <tr>\n",
       "      <th>0</th>\n",
       "      <td>1</td>\n",
       "      <td>6.43</td>\n",
       "      <td>0.48</td>\n",
       "      <td>10</td>\n",
       "      <td>4</td>\n",
       "      <td>Nữ</td>\n",
       "      <td>Khác</td>\n",
       "      <td>2</td>\n",
       "      <td>43</td>\n",
       "      <td>2.25</td>\n",
       "      <td>0</td>\n",
       "      <td>2.04</td>\n",
       "      <td>Trung bình</td>\n",
       "      <td>C</td>\n",
       "      <td>C</td>\n",
       "    </tr>\n",
       "    <tr>\n",
       "      <th>1</th>\n",
       "      <td>2</td>\n",
       "      <td>5.45</td>\n",
       "      <td>0.81</td>\n",
       "      <td>123</td>\n",
       "      <td>102</td>\n",
       "      <td>Nam</td>\n",
       "      <td>Kinh</td>\n",
       "      <td>1</td>\n",
       "      <td>28</td>\n",
       "      <td>2.20</td>\n",
       "      <td>0</td>\n",
       "      <td>2.03</td>\n",
       "      <td>Trung bình</td>\n",
       "      <td>C</td>\n",
       "      <td>C</td>\n",
       "    </tr>\n",
       "    <tr>\n",
       "      <th>2</th>\n",
       "      <td>3</td>\n",
       "      <td>5.45</td>\n",
       "      <td>0.81</td>\n",
       "      <td>123</td>\n",
       "      <td>102</td>\n",
       "      <td>Nam</td>\n",
       "      <td>Kinh</td>\n",
       "      <td>2</td>\n",
       "      <td>43</td>\n",
       "      <td>1.60</td>\n",
       "      <td>0</td>\n",
       "      <td>2.09</td>\n",
       "      <td>Trung bình</td>\n",
       "      <td>C</td>\n",
       "      <td>D</td>\n",
       "    </tr>\n",
       "    <tr>\n",
       "      <th>3</th>\n",
       "      <td>4</td>\n",
       "      <td>5.66</td>\n",
       "      <td>0.88</td>\n",
       "      <td>119</td>\n",
       "      <td>42</td>\n",
       "      <td>Nam</td>\n",
       "      <td>Kinh</td>\n",
       "      <td>1</td>\n",
       "      <td>0</td>\n",
       "      <td>1.60</td>\n",
       "      <td>0</td>\n",
       "      <td>0.00</td>\n",
       "      <td>Thấp</td>\n",
       "      <td>F</td>\n",
       "      <td>D</td>\n",
       "    </tr>\n",
       "    <tr>\n",
       "      <th>4</th>\n",
       "      <td>5</td>\n",
       "      <td>5.66</td>\n",
       "      <td>0.88</td>\n",
       "      <td>119</td>\n",
       "      <td>42</td>\n",
       "      <td>Nam</td>\n",
       "      <td>Kinh</td>\n",
       "      <td>2</td>\n",
       "      <td>14</td>\n",
       "      <td>1.29</td>\n",
       "      <td>0</td>\n",
       "      <td>1.78</td>\n",
       "      <td>Thấp</td>\n",
       "      <td>C</td>\n",
       "      <td>D</td>\n",
       "    </tr>\n",
       "  </tbody>\n",
       "</table>\n",
       "</div>"
      ],
      "text/plain": [
       "   Mã SV  Điểm TBTN  Tỉ lệ Văn/Toán  Tổng HS  Hạng PT Giới tính Dân tộc  \\\n",
       "0      1       6.43            0.48       10        4        Nữ    Khác   \n",
       "1      2       5.45            0.81      123      102       Nam    Kinh   \n",
       "2      3       5.45            0.81      123      102       Nam    Kinh   \n",
       "3      4       5.66            0.88      119       42       Nam    Kinh   \n",
       "4      5       5.66            0.88      119       42       Nam    Kinh   \n",
       "\n",
       "   Học kỳ  Thời gian tự học  Điểm giữa kỳ  Thể thao  Điểm cuối kỳ  StudyHours  \\\n",
       "0       2                43          2.25         0          2.04  Trung bình   \n",
       "1       1                28          2.20         0          2.03  Trung bình   \n",
       "2       2                43          1.60         0          2.09  Trung bình   \n",
       "3       1                 0          1.60         0          0.00        Thấp   \n",
       "4       2                14          1.29         0          1.78        Thấp   \n",
       "\n",
       "  LetterGrade MidLetterGrade  \n",
       "0           C              C  \n",
       "1           C              C  \n",
       "2           C              D  \n",
       "3           F              D  \n",
       "4           C              D  "
      ]
     },
     "execution_count": 58,
     "metadata": {},
     "output_type": "execute_result"
    }
   ],
   "source": [
    "df.head()"
   ]
  },
  {
   "cell_type": "markdown",
   "metadata": {},
   "source": [
    "### Giả thiết thống kê\n",
    "- **H0**: *Kết quả thi giữa kỳ không ảnh hưởng đến Kết quả thi cuối kỳ*\n",
    "- **H1**: *Kết quả thi giữa kỳ ảnh hưởng đến kết quả thi cuối kỳ*"
   ]
  },
  {
   "cell_type": "markdown",
   "metadata": {},
   "source": [
    "### Kỹ thuật EDA"
   ]
  },
  {
   "cell_type": "code",
   "execution_count": 59,
   "metadata": {},
   "outputs": [
    {
     "data": {
      "image/png": "[encoded data removed]",
      "text/plain": [
       "<Figure size 432x288 with 1 Axes>"
      ]
     },
     "metadata": {
      "needs_background": "light"
     },
     "output_type": "display_data"
    }
   ],
   "source": [
    "sns.boxplot(x='MidLetterGrade',y='Điểm cuối kỳ',data = df, palette=\"Greens\")\n",
    "plt.show()"
   ]
  },
  {
   "cell_type": "markdown",
   "metadata": {},
   "source": [
    "### Kiểm định Anova"
   ]
  },
  {
   "cell_type": "code",
   "execution_count": 60,
   "metadata": {},
   "outputs": [],
   "source": [
    "from statsmodels.formula.api import ols\n",
    "import statsmodels.api as sm"
   ]
  },
  {
   "cell_type": "code",
   "execution_count": 61,
   "metadata": {},
   "outputs": [],
   "source": [
    "giua_cuoi_ky_df = df[['MidLetterGrade', 'Điểm cuối kỳ']]"
   ]
  },
  {
   "cell_type": "code",
   "execution_count": 62,
   "metadata": {},
   "outputs": [],
   "source": [
    "giua_cuoi_ky_df.columns = ['MidLetterGrade', 'DiemCuoiKy']"
   ]
  },
  {
   "cell_type": "code",
   "execution_count": 63,
   "metadata": {},
   "outputs": [
    {
     "data": {
      "text/html": [
       "<div>\n",
       "<style scoped>\n",
       "    .dataframe tbody tr th:only-of-type {\n",
       "        vertical-align: middle;\n",
       "    }\n",
       "\n",
       "    .dataframe tbody tr th {\n",
       "        vertical-align: top;\n",
       "    }\n",
       "\n",
       "    .dataframe thead th {\n",
       "        text-align: right;\n",
       "    }\n",
       "</style>\n",
       "<table border=\"1\" class=\"dataframe\">\n",
       "  <thead>\n",
       "    <tr style=\"text-align: right;\">\n",
       "      <th></th>\n",
       "      <th>MidLetterGrade</th>\n",
       "      <th>DiemCuoiKy</th>\n",
       "    </tr>\n",
       "  </thead>\n",
       "  <tbody>\n",
       "    <tr>\n",
       "      <th>0</th>\n",
       "      <td>C</td>\n",
       "      <td>2.04</td>\n",
       "    </tr>\n",
       "    <tr>\n",
       "      <th>1</th>\n",
       "      <td>C</td>\n",
       "      <td>2.03</td>\n",
       "    </tr>\n",
       "    <tr>\n",
       "      <th>2</th>\n",
       "      <td>D</td>\n",
       "      <td>2.09</td>\n",
       "    </tr>\n",
       "    <tr>\n",
       "      <th>3</th>\n",
       "      <td>D</td>\n",
       "      <td>0.00</td>\n",
       "    </tr>\n",
       "    <tr>\n",
       "      <th>4</th>\n",
       "      <td>D</td>\n",
       "      <td>1.78</td>\n",
       "    </tr>\n",
       "  </tbody>\n",
       "</table>\n",
       "</div>"
      ],
      "text/plain": [
       "  MidLetterGrade  DiemCuoiKy\n",
       "0              C        2.04\n",
       "1              C        2.03\n",
       "2              D        2.09\n",
       "3              D        0.00\n",
       "4              D        1.78"
      ]
     },
     "execution_count": 63,
     "metadata": {},
     "output_type": "execute_result"
    }
   ],
   "source": [
    "giua_cuoi_ky_df.head()"
   ]
  },
  {
   "cell_type": "code",
   "execution_count": 64,
   "metadata": {},
   "outputs": [],
   "source": [
    "model = ols('DiemCuoiKy ~ C(MidLetterGrade)', data=giua_cuoi_ky_df).fit()\n",
    "anova_table = sm.stats.anova_lm(model, typ=2)"
   ]
  },
  {
   "cell_type": "code",
   "execution_count": 65,
   "metadata": {},
   "outputs": [
    {
     "data": {
      "text/html": [
       "<div>\n",
       "<style scoped>\n",
       "    .dataframe tbody tr th:only-of-type {\n",
       "        vertical-align: middle;\n",
       "    }\n",
       "\n",
       "    .dataframe tbody tr th {\n",
       "        vertical-align: top;\n",
       "    }\n",
       "\n",
       "    .dataframe thead th {\n",
       "        text-align: right;\n",
       "    }\n",
       "</style>\n",
       "<table border=\"1\" class=\"dataframe\">\n",
       "  <thead>\n",
       "    <tr style=\"text-align: right;\">\n",
       "      <th></th>\n",
       "      <th>sum_sq</th>\n",
       "      <th>df</th>\n",
       "      <th>F</th>\n",
       "      <th>PR(&gt;F)</th>\n",
       "    </tr>\n",
       "  </thead>\n",
       "  <tbody>\n",
       "    <tr>\n",
       "      <th>C(MidLetterGrade)</th>\n",
       "      <td>70.135279</td>\n",
       "      <td>4.0</td>\n",
       "      <td>19.713289</td>\n",
       "      <td>2.031896e-15</td>\n",
       "    </tr>\n",
       "    <tr>\n",
       "      <th>Residual</th>\n",
       "      <td>645.734632</td>\n",
       "      <td>726.0</td>\n",
       "      <td>NaN</td>\n",
       "      <td>NaN</td>\n",
       "    </tr>\n",
       "  </tbody>\n",
       "</table>\n",
       "</div>"
      ],
      "text/plain": [
       "                       sum_sq     df          F        PR(>F)\n",
       "C(MidLetterGrade)   70.135279    4.0  19.713289  2.031896e-15\n",
       "Residual           645.734632  726.0        NaN           NaN"
      ]
     },
     "execution_count": 65,
     "metadata": {},
     "output_type": "execute_result"
    }
   ],
   "source": [
    "anova_table"
   ]
  },
  {
   "cell_type": "code",
   "execution_count": 66,
   "metadata": {},
   "outputs": [
    {
     "data": {
      "text/html": [
       "<div>\n",
       "<style scoped>\n",
       "    .dataframe tbody tr th:only-of-type {\n",
       "        vertical-align: middle;\n",
       "    }\n",
       "\n",
       "    .dataframe tbody tr th {\n",
       "        vertical-align: top;\n",
       "    }\n",
       "\n",
       "    .dataframe thead th {\n",
       "        text-align: right;\n",
       "    }\n",
       "</style>\n",
       "<table border=\"1\" class=\"dataframe\">\n",
       "  <thead>\n",
       "    <tr style=\"text-align: right;\">\n",
       "      <th></th>\n",
       "      <th>f_score</th>\n",
       "      <th>p_value</th>\n",
       "      <th>KetLuan</th>\n",
       "    </tr>\n",
       "  </thead>\n",
       "  <tbody>\n",
       "    <tr>\n",
       "      <th></th>\n",
       "      <td>19.713289</td>\n",
       "      <td>2.031896e-15</td>\n",
       "      <td>Chấp nhận H1 với mức ý nghĩa 0.05</td>\n",
       "    </tr>\n",
       "  </tbody>\n",
       "</table>\n",
       "</div>"
      ],
      "text/plain": [
       "    f_score       p_value                            KetLuan\n",
       "  19.713289  2.031896e-15  Chấp nhận H1 với mức ý nghĩa 0.05"
      ]
     },
     "execution_count": 66,
     "metadata": {},
     "output_type": "execute_result"
    }
   ],
   "source": [
    "p = {}\n",
    "p['f_score'] = anova_table['F'][0]\n",
    "p['p_value'] = anova_table['PR(>F)'][0]\n",
    "results(p)"
   ]
  },
  {
   "cell_type": "markdown",
   "metadata": {},
   "source": [
    "### Kiểm tra hậu nghiệm"
   ]
  },
  {
   "cell_type": "code",
   "execution_count": 67,
   "metadata": {},
   "outputs": [],
   "source": [
    "from statsmodels.stats.multicomp import pairwise_tukeyhsd"
   ]
  },
  {
   "cell_type": "code",
   "execution_count": 68,
   "metadata": {},
   "outputs": [],
   "source": [
    "tukey = pairwise_tukeyhsd(endog=giua_cuoi_ky_df['DiemCuoiKy'],\n",
    "                         groups=giua_cuoi_ky_df['MidLetterGrade'],\n",
    "                         alpha=0.05)"
   ]
  },
  {
   "cell_type": "code",
   "execution_count": 69,
   "metadata": {},
   "outputs": [
    {
     "data": {
      "text/html": [
       "<table class=\"simpletable\">\n",
       "<caption>Multiple Comparison of Means - Tukey HSD, FWER=0.05</caption>\n",
       "<tr>\n",
       "  <th>group1</th> <th>group2</th> <th>meandiff</th>  <th>p-adj</th>  <th>lower</th>   <th>upper</th>  <th>reject</th>\n",
       "</tr>\n",
       "<tr>\n",
       "     <td>A</td>      <td>B</td>    <td>-0.4424</td> <td>0.2858</td> <td>-1.059</td>  <td>0.1742</td>   <td>False</td>\n",
       "</tr>\n",
       "<tr>\n",
       "     <td>A</td>      <td>C</td>    <td>-0.9681</td>  <td>0.001</td> <td>-1.5753</td> <td>-0.3609</td>  <td>True</td> \n",
       "</tr>\n",
       "<tr>\n",
       "     <td>A</td>      <td>D</td>    <td>-1.1882</td>  <td>0.001</td> <td>-1.837</td>  <td>-0.5395</td>  <td>True</td> \n",
       "</tr>\n",
       "<tr>\n",
       "     <td>A</td>      <td>F</td>    <td>-1.1837</td>  <td>0.001</td> <td>-1.9023</td> <td>-0.4651</td>  <td>True</td> \n",
       "</tr>\n",
       "<tr>\n",
       "     <td>B</td>      <td>C</td>    <td>-0.5256</td>  <td>0.001</td> <td>-0.7464</td> <td>-0.3049</td>  <td>True</td> \n",
       "</tr>\n",
       "<tr>\n",
       "     <td>B</td>      <td>D</td>    <td>-0.7458</td>  <td>0.001</td> <td>-1.0634</td> <td>-0.4282</td>  <td>True</td> \n",
       "</tr>\n",
       "<tr>\n",
       "     <td>B</td>      <td>F</td>    <td>-0.7413</td>  <td>0.001</td> <td>-1.1845</td> <td>-0.2982</td>  <td>True</td> \n",
       "</tr>\n",
       "<tr>\n",
       "     <td>C</td>      <td>D</td>    <td>-0.2202</td> <td>0.2603</td> <td>-0.5192</td> <td>0.0788</td>   <td>False</td>\n",
       "</tr>\n",
       "<tr>\n",
       "     <td>C</td>      <td>F</td>    <td>-0.2157</td> <td>0.6272</td> <td>-0.6457</td> <td>0.2144</td>   <td>False</td>\n",
       "</tr>\n",
       "<tr>\n",
       "     <td>D</td>      <td>F</td>    <td>0.0045</td>    <td>0.9</td>  <td>-0.4824</td> <td>0.4914</td>   <td>False</td>\n",
       "</tr>\n",
       "</table>"
      ],
      "text/plain": [
       "<class 'statsmodels.iolib.table.SimpleTable'>"
      ]
     },
     "execution_count": 69,
     "metadata": {},
     "output_type": "execute_result"
    }
   ],
   "source": [
    "tukey.summary()"
   ]
  },
  {
   "cell_type": "markdown",
   "metadata": {},
   "source": [
    "### Các giả định"
   ]
  },
  {
   "cell_type": "code",
   "execution_count": 70,
   "metadata": {},
   "outputs": [
    {
     "data": {
      "image/png": "[encoded data removed]",
      "text/plain": [
       "<Figure size 432x288 with 2 Axes>"
      ]
     },
     "metadata": {
      "needs_background": "light"
     },
     "output_type": "display_data"
    }
   ],
   "source": [
    "fig, ax = plt.subplots(1,2)\n",
    "sm.qqplot(model.resid,line='s', ax=ax[0])\n",
    "plt.xlabel(\"Theoretical Quantiles\")\n",
    "plt.ylabel(\"Sample Residuals\")\n",
    "\n",
    "plt.hist(model.resid, bins='auto', histtype='bar', ec='k')\n",
    "plt.xlabel('Residuals')\n",
    "plt.ylabel('Frequency')\n",
    "plt.show()"
   ]
  },
  {
   "cell_type": "code",
   "execution_count": 71,
   "metadata": {},
   "outputs": [
    {
     "data": {
      "text/plain": [
       "9.45258101707414e-25"
      ]
     },
     "execution_count": 71,
     "metadata": {},
     "output_type": "execute_result"
    }
   ],
   "source": [
    "p_v = stats.shapiro(model.resid)[1]\n",
    "p_v"
   ]
  },
  {
   "cell_type": "markdown",
   "metadata": {},
   "source": [
    "*Mẫu không tuân theo phân phối chuẩn*"
   ]
  },
  {
   "cell_type": "markdown",
   "metadata": {},
   "source": [
    "## So sánh điểm trung bình kết thúc học kỳ của các nhóm Giới tính-Dân tộc"
   ]
  },
  {
   "cell_type": "code",
   "execution_count": 52,
   "metadata": {},
   "outputs": [],
   "source": [
    "gt_dt_diem_cuoi_ky_df = giua_cuoi_ky_df[['DiemCuoiKy']]"
   ]
  },
  {
   "cell_type": "code",
   "execution_count": 53,
   "metadata": {},
   "outputs": [],
   "source": [
    "gt_dt_diem_cuoi_ky_df['GioiTinhDanToc'] = df['Giới tính'] +'- '+df['Dân tộc']"
   ]
  },
  {
   "cell_type": "code",
   "execution_count": 54,
   "metadata": {},
   "outputs": [
    {
     "data": {
      "text/html": [
       "<div>\n",
       "<style scoped>\n",
       "    .dataframe tbody tr th:only-of-type {\n",
       "        vertical-align: middle;\n",
       "    }\n",
       "\n",
       "    .dataframe tbody tr th {\n",
       "        vertical-align: top;\n",
       "    }\n",
       "\n",
       "    .dataframe thead th {\n",
       "        text-align: right;\n",
       "    }\n",
       "</style>\n",
       "<table border=\"1\" class=\"dataframe\">\n",
       "  <thead>\n",
       "    <tr style=\"text-align: right;\">\n",
       "      <th></th>\n",
       "      <th>DiemCuoiKy</th>\n",
       "      <th>GioiTinhDanToc</th>\n",
       "    </tr>\n",
       "  </thead>\n",
       "  <tbody>\n",
       "    <tr>\n",
       "      <th>0</th>\n",
       "      <td>2.04</td>\n",
       "      <td>Nữ- Khác</td>\n",
       "    </tr>\n",
       "    <tr>\n",
       "      <th>1</th>\n",
       "      <td>2.03</td>\n",
       "      <td>Nam- Kinh</td>\n",
       "    </tr>\n",
       "    <tr>\n",
       "      <th>2</th>\n",
       "      <td>2.09</td>\n",
       "      <td>Nam- Kinh</td>\n",
       "    </tr>\n",
       "    <tr>\n",
       "      <th>3</th>\n",
       "      <td>0.00</td>\n",
       "      <td>Nam- Kinh</td>\n",
       "    </tr>\n",
       "    <tr>\n",
       "      <th>4</th>\n",
       "      <td>1.78</td>\n",
       "      <td>Nam- Kinh</td>\n",
       "    </tr>\n",
       "  </tbody>\n",
       "</table>\n",
       "</div>"
      ],
      "text/plain": [
       "   DiemCuoiKy GioiTinhDanToc\n",
       "0        2.04       Nữ- Khác\n",
       "1        2.03      Nam- Kinh\n",
       "2        2.09      Nam- Kinh\n",
       "3        0.00      Nam- Kinh\n",
       "4        1.78      Nam- Kinh"
      ]
     },
     "execution_count": 54,
     "metadata": {},
     "output_type": "execute_result"
    }
   ],
   "source": [
    "gt_dt_diem_cuoi_ky_df.head()"
   ]
  },
  {
   "cell_type": "markdown",
   "metadata": {},
   "source": [
    "### Giả thiết thống kê\n",
    "- **H0**: *Không có sự khác biệt của điểm trung bình kết thúc học kỳ giữa các nhóm Giới tính- Dân tộc*\n",
    "- **H1**: *Có sự khác biệt của điểm trung bình kết thúc học kỳ giữa các nhóm Giới tính- Dân tộc*"
   ]
  },
  {
   "cell_type": "markdown",
   "metadata": {},
   "source": [
    "### Kỹ thuật EDA"
   ]
  },
  {
   "cell_type": "code",
   "execution_count": 55,
   "metadata": {},
   "outputs": [
    {
     "data": {
      "image/png": "[encoded data removed]",
      "text/plain": [
       "<Figure size 432x288 with 1 Axes>"
      ]
     },
     "metadata": {
      "needs_background": "light"
     },
     "output_type": "display_data"
    }
   ],
   "source": [
    "sns.boxplot(data=df, x='Giới tính', y='Điểm cuối kỳ', hue = 'Dân tộc', palette=\"Greens\")\n",
    "plt.legend()\n",
    "plt.show()"
   ]
  },
  {
   "cell_type": "markdown",
   "metadata": {},
   "source": [
    "### Kiểm định ANOVA"
   ]
  },
  {
   "cell_type": "code",
   "execution_count": 56,
   "metadata": {},
   "outputs": [],
   "source": [
    "from statsmodels.formula.api import ols\n",
    "import statsmodels.api as sm"
   ]
  },
  {
   "cell_type": "code",
   "execution_count": 57,
   "metadata": {},
   "outputs": [],
   "source": [
    "model = ols('DiemCuoiKy ~ C(GioiTinhDanToc)', data=gt_dt_diem_cuoi_ky_df).fit()\n",
    "anova_table = sm.stats.anova_lm(model, typ=2)"
   ]
  },
  {
   "cell_type": "code",
   "execution_count": 58,
   "metadata": {},
   "outputs": [
    {
     "data": {
      "text/html": [
       "<div>\n",
       "<style scoped>\n",
       "    .dataframe tbody tr th:only-of-type {\n",
       "        vertical-align: middle;\n",
       "    }\n",
       "\n",
       "    .dataframe tbody tr th {\n",
       "        vertical-align: top;\n",
       "    }\n",
       "\n",
       "    .dataframe thead th {\n",
       "        text-align: right;\n",
       "    }\n",
       "</style>\n",
       "<table border=\"1\" class=\"dataframe\">\n",
       "  <thead>\n",
       "    <tr style=\"text-align: right;\">\n",
       "      <th></th>\n",
       "      <th>sum_sq</th>\n",
       "      <th>df</th>\n",
       "      <th>F</th>\n",
       "      <th>PR(&gt;F)</th>\n",
       "    </tr>\n",
       "  </thead>\n",
       "  <tbody>\n",
       "    <tr>\n",
       "      <th>C(GioiTinhDanToc)</th>\n",
       "      <td>28.468563</td>\n",
       "      <td>3.0</td>\n",
       "      <td>10.036177</td>\n",
       "      <td>0.000002</td>\n",
       "    </tr>\n",
       "    <tr>\n",
       "      <th>Residual</th>\n",
       "      <td>687.401347</td>\n",
       "      <td>727.0</td>\n",
       "      <td>NaN</td>\n",
       "      <td>NaN</td>\n",
       "    </tr>\n",
       "  </tbody>\n",
       "</table>\n",
       "</div>"
      ],
      "text/plain": [
       "                       sum_sq     df          F    PR(>F)\n",
       "C(GioiTinhDanToc)   28.468563    3.0  10.036177  0.000002\n",
       "Residual           687.401347  727.0        NaN       NaN"
      ]
     },
     "execution_count": 58,
     "metadata": {},
     "output_type": "execute_result"
    }
   ],
   "source": [
    "anova_table"
   ]
  },
  {
   "cell_type": "code",
   "execution_count": 59,
   "metadata": {},
   "outputs": [
    {
     "data": {
      "text/html": [
       "<div>\n",
       "<style scoped>\n",
       "    .dataframe tbody tr th:only-of-type {\n",
       "        vertical-align: middle;\n",
       "    }\n",
       "\n",
       "    .dataframe tbody tr th {\n",
       "        vertical-align: top;\n",
       "    }\n",
       "\n",
       "    .dataframe thead th {\n",
       "        text-align: right;\n",
       "    }\n",
       "</style>\n",
       "<table border=\"1\" class=\"dataframe\">\n",
       "  <thead>\n",
       "    <tr style=\"text-align: right;\">\n",
       "      <th></th>\n",
       "      <th>f_score</th>\n",
       "      <th>p_value</th>\n",
       "      <th>KetLuan</th>\n",
       "    </tr>\n",
       "  </thead>\n",
       "  <tbody>\n",
       "    <tr>\n",
       "      <th></th>\n",
       "      <td>10.036177</td>\n",
       "      <td>0.000002</td>\n",
       "      <td>Chấp nhận H1 với mức ý nghĩa 0.05</td>\n",
       "    </tr>\n",
       "  </tbody>\n",
       "</table>\n",
       "</div>"
      ],
      "text/plain": [
       "    f_score   p_value                            KetLuan\n",
       "  10.036177  0.000002  Chấp nhận H1 với mức ý nghĩa 0.05"
      ]
     },
     "execution_count": 59,
     "metadata": {},
     "output_type": "execute_result"
    }
   ],
   "source": [
    "p = {}\n",
    "p['f_score'] = anova_table['F'][0]\n",
    "p['p_value'] = anova_table['PR(>F)'][0]\n",
    "results(p)"
   ]
  },
  {
   "cell_type": "markdown",
   "metadata": {},
   "source": [
    "### Kiểm tra hậu nghiệm"
   ]
  },
  {
   "cell_type": "code",
   "execution_count": 60,
   "metadata": {},
   "outputs": [],
   "source": [
    "from statsmodels.stats.multicomp import pairwise_tukeyhsd"
   ]
  },
  {
   "cell_type": "code",
   "execution_count": 61,
   "metadata": {},
   "outputs": [],
   "source": [
    "tukey = pairwise_tukeyhsd(endog=gt_dt_diem_cuoi_ky_df['DiemCuoiKy'],\n",
    "                         groups=gt_dt_diem_cuoi_ky_df['GioiTinhDanToc'],\n",
    "                         alpha=0.05)"
   ]
  },
  {
   "cell_type": "code",
   "execution_count": 62,
   "metadata": {},
   "outputs": [
    {
     "data": {
      "text/html": [
       "<table class=\"simpletable\">\n",
       "<caption>Multiple Comparison of Means - Tukey HSD, FWER=0.05</caption>\n",
       "<tr>\n",
       "   <th>group1</th>    <th>group2</th>   <th>meandiff</th>  <th>p-adj</th>  <th>lower</th>   <th>upper</th> <th>reject</th>\n",
       "</tr>\n",
       "<tr>\n",
       "  <td>Nam- Khác</td> <td>Nam- Kinh</td>  <td>-0.0205</td>   <td>0.9</td>  <td>-0.2654</td> <td>0.2245</td>  <td>False</td>\n",
       "</tr>\n",
       "<tr>\n",
       "  <td>Nam- Khác</td> <td>Nữ- Khác</td>   <td>-0.4217</td> <td>0.0887</td> <td>-0.8845</td> <td>0.0412</td>  <td>False</td>\n",
       "</tr>\n",
       "<tr>\n",
       "  <td>Nam- Khác</td> <td>Nữ- Kinh</td>   <td>0.4046</td>  <td>0.0028</td> <td>0.1064</td>  <td>0.7028</td>  <td>True</td> \n",
       "</tr>\n",
       "<tr>\n",
       "  <td>Nam- Kinh</td> <td>Nữ- Khác</td>   <td>-0.4012</td> <td>0.0773</td> <td>-0.8309</td> <td>0.0285</td>  <td>False</td>\n",
       "</tr>\n",
       "<tr>\n",
       "  <td>Nam- Kinh</td> <td>Nữ- Kinh</td>   <td>0.4251</td>   <td>0.001</td> <td>0.1814</td>  <td>0.6687</td>  <td>True</td> \n",
       "</tr>\n",
       "<tr>\n",
       "  <td>Nữ- Khác</td>  <td>Nữ- Kinh</td>   <td>0.8263</td>   <td>0.001</td> <td>0.3641</td>  <td>1.2884</td>  <td>True</td> \n",
       "</tr>\n",
       "</table>"
      ],
      "text/plain": [
       "<class 'statsmodels.iolib.table.SimpleTable'>"
      ]
     },
     "execution_count": 62,
     "metadata": {},
     "output_type": "execute_result"
    }
   ],
   "source": [
    "tukey.summary()"
   ]
  },
  {
   "cell_type": "markdown",
   "metadata": {},
   "source": [
    "### Các giả định"
   ]
  },
  {
   "cell_type": "code",
   "execution_count": 72,
   "metadata": {},
   "outputs": [
    {
     "data": {
      "image/png": "[encoded data removed]",
      "text/plain": [
       "<Figure size 432x288 with 2 Axes>"
      ]
     },
     "metadata": {
      "needs_background": "light"
     },
     "output_type": "display_data"
    }
   ],
   "source": [
    "fig, ax = plt.subplots(1,2)\n",
    "sm.qqplot(model.resid,line='s', ax=ax[0])\n",
    "plt.xlabel(\"Theoretical Quantiles\")\n",
    "plt.ylabel(\"Sample Residuals\")\n",
    "\n",
    "plt.hist(model.resid, bins='auto', histtype='bar', ec='k')\n",
    "plt.xlabel('Residuals')\n",
    "plt.ylabel('Frequency')\n",
    "plt.show()"
   ]
  },
  {
   "cell_type": "code",
   "execution_count": 73,
   "metadata": {},
   "outputs": [
    {
     "data": {
      "text/plain": [
       "9.45258101707414e-25"
      ]
     },
     "execution_count": 73,
     "metadata": {},
     "output_type": "execute_result"
    }
   ],
   "source": [
    "p_v = stats.shapiro(model.resid)[1]\n",
    "p_v"
   ]
  },
  {
   "cell_type": "markdown",
   "metadata": {},
   "source": [
    "*Mẫu không tuân theo phân phối chuẩn*"
   ]
  },
  {
   "cell_type": "markdown",
   "metadata": {},
   "source": [
    "## So sánh tỉ lệ Văn/toán của các nhóm Giới tính- Học kỳ"
   ]
  },
  {
   "cell_type": "code",
   "execution_count": 74,
   "metadata": {},
   "outputs": [],
   "source": [
    "df_vt_gt_hk = df[['Tỉ lệ Văn/Toán']]"
   ]
  },
  {
   "cell_type": "code",
   "execution_count": 75,
   "metadata": {},
   "outputs": [
    {
     "name": "stderr",
     "output_type": "stream",
     "text": [
      "<ipython-input-75-e3a40258b2f1>:1: SettingWithCopyWarning: \n",
      "A value is trying to be set on a copy of a slice from a DataFrame.\n",
      "Try using .loc[row_indexer,col_indexer] = value instead\n",
      "\n",
      "See the caveats in the documentation: https://pandas.pydata.org/pandas-docs/stable/user_guide/indexing.html#returning-a-view-versus-a-copy\n",
      "  df_vt_gt_hk['GioiTinhHocKy'] = df['Giới tính']+'-' + df['Học kỳ'].apply(str)\n"
     ]
    }
   ],
   "source": [
    "df_vt_gt_hk['GioiTinhHocKy'] = df['Giới tính']+'-' + df['Học kỳ'].apply(str) "
   ]
  },
  {
   "cell_type": "code",
   "execution_count": 84,
   "metadata": {},
   "outputs": [
    {
     "data": {
      "text/html": [
       "<div>\n",
       "<style scoped>\n",
       "    .dataframe tbody tr th:only-of-type {\n",
       "        vertical-align: middle;\n",
       "    }\n",
       "\n",
       "    .dataframe tbody tr th {\n",
       "        vertical-align: top;\n",
       "    }\n",
       "\n",
       "    .dataframe thead th {\n",
       "        text-align: right;\n",
       "    }\n",
       "</style>\n",
       "<table border=\"1\" class=\"dataframe\">\n",
       "  <thead>\n",
       "    <tr style=\"text-align: right;\">\n",
       "      <th></th>\n",
       "      <th>Tỉ lệ Văn/Toán</th>\n",
       "      <th>GioiTinhHocKy</th>\n",
       "    </tr>\n",
       "  </thead>\n",
       "  <tbody>\n",
       "    <tr>\n",
       "      <th>0</th>\n",
       "      <td>0.48</td>\n",
       "      <td>Nữ-2</td>\n",
       "    </tr>\n",
       "    <tr>\n",
       "      <th>1</th>\n",
       "      <td>0.81</td>\n",
       "      <td>Nam-1</td>\n",
       "    </tr>\n",
       "    <tr>\n",
       "      <th>2</th>\n",
       "      <td>0.81</td>\n",
       "      <td>Nam-2</td>\n",
       "    </tr>\n",
       "    <tr>\n",
       "      <th>3</th>\n",
       "      <td>0.88</td>\n",
       "      <td>Nam-1</td>\n",
       "    </tr>\n",
       "    <tr>\n",
       "      <th>4</th>\n",
       "      <td>0.88</td>\n",
       "      <td>Nam-2</td>\n",
       "    </tr>\n",
       "  </tbody>\n",
       "</table>\n",
       "</div>"
      ],
      "text/plain": [
       "   Tỉ lệ Văn/Toán GioiTinhHocKy\n",
       "0            0.48          Nữ-2\n",
       "1            0.81         Nam-1\n",
       "2            0.81         Nam-2\n",
       "3            0.88         Nam-1\n",
       "4            0.88         Nam-2"
      ]
     },
     "execution_count": 84,
     "metadata": {},
     "output_type": "execute_result"
    }
   ],
   "source": [
    "df_vt_gt_hk.head()"
   ]
  },
  {
   "cell_type": "code",
   "execution_count": 87,
   "metadata": {},
   "outputs": [],
   "source": [
    "df_vt_gt_hk.columns = ['TiLeVanToan', 'GioiTinhHocKy']"
   ]
  },
  {
   "cell_type": "code",
   "execution_count": 112,
   "metadata": {},
   "outputs": [
    {
     "data": {
      "text/html": [
       "<div>\n",
       "<style scoped>\n",
       "    .dataframe tbody tr th:only-of-type {\n",
       "        vertical-align: middle;\n",
       "    }\n",
       "\n",
       "    .dataframe tbody tr th {\n",
       "        vertical-align: top;\n",
       "    }\n",
       "\n",
       "    .dataframe thead th {\n",
       "        text-align: right;\n",
       "    }\n",
       "</style>\n",
       "<table border=\"1\" class=\"dataframe\">\n",
       "  <thead>\n",
       "    <tr style=\"text-align: right;\">\n",
       "      <th></th>\n",
       "      <th>TiLeVanToan</th>\n",
       "      <th>GioiTinhHocKy</th>\n",
       "    </tr>\n",
       "  </thead>\n",
       "  <tbody>\n",
       "    <tr>\n",
       "      <th>0</th>\n",
       "      <td>0.48</td>\n",
       "      <td>Nữ-2</td>\n",
       "    </tr>\n",
       "    <tr>\n",
       "      <th>1</th>\n",
       "      <td>0.81</td>\n",
       "      <td>Nam-1</td>\n",
       "    </tr>\n",
       "    <tr>\n",
       "      <th>2</th>\n",
       "      <td>0.81</td>\n",
       "      <td>Nam-2</td>\n",
       "    </tr>\n",
       "    <tr>\n",
       "      <th>3</th>\n",
       "      <td>0.88</td>\n",
       "      <td>Nam-1</td>\n",
       "    </tr>\n",
       "    <tr>\n",
       "      <th>4</th>\n",
       "      <td>0.88</td>\n",
       "      <td>Nam-2</td>\n",
       "    </tr>\n",
       "  </tbody>\n",
       "</table>\n",
       "</div>"
      ],
      "text/plain": [
       "   TiLeVanToan GioiTinhHocKy\n",
       "0         0.48          Nữ-2\n",
       "1         0.81         Nam-1\n",
       "2         0.81         Nam-2\n",
       "3         0.88         Nam-1\n",
       "4         0.88         Nam-2"
      ]
     },
     "execution_count": 112,
     "metadata": {},
     "output_type": "execute_result"
    }
   ],
   "source": [
    "df_vt_gt_hk.head()"
   ]
  },
  {
   "cell_type": "markdown",
   "metadata": {},
   "source": [
    "### Giả thiết thống kê\n",
    "- **H0**: *Trung bình Văn/Toán không có sự khác nhau về Giới tính - Học kỳ*\n",
    "- **H1**: *Trung bình Văn/Toán có sự khác nhau về Giới tính - Học kỳ*"
   ]
  },
  {
   "cell_type": "markdown",
   "metadata": {},
   "source": [
    "### Kỹ Thuật EDA"
   ]
  },
  {
   "cell_type": "code",
   "execution_count": 108,
   "metadata": {},
   "outputs": [
    {
     "data": {
      "image/png": "[encoded data removed]",
      "text/plain": [
       "<Figure size 432x288 with 1 Axes>"
      ]
     },
     "metadata": {
      "needs_background": "light"
     },
     "output_type": "display_data"
    }
   ],
   "source": [
    "sns.boxplot(x='GioiTinhHocKy',y='TiLeVanToan',data = df_vt_gt_hk, palette=\"Greens\")\n",
    "plt.show()"
   ]
  },
  {
   "cell_type": "markdown",
   "metadata": {},
   "source": [
    "### Kiểm định ANOVA"
   ]
  },
  {
   "cell_type": "code",
   "execution_count": 109,
   "metadata": {},
   "outputs": [],
   "source": [
    "from statsmodels.formula.api import ols\n",
    "import statsmodels.api as sm"
   ]
  },
  {
   "cell_type": "code",
   "execution_count": 110,
   "metadata": {},
   "outputs": [],
   "source": [
    "model = ols('TiLeVanToan ~ C(GioiTinhHocKy)', data=df_vt_gt_hk).fit()\n",
    "anova_table = sm.stats.anova_lm(model, typ=2)"
   ]
  },
  {
   "cell_type": "code",
   "execution_count": 111,
   "metadata": {},
   "outputs": [
    {
     "data": {
      "text/html": [
       "<div>\n",
       "<style scoped>\n",
       "    .dataframe tbody tr th:only-of-type {\n",
       "        vertical-align: middle;\n",
       "    }\n",
       "\n",
       "    .dataframe tbody tr th {\n",
       "        vertical-align: top;\n",
       "    }\n",
       "\n",
       "    .dataframe thead th {\n",
       "        text-align: right;\n",
       "    }\n",
       "</style>\n",
       "<table border=\"1\" class=\"dataframe\">\n",
       "  <thead>\n",
       "    <tr style=\"text-align: right;\">\n",
       "      <th></th>\n",
       "      <th>sum_sq</th>\n",
       "      <th>df</th>\n",
       "      <th>F</th>\n",
       "      <th>PR(&gt;F)</th>\n",
       "    </tr>\n",
       "  </thead>\n",
       "  <tbody>\n",
       "    <tr>\n",
       "      <th>C(GioiTinhHocKy)</th>\n",
       "      <td>0.219092</td>\n",
       "      <td>3.0</td>\n",
       "      <td>3.121938</td>\n",
       "      <td>0.025413</td>\n",
       "    </tr>\n",
       "    <tr>\n",
       "      <th>Residual</th>\n",
       "      <td>17.006554</td>\n",
       "      <td>727.0</td>\n",
       "      <td>NaN</td>\n",
       "      <td>NaN</td>\n",
       "    </tr>\n",
       "  </tbody>\n",
       "</table>\n",
       "</div>"
      ],
      "text/plain": [
       "                     sum_sq     df         F    PR(>F)\n",
       "C(GioiTinhHocKy)   0.219092    3.0  3.121938  0.025413\n",
       "Residual          17.006554  727.0       NaN       NaN"
      ]
     },
     "execution_count": 111,
     "metadata": {},
     "output_type": "execute_result"
    }
   ],
   "source": [
    "anova_table"
   ]
  },
  {
   "cell_type": "code",
   "execution_count": 103,
   "metadata": {},
   "outputs": [
    {
     "data": {
      "text/html": [
       "<div>\n",
       "<style scoped>\n",
       "    .dataframe tbody tr th:only-of-type {\n",
       "        vertical-align: middle;\n",
       "    }\n",
       "\n",
       "    .dataframe tbody tr th {\n",
       "        vertical-align: top;\n",
       "    }\n",
       "\n",
       "    .dataframe thead th {\n",
       "        text-align: right;\n",
       "    }\n",
       "</style>\n",
       "<table border=\"1\" class=\"dataframe\">\n",
       "  <thead>\n",
       "    <tr style=\"text-align: right;\">\n",
       "      <th></th>\n",
       "      <th>f_score</th>\n",
       "      <th>p_value</th>\n",
       "      <th>KetLuan</th>\n",
       "    </tr>\n",
       "  </thead>\n",
       "  <tbody>\n",
       "    <tr>\n",
       "      <th></th>\n",
       "      <td>3.121938</td>\n",
       "      <td>0.025413</td>\n",
       "      <td>Chấp nhận H1 với mức ý nghĩa 0.05</td>\n",
       "    </tr>\n",
       "  </tbody>\n",
       "</table>\n",
       "</div>"
      ],
      "text/plain": [
       "   f_score   p_value                            KetLuan\n",
       "  3.121938  0.025413  Chấp nhận H1 với mức ý nghĩa 0.05"
      ]
     },
     "execution_count": 103,
     "metadata": {},
     "output_type": "execute_result"
    }
   ],
   "source": [
    "p = {}\n",
    "p['f_score'] = anova_table['F'][0]\n",
    "p['p_value'] = anova_table['PR(>F)'][0]\n",
    "results(p)"
   ]
  },
  {
   "cell_type": "markdown",
   "metadata": {},
   "source": [
    "### Kiểm tra hậu nghiệm"
   ]
  },
  {
   "cell_type": "code",
   "execution_count": 97,
   "metadata": {},
   "outputs": [],
   "source": [
    "from statsmodels.stats.multicomp import pairwise_tukeyhsd"
   ]
  },
  {
   "cell_type": "code",
   "execution_count": 99,
   "metadata": {},
   "outputs": [],
   "source": [
    "tukey = pairwise_tukeyhsd(endog=df_vt_gt_hk['TiLeVanToan'],\n",
    "                         groups=df_vt_gt_hk['GioiTinhHocKy'],\n",
    "                         alpha=0.05)"
   ]
  },
  {
   "cell_type": "code",
   "execution_count": 102,
   "metadata": {},
   "outputs": [
    {
     "data": {
      "text/html": [
       "<table class=\"simpletable\">\n",
       "<caption>Multiple Comparison of Means - Tukey HSD, FWER=0.05</caption>\n",
       "<tr>\n",
       "  <th>group1</th> <th>group2</th> <th>meandiff</th>  <th>p-adj</th>  <th>lower</th>   <th>upper</th> <th>reject</th>\n",
       "</tr>\n",
       "<tr>\n",
       "   <td>Nam-1</td>  <td>Nam-2</td>    <td>0.0</td>     <td>0.9</td>  <td>-0.0335</td> <td>0.0335</td>  <td>False</td>\n",
       "</tr>\n",
       "<tr>\n",
       "   <td>Nam-1</td>  <td>Nữ-1</td>   <td>0.0425</td>  <td>0.1044</td> <td>-0.0056</td> <td>0.0905</td>  <td>False</td>\n",
       "</tr>\n",
       "<tr>\n",
       "   <td>Nam-1</td>  <td>Nữ-2</td>   <td>0.0379</td>  <td>0.1735</td> <td>-0.0099</td> <td>0.0857</td>  <td>False</td>\n",
       "</tr>\n",
       "<tr>\n",
       "   <td>Nam-2</td>  <td>Nữ-1</td>   <td>0.0425</td>  <td>0.1044</td> <td>-0.0056</td> <td>0.0905</td>  <td>False</td>\n",
       "</tr>\n",
       "<tr>\n",
       "   <td>Nam-2</td>  <td>Nữ-2</td>   <td>0.0379</td>  <td>0.1735</td> <td>-0.0099</td> <td>0.0857</td>  <td>False</td>\n",
       "</tr>\n",
       "<tr>\n",
       "   <td>Nữ-1</td>   <td>Nữ-2</td>   <td>-0.0045</td>   <td>0.9</td>  <td>-0.0634</td> <td>0.0543</td>  <td>False</td>\n",
       "</tr>\n",
       "</table>"
      ],
      "text/plain": [
       "<class 'statsmodels.iolib.table.SimpleTable'>"
      ]
     },
     "execution_count": 102,
     "metadata": {},
     "output_type": "execute_result"
    }
   ],
   "source": [
    "tukey.summary()"
   ]
  },
  {
   "cell_type": "markdown",
   "metadata": {},
   "source": [
    "### Các giả định"
   ]
  },
  {
   "cell_type": "code",
   "execution_count": 114,
   "metadata": {},
   "outputs": [
    {
     "data": {
      "image/png": "[encoded data removed]",
      "text/plain": [
       "<Figure size 432x288 with 2 Axes>"
      ]
     },
     "metadata": {
      "needs_background": "light"
     },
     "output_type": "display_data"
    }
   ],
   "source": [
    "fig, ax = plt.subplots(1,2)\n",
    "sm.qqplot(model.resid,line='s', ax=ax[0])\n",
    "plt.xlabel(\"Theoretical Quantiles\")\n",
    "plt.ylabel(\"Sample Residuals\")\n",
    "\n",
    "plt.hist(model.resid, bins='auto', histtype='bar', ec='k')\n",
    "plt.xlabel('Residuals')\n",
    "plt.ylabel('Frequency')\n",
    "plt.show()"
   ]
  },
  {
   "cell_type": "code",
   "execution_count": 115,
   "metadata": {},
   "outputs": [
    {
     "data": {
      "text/plain": [
       "2.2109583053264714e-09"
      ]
     },
     "execution_count": 115,
     "metadata": {},
     "output_type": "execute_result"
    }
   ],
   "source": [
    "p_v = stats.shapiro(model.resid)[1]\n",
    "p_v"
   ]
  },
  {
   "cell_type": "markdown",
   "metadata": {},
   "source": [
    "*Mẫu không tuân theo phân phối chuẩn*"
   ]
  }
 ],
 "metadata": {
  "kernelspec": {
   "display_name": "Python 3",
   "language": "python",
   "name": "python3"
  },
  "language_info": {
   "codemirror_mode": {
    "name": "ipython",
    "version": 3
   },
   "file_extension": ".py",
   "mimetype": "text/x-python",
   "name": "python",
   "nbconvert_exporter": "python",
   "pygments_lexer": "ipython3",
   "version": "3.8.5"
  }
 },
 "nbformat": 4,
 "nbformat_minor": 4
}
