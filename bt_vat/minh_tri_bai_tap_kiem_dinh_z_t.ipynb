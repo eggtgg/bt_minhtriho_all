{
  "nbformat": 4,
  "nbformat_minor": 0,
  "metadata": {
    "kernelspec": {
      "display_name": "Python 3",
      "language": "python",
      "name": "python3"
    },
    "language_info": {
      "codemirror_mode": {
        "name": "ipython",
        "version": 3
      },
      "file_extension": ".py",
      "mimetype": "text/x-python",
      "name": "python",
      "nbconvert_exporter": "python",
      "pygments_lexer": "ipython3",
      "version": "3.7.3"
    },
    "colab": {
      "name": "minh_tri_bai_tap_kiem_dinh_z_t.ipynb",
      "provenance": [],
      "include_colab_link": true
    }
  },
  "cells": [
    {
      "cell_type": "markdown",
      "metadata": {
        "id": "view-in-github",
        "colab_type": "text"
      },
      "source": [
        "<a href=\"https://colab.research.google.com/github/eggtgg/bt_minhtriho_all/blob/main/bt_vat/minh_tri_bai_tap_kiem_dinh_z_t.ipynb\" target=\"_parent\"><img src=\"https://colab.research.google.com/assets/colab-badge.svg\" alt=\"Open In Colab\"/></a>"
      ]
    },
    {
      "cell_type": "markdown",
      "metadata": {
        "id": "hodfUUb4LNPf"
      },
      "source": [
        "XÂY DỰNG CHƯƠNG TRÌNH KIỂM ĐỊNH Z (HOẶC T) CHO CÁC BÀI TẬP SAU\n",
        "\n",
        "Gợi ý:\n",
        "\n",
        "- Số liệu được sinh ngẫu nhiên theo phân phối chuẩn\n",
        "- Sử dụng gói phần mềm statsmodels để tiến hành kiểm định\n",
        "- Đối với các bài tập kiểm định giả thuyết thì sinh viên cần phát biểu các giả thuyết (bằng tiếng Việt) $H_{0}$ và $H_{a}$ trước khi lập trình kiểm định"
      ]
    },
    {
      "cell_type": "code",
      "metadata": {
        "colab": {
          "base_uri": "https://localhost:8080/"
        },
        "id": "9d7hpr6tSUBJ",
        "outputId": "0227f765-2194-4283-8550-3aa341daf37f"
      },
      "source": [
        "pip install scipy==1.6.2"
      ],
      "execution_count": 1,
      "outputs": [
        {
          "output_type": "stream",
          "text": [
            "Collecting scipy==1.6.2\n",
            "\u001b[?25l  Downloading https://files.pythonhosted.org/packages/75/91/ee427c42957f8c4cbe477bf4f8b7f608e003a17941e509d1777e58648cb3/scipy-1.6.2-cp37-cp37m-manylinux1_x86_64.whl (27.4MB)\n",
            "\u001b[K     |████████████████████████████████| 27.4MB 144kB/s \n",
            "\u001b[?25hRequirement already satisfied: numpy<1.23.0,>=1.16.5 in /usr/local/lib/python3.7/dist-packages (from scipy==1.6.2) (1.19.5)\n",
            "\u001b[31mERROR: albumentations 0.1.12 has requirement imgaug<0.2.7,>=0.2.5, but you'll have imgaug 0.2.9 which is incompatible.\u001b[0m\n",
            "Installing collected packages: scipy\n",
            "  Found existing installation: scipy 1.4.1\n",
            "    Uninstalling scipy-1.4.1:\n",
            "      Successfully uninstalled scipy-1.4.1\n",
            "Successfully installed scipy-1.6.2\n"
          ],
          "name": "stdout"
        }
      ]
    },
    {
      "cell_type": "code",
      "metadata": {
        "id": "oJoZYu3zS9bR",
        "colab": {
          "base_uri": "https://localhost:8080/"
        },
        "outputId": "5cc556f3-cca0-4e68-d64b-deed5cbbdd77"
      },
      "source": [
        "from scipy import stats\n",
        "import numpy as np\n",
        "from statsmodels.stats.weightstats import ztest"
      ],
      "execution_count": 2,
      "outputs": [
        {
          "output_type": "stream",
          "text": [
            "/usr/local/lib/python3.7/dist-packages/statsmodels/tools/_testing.py:19: FutureWarning: pandas.util.testing is deprecated. Use the functions in the public API at pandas.testing instead.\n",
            "  import pandas.util.testing as tm\n"
          ],
          "name": "stderr"
        }
      ]
    },
    {
      "cell_type": "code",
      "metadata": {
        "id": "GYHWpmK0TT8p"
      },
      "source": [
        "# tinh kiem dinh 2 duoi_1 mau\n",
        "# nhập vào list mẫu theo thứ tự: trung bình mẫu, độ lệch chuẩn, kích thước mẫu\n",
        "# nhập vào list phát biểu theo: giả thuyết H0, mức ý nghĩa alpha\n",
        "# so_huong nhận 1 trong 3 giá trị: 'two-sided', 'less', 'greater'\n",
        "def kiem_dinh_t(mau, phat_bieu, so_huong):\n",
        "    sample = np.random.normal(mau[0],mau[1],mau[2])\n",
        "    null_mean = phat_bieu[0]\n",
        "    alpha = phat_bieu[1]\n",
        "    ts, pvalue = stats.ttest_1samp(sample, null_mean, alternative=so_huong)\n",
        "    if (pvalue < alpha):\n",
        "        print(\"Có bằng chứng để bác bỏ giả thuyết H0. Điều này ngụ ý chấp nhận H0\")\n",
        "    else:\n",
        "        print(\"Không có bằng chứng để bác bỏ giả thuyết H0. Điều này ngụ ý chấp nhận Ha\")\n",
        "\n",
        "# so_huong ‘two-sided’, ‘larger’, ‘smaller’\n",
        "def kiem_dinh_z(mau, phat_bieu, so_huong):\n",
        "    sample = np.random.normal(mau[0],mau[1],mau[2])\n",
        "    null_mean = phat_bieu[0]\n",
        "    alpha = phat_bieu[1]\n",
        "    ztest_Score, p_value= ztest(sample, value = null_mean, alternative=so_huong)\n",
        "    if (p_value < alpha):\n",
        "        print(\"Có bằng chứng để bác bỏ giả thuyết H0. Điều này ngụ ý chấp nhận H0\")\n",
        "    else:\n",
        "        print(\"không có bằng chứng để bác bỏ giả thuyết H0. Điều này ngụ ý chấp nhận Ha\")"
      ],
      "execution_count": 3,
      "outputs": []
    },
    {
      "cell_type": "markdown",
      "metadata": {
        "id": "LGZhnW13LNPk"
      },
      "source": [
        "Bài 1: You’re a Q/C inspector for Gallo. The sample standard deviation for 2-liter bottles is .05 liters.  A random sample of 100 bottles showed sasmple mean = 1.99 liters.  What is the 90%  confidence interval estimate of the true mean amount in 2-liter bottles? "
      ]
    },
    {
      "cell_type": "markdown",
      "metadata": {
        "id": "-CBwdCs5ravT"
      },
      "source": [
        "Phát biểu giả thuyết\n",
        "*   H0: Trung bình của mỗi chai chứa 2 lit\n",
        "*   Ha: Trung bình của mỗi chai chứa khác 2 lit\n",
        "\n"
      ]
    },
    {
      "cell_type": "code",
      "metadata": {
        "id": "YkE4HdTeLNPl",
        "colab": {
          "base_uri": "https://localhost:8080/"
        },
        "outputId": "756e110b-3138-4502-eafa-1ec0dd637ddd"
      },
      "source": [
        "kiem_dinh_z([1.99,0.05,100],[2,0.1],'two-sided')"
      ],
      "execution_count": null,
      "outputs": [
        {
          "output_type": "stream",
          "text": [
            "Có bằng chứng để bác bỏ giả thuyết H0. Điều này ngụ ý chấp nhận H0\n"
          ],
          "name": "stdout"
        }
      ]
    },
    {
      "cell_type": "markdown",
      "metadata": {
        "id": "OYQ5VKEfLNPm"
      },
      "source": [
        "Bài 2: You’re a time study analyst in manufacturing.  You’ve recorded the following task times (min.): 3.6, 4.2, 4.0, 3.5, 3.8, 3.1. What is the 90% confidence interval estimate of the population mean task time? "
      ]
    },
    {
      "cell_type": "code",
      "metadata": {
        "id": "krJcj2vmLNPm",
        "colab": {
          "base_uri": "https://localhost:8080/"
        },
        "outputId": "b2561bcd-2db9-4428-e432-810e90c1e368"
      },
      "source": [
        "a = [3.6, 4.2, 4.0, 3.5, 3.8, 3.1]\n",
        "stats.t.interval(0.9, len(a)-1, loc=np.mean(a), scale=stats.sem(a))"
      ],
      "execution_count": null,
      "outputs": [
        {
          "output_type": "execute_result",
          "data": {
            "text/plain": [
              "(3.3792758632100677, 4.020724136789934)"
            ]
          },
          "metadata": {
            "tags": []
          },
          "execution_count": 8
        }
      ]
    },
    {
      "cell_type": "markdown",
      "metadata": {
        "id": "pRTiBWH3LNPm"
      },
      "source": [
        "Bài 3: Does an average box of cereal contain 368 grams of cereal?  A random sample of 25 boxes had $\\overline{\\rm x}$ = 372.5.  The company has specified $\\sigma$ to be 25 grams.  Test at the .05 level of significance."
      ]
    },
    {
      "cell_type": "markdown",
      "metadata": {
        "id": "4d8LWUPLsQaQ"
      },
      "source": [
        "Phát biểu giả thuyết\n",
        "*   H0: Trung bình của mỗi hộp chứa 368g\n",
        "*   Ha: Trung bình của mỗi chai chứa khác 268g"
      ]
    },
    {
      "cell_type": "code",
      "metadata": {
        "id": "q0799PfWLNPn",
        "colab": {
          "base_uri": "https://localhost:8080/"
        },
        "outputId": "bcffc620-c8bf-4924-b8b3-df8987843f85"
      },
      "source": [
        "kiem_dinh_t([372.5,25,25],[368,0.05],'two-sided')"
      ],
      "execution_count": null,
      "outputs": [
        {
          "output_type": "stream",
          "text": [
            "Không có bằng chứng để bác bỏ giả thuyết H0. Điều này ngụ ý chấp nhận Ha\n"
          ],
          "name": "stdout"
        }
      ]
    },
    {
      "cell_type": "markdown",
      "metadata": {
        "id": "Wzy1pgKzLNPn"
      },
      "source": [
        "Bài 4: You’re a Q/C inspector.  You want to find out if a new machine is making electrical cords to customer specification: average breaking strength of 70 lb. with $\\sigma$ = 3.5 lb.  You take a sample of 36 cords & compute a sample mean of 69.7 lb.  At the .05 level of significance, is there evidence that the machine is not meeting the average breaking strength?"
      ]
    },
    {
      "cell_type": "markdown",
      "metadata": {
        "id": "2TwTOWVws8dC"
      },
      "source": [
        "Phát biểu giả thuyết\n",
        "\n",
        "*   H0: Trung bình lực công phá của mỗi máy là 70lb\n",
        "*   Ha: Trung bình lực công phá của mỗi máy khác 70lb"
      ]
    },
    {
      "cell_type": "code",
      "metadata": {
        "id": "GAzqvmYlLNPn",
        "colab": {
          "base_uri": "https://localhost:8080/"
        },
        "outputId": "2d8ab4ad-17bf-4102-a244-83110571e4ca"
      },
      "source": [
        "kiem_dinh_z([69.7,3.5, 36],[70,0.05],'two-sided')"
      ],
      "execution_count": null,
      "outputs": [
        {
          "output_type": "stream",
          "text": [
            "Chưa có bằng chứng để bác bỏ giả thuyết H0\n"
          ],
          "name": "stdout"
        }
      ]
    },
    {
      "cell_type": "markdown",
      "metadata": {
        "id": "42wY96vLLNPo"
      },
      "source": [
        "Bài 5: Does an average box of cereal contain more than 368 grams of cereal?  A random sample of 25 boxes showed $\\overline{\\rm x}$ =  372.5.  The company has specified $\\sigma$ to be 25 grams.  Test at the .05 level of significance."
      ]
    },
    {
      "cell_type": "markdown",
      "metadata": {
        "id": "6bX7QQmquzC8"
      },
      "source": [
        "Phát biểu giả thuyết\n",
        "*   H0: Trung bình của mỗi hộp chứa 368g\n",
        "*   Ha: Trung bình của mỗi chai chứa khác 368g"
      ]
    },
    {
      "cell_type": "code",
      "metadata": {
        "id": "LOfYQcomLNPo",
        "colab": {
          "base_uri": "https://localhost:8080/"
        },
        "outputId": "2bffa30b-6e1f-4182-ff9d-fc02fcf5816e"
      },
      "source": [
        "kiem_dinh_t([372.5,25,25],[368,0.05],'two-sided')"
      ],
      "execution_count": null,
      "outputs": [
        {
          "output_type": "stream",
          "text": [
            "Không có bằng chứng để bác bỏ giả thuyết H0. Điều này ngụ ý chấp nhận Ha\n"
          ],
          "name": "stdout"
        }
      ]
    },
    {
      "cell_type": "markdown",
      "metadata": {
        "id": "e6Dk323jLNPo"
      },
      "source": [
        "Bài 6: You’re an analyst for Ford.  You want to find out if the average miles per gallon of Escorts is at least 32 mpg. Similar models have a standard deviation of 3.8 mpg. You take a sample of 60 Escorts & compute a sample mean of 30.7 mpg. At the .01 level of significance, is there evidence that the miles per gallon is less than 32?"
      ]
    },
    {
      "cell_type": "markdown",
      "metadata": {
        "id": "MsskVBlfwIm0"
      },
      "source": [
        "Phát biểu giả thuyết\n",
        "*   H0: Trung bình của mỗi gallon of Escort là 32mpg\n",
        "*   Ha: Trung bình của mỗi gallon of Escort < 32mpg"
      ]
    },
    {
      "cell_type": "code",
      "metadata": {
        "id": "RF7ROGlkLNPo",
        "colab": {
          "base_uri": "https://localhost:8080/"
        },
        "outputId": "2fc07d50-7073-4b86-c52d-88fe24148a34"
      },
      "source": [
        "kiem_dinh_z([30.7,3.8,60],[32,0.01],'smaller')"
      ],
      "execution_count": null,
      "outputs": [
        {
          "output_type": "stream",
          "text": [
            "Có bằng chứng để bác bỏ giả thuyết H0. Điều này ngụ ý chấp nhận H0\n"
          ],
          "name": "stdout"
        }
      ]
    },
    {
      "cell_type": "markdown",
      "metadata": {
        "id": "lWVPjSKeLNPp"
      },
      "source": [
        "Bài 7: Does an average box of cereal contain 368 grams of cereal?  A random sample of 25 boxes showed $\\overline{\\rm x}$ = 372.5.  The company has specified $\\sigma$ to be 15 grams.  Find the p-Value."
      ]
    },
    {
      "cell_type": "code",
      "metadata": {
        "id": "gCextdM8LNPp",
        "colab": {
          "base_uri": "https://localhost:8080/"
        },
        "outputId": "b55f4312-b758-4bce-fa27-660af13ca721"
      },
      "source": [
        "so_huong ='two-sided'\n",
        "sample = np.random.normal(372.5,15,25)\n",
        "null_mean = 368\n",
        "ts, pvalue = stats.ttest_1samp(sample, null_mean, alternative=so_huong)\n",
        "print(pvalue)"
      ],
      "execution_count": null,
      "outputs": [
        {
          "output_type": "stream",
          "text": [
            "0.7330552798914456\n"
          ],
          "name": "stdout"
        }
      ]
    },
    {
      "cell_type": "markdown",
      "metadata": {
        "id": "Q3sqCigNLNPp"
      },
      "source": [
        "Bài 8: Does an average box of cereal contain more than 368 grams of cereal?  A random sample of 25 boxes showed $\\overline{\\rm x}$ = 372.5.  The company has specified $\\sigma$ to be 15 grams.  Find the p-Value."
      ]
    },
    {
      "cell_type": "code",
      "metadata": {
        "id": "Do481NcDLNPp",
        "colab": {
          "base_uri": "https://localhost:8080/"
        },
        "outputId": "494d980f-ccbd-4792-a460-9da743e75d33"
      },
      "source": [
        "so_huong ='two-sided'\n",
        "sample = np.random.normal(372.5,15,25)\n",
        "null_mean = 368\n",
        "ts, pvalue = stats.ttest_1samp(sample, null_mean, alternative=so_huong)\n",
        "print(pvalue)"
      ],
      "execution_count": null,
      "outputs": [
        {
          "output_type": "stream",
          "text": [
            "0.15175480824691276\n"
          ],
          "name": "stdout"
        }
      ]
    },
    {
      "cell_type": "markdown",
      "metadata": {
        "id": "9ZeelDJ7LNPq"
      },
      "source": [
        "Bài 9: You’re an analyst for Ford.  You want to find out if the average miles per gallon of Escorts is less than 32 mpg.   Similar models have a standard deviation of 3.8 mpg.  You take a sample of 60 Escorts & compute a sample mean of 30.7 mpg.  What is the value of the observed level of significance (p-Value)?"
      ]
    },
    {
      "cell_type": "code",
      "metadata": {
        "id": "Uw0NbS2xLNPq",
        "colab": {
          "base_uri": "https://localhost:8080/"
        },
        "outputId": "9f9f6182-10e1-44c1-b647-576b8428fb95"
      },
      "source": [
        "so_huong ='smaller'\n",
        "sample = np.random.normal(30.7,3.8,60)\n",
        "null_mean = 32\n",
        "ztest_Score, pvalue= ztest(sample, value = null_mean, alternative=so_huong)\n",
        "print(pvalue)"
      ],
      "execution_count": null,
      "outputs": [
        {
          "output_type": "stream",
          "text": [
            "0.008397875113086746\n"
          ],
          "name": "stdout"
        }
      ]
    },
    {
      "cell_type": "markdown",
      "metadata": {
        "id": "7IJSHb95LNPq"
      },
      "source": [
        "Bài 10: Does an average box of cereal contain 368 grams of cereal?  A random sample of 36 boxes had a mean of 372.5 and a standard deviation of 12 grams. Test at the .05 level of significance."
      ]
    },
    {
      "cell_type": "markdown",
      "metadata": {
        "id": "5N4D8my9wmGy"
      },
      "source": [
        "Phát biểu giả thuyết\n",
        "*   H0: Trung bình của mỗi hộp chứa 368g\n",
        "*   Ha: Trung bình của mỗi chai chứa khác 368g\n"
      ]
    },
    {
      "cell_type": "code",
      "metadata": {
        "id": "RN9XlwttLNPq",
        "colab": {
          "base_uri": "https://localhost:8080/"
        },
        "outputId": "d89c4f80-a07d-4050-b568-041302f30b9f"
      },
      "source": [
        "kiem_dinh_z([372.5,12,36],[368,0.05],'two-sided')"
      ],
      "execution_count": null,
      "outputs": [
        {
          "output_type": "stream",
          "text": [
            "không có bằng chứng để bác bỏ giả thuyết H0. Điều này ngụ ý chấp nhận Ha\n"
          ],
          "name": "stdout"
        }
      ]
    },
    {
      "cell_type": "markdown",
      "metadata": {
        "id": "FGwokYUwLNPq"
      },
      "source": [
        "Bài 11: You work for the FTC.  A manufacturer of detergent claims that the mean weight of detergent is 3.25 lb.  You take a random sample of 64 containers.  You calculate the sample average to be 3.238 lb. with a standard deviation of .117 lb.  At the .01 level of significance, is the manufacturer correct?"
      ]
    },
    {
      "cell_type": "markdown",
      "metadata": {
        "id": "IZSVV1FV3jkb"
      },
      "source": [
        "Phát biểu giả thuyết\n",
        "*   H0: Trung bình của mỗi weight of detergent là 3.25lb\n",
        "*   Ha: Trung bình của mỗi weight of detergent khác 3.238lb"
      ]
    },
    {
      "cell_type": "code",
      "metadata": {
        "id": "gEMpwUg1LNPq",
        "colab": {
          "base_uri": "https://localhost:8080/"
        },
        "outputId": "1c449321-0ba0-44a1-8702-1f13e93cc608"
      },
      "source": [
        "kiem_dinh_z([3.238,0.117,64],[3.25,0.01],'two-sided')"
      ],
      "execution_count": null,
      "outputs": [
        {
          "output_type": "stream",
          "text": [
            "không có bằng chứng để bác bỏ giả thuyết H0. Điều này ngụ ý chấp nhận Ha\n"
          ],
          "name": "stdout"
        }
      ]
    },
    {
      "cell_type": "markdown",
      "metadata": {
        "id": "oEe3-4-nLNPr"
      },
      "source": [
        "Bài 12: Is the average capacity of batteries less than 140 ampere-hours?  A random sample of 20 batteries had a mean of 138.47 and a standard deviation of 2.66.  Assume a normal distribution. Test at the .05 level of significance."
      ]
    },
    {
      "cell_type": "markdown",
      "metadata": {
        "id": "lyBIrEV-5PEx"
      },
      "source": [
        "Phát biểu giả thuyết\n",
        "*   H0: Công suất trung bình của mỗi viên pin là 140 Ah\n",
        "*   Ha: Công suất trung bình của mỗi viên pin < 140 Ah"
      ]
    },
    {
      "cell_type": "code",
      "metadata": {
        "id": "bmcUA5qDLNPr",
        "colab": {
          "base_uri": "https://localhost:8080/"
        },
        "outputId": "2fd38be9-5aa0-42a5-a9c7-f3c9df27b9ef"
      },
      "source": [
        "kiem_dinh_t([138.47,2.26,20],[140,0.05],'less')"
      ],
      "execution_count": null,
      "outputs": [
        {
          "output_type": "stream",
          "text": [
            "Có bằng chứng để bác bỏ giả thuyết H0. Điều này ngụ ý chấp nhận H0\n"
          ],
          "name": "stdout"
        }
      ]
    },
    {
      "cell_type": "markdown",
      "metadata": {
        "id": "tS_dgksfLNPr"
      },
      "source": [
        "Bài 13: You’re a marketing analyst for Wal-Mart.  Wal-Mart had teddy bears on sale last week.  The weekly sales of bears sold in 10 stores was: 8  11  0   4   7   8   10   5   8   3. At the .05 level of significance, is there evidence that the average bear sales per store is more than 5?"
      ]
    },
    {
      "cell_type": "markdown",
      "metadata": {
        "id": "3fihehCT6DCa"
      },
      "source": [
        "Phát biểu giả thuyết\n",
        "*   H0: Số lượng gấu bông trung bình bán ra là 5\n",
        "*   Ha: Số lượng gấu bông trung bình bán ra là > 5"
      ]
    },
    {
      "cell_type": "code",
      "metadata": {
        "id": "9C2neLE2LNPr",
        "colab": {
          "base_uri": "https://localhost:8080/"
        },
        "outputId": "cde2f48e-357f-4962-e73d-7b040dd457a9"
      },
      "source": [
        "H0 = 5\n",
        "a = [8,11, 0, 4, 7, 8, 10, 5, 8, 3]\n",
        "result = stats.t.interval(0.9, len(a)-1, loc=np.mean(a), scale=stats.sem(a))\n",
        "if (H0 > result[0]) and (H0 <result[1]):\n",
        "    print('Có bằng chứng để bác bỏ giả thuyết H0. Điều này ngụ ý chấp nhận H0')\n",
        "else:\n",
        "    print('Không có bằng chứng để bác bỏ giả thuyết H0. Điều này ngụ ý chấp nhận Ha')"
      ],
      "execution_count": 4,
      "outputs": [
        {
          "output_type": "stream",
          "text": [
            "Có bằng chứng để bác bỏ giả thuyết H0. Điều này ngụ ý chấp nhận H0\n"
          ],
          "name": "stdout"
        }
      ]
    },
    {
      "cell_type": "code",
      "metadata": {
        "id": "g_vpJSZ2LNPr",
        "colab": {
          "base_uri": "https://localhost:8080/"
        },
        "outputId": "d85edbe7-cb62-4e86-8334-d671c51dcfb3"
      },
      "source": [
        ""
      ],
      "execution_count": null,
      "outputs": [
        {
          "output_type": "stream",
          "text": [
            "Có bằng chứng để bác bỏ giả thuyết H0\n",
            "Có bằng chứng để bác bỏ giả thuyết H0\n"
          ],
          "name": "stdout"
        }
      ]
    }
  ]
}