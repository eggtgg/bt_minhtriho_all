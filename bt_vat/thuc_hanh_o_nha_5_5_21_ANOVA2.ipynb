{
  "nbformat": 4,
  "nbformat_minor": 0,
  "metadata": {
    "kernelspec": {
      "display_name": "Python 3",
      "language": "python",
      "name": "python3"
    },
    "language_info": {
      "codemirror_mode": {
        "name": "ipython",
        "version": 3
      },
      "file_extension": ".py",
      "mimetype": "text/x-python",
      "name": "python",
      "nbconvert_exporter": "python",
      "pygments_lexer": "ipython3",
      "version": "3.7.3"
    },
    "colab": {
      "name": "thuc_hanh_o_nha_5_5_21_ANOVA2.ipynb",
      "provenance": [],
      "include_colab_link": true
    }
  },
  "cells": [
    {
      "cell_type": "markdown",
      "metadata": {
        "id": "view-in-github",
        "colab_type": "text"
      },
      "source": [
        "<a href=\"https://colab.research.google.com/github/eggtgg/bt_minhtriho_all/blob/main/bt_vat/thuc_hanh_o_nha_5_5_21_ANOVA2.ipynb\" target=\"_parent\"><img src=\"https://colab.research.google.com/assets/colab-badge.svg\" alt=\"Open In Colab\"/></a>"
      ]
    },
    {
      "cell_type": "markdown",
      "metadata": {
        "id": "0vHXMBROPKjm"
      },
      "source": [
        "PHÂN TÍCH ANOVA MỘT CHIỀU\n",
        "\n",
        "Phân tích ANOVA chấp nhận các giả định sau:\n",
        "\n",
        "(1) Tất cả các nhóm đều độc lập với nhau\n",
        "\n",
        "(2) Dữ liệu của mỗi nhóm đều tuân theo phân phối chuẩn. Tính chất này có thể được kiểm định bằng phương pháp Shapiro-Wilks.\n",
        "\n",
        "(3) Phương sai (variance) của các nhóm bằng nhau. Tính chất này có thể được kiểm định bằng phương pháp kiểm định Bartlett hay Levene.\n",
        "\n",
        "Nếu dữ liệu hiện có thỏa mãn các tính chất trên thì chúng ta mới tiến hành kiểm định ANOVA. Do vậy trước khi tiến hành kiểm định ANOVA, chúng ta cần thực hiện kiểm tra tập dữ liệu cần thỏa mãn 3 tính chất trên.\n",
        "    "
      ]
    },
    {
      "cell_type": "code",
      "metadata": {
        "id": "zJcVy1p_aVm2"
      },
      "source": [
        "import numpy as np\n",
        "from scipy import stats"
      ],
      "execution_count": 2,
      "outputs": []
    },
    {
      "cell_type": "code",
      "metadata": {
        "id": "-NrgSJaPPKjs"
      },
      "source": [
        "#Bước 1: Hãy tạo một tập dữ liệu mẫu sample_1 với kích thước 100 tuân theo phân phối chuẩn\n",
        "sample_1 = np.random.normal(100,5,1000)"
      ],
      "execution_count": 3,
      "outputs": []
    },
    {
      "cell_type": "code",
      "metadata": {
        "id": "fqEw5KYRPKjt"
      },
      "source": [
        "#Bước 2: hãy tạo tập dữ liệu mẫu sample_2 với kích thước 100 tuân theo phân phối Poisson\n",
        "sample_2 = np.random.poisson( lam = 8 , size = 1000 )"
      ],
      "execution_count": 4,
      "outputs": []
    },
    {
      "cell_type": "markdown",
      "metadata": {
        "id": "JxNCaLe5PKju"
      },
      "source": [
        "Hãy tham khảo các hướng dẫn sau để kiểm định tính chất thứ 2 bằng phương pháp Shapiro-Wilks đối với sample_1 và sample_2\n",
        "\n",
        "(1) [Tài liệu tham khảo scipy](https://docs.scipy.org/doc/scipy/reference/generated/scipy.stats.shapiro.html)\n",
        "\n",
        "(2) [Hướng dẫn cụ thể của statology](https://www.statology.org/shapiro-wilk-test-python/)"
      ]
    },
    {
      "cell_type": "code",
      "metadata": {
        "id": "cNh5swf-PKjv",
        "colab": {
          "base_uri": "https://localhost:8080/"
        },
        "outputId": "2b41df38-4059-4f6b-825e-717673d839ac"
      },
      "source": [
        "#Code kiểm định tính chất thứ 2 của sample_1 và sample_2\n",
        "p_1 = stats.shapiro(sample_1)[1]\n",
        "p_2 = stats.shapiro(sample_2)[1]\n",
        "print('# Kiểm định Phân phối chuẩn (X1)')\n",
        "print('''Phát biểu giả thiết thống kê:\n",
        "    H0: X1 tuân theo phân phối chuẩn\n",
        "    Ha: X1 khống tuân theo phân phối chuẩn''')\n",
        "if p_1 > 0.05:\n",
        "    print(f'Không có bằng chứng thống kê để bác bỏ giả thiết H0. Điều này ngụ ý X1 tuân theo phân phối chuẩn\\n')\n",
        "else:\n",
        "    print(f'Có bằng chứng thống kê để bác bỏ giả thiết H0. Điều này ngụ ý X1 không tuân theo phân phối chuẩn (Ha)\\n')\n",
        "print('# Kiểm định Phân phối chuẩn (X1)')\n",
        "print('''Phát biểu giả thiết thống kê:\n",
        "    H0: X2 tuân theo phân phối chuẩn\n",
        "    Ha: X2 khống tuân theo phân phối chuẩn''')\n",
        "if p_2 > 0.05:\n",
        "    print(f'Không có bằng chứng thống kê để bác bỏ giả thiết H0. Điều này ngụ ý X2 tuân theo phân phối chuẩn\\n')\n",
        "else:\n",
        "    print(f'Có bằng chứng thống kê để bác bỏ giả thiết H0. Điều này ngụ ý X2 không tuân theo phân phối chuẩn (Ha)\\n')"
      ],
      "execution_count": 6,
      "outputs": [
        {
          "output_type": "stream",
          "text": [
            "# Kiểm định Phân phối chuẩn (X1)\n",
            "Phát biểu giả thiết thống kê:\n",
            "    H0: X1 tuân theo phân phối chuẩn\n",
            "    Ha: X1 khống tuân theo phân phối chuẩn\n",
            "Không có bằng chứng thống kê để bác bỏ giả thiết H0. Điều này ngụ ý X1 tuân theo phân phối chuẩn\n",
            "\n",
            "# Kiểm định Phân phối chuẩn (X1)\n",
            "Phát biểu giả thiết thống kê:\n",
            "    H0: X2 tuân theo phân phối chuẩn\n",
            "    Ha: X2 khống tuân theo phân phối chuẩn\n",
            "Có bằng chứng thống kê để bác bỏ giả thiết H0. Điều này ngụ ý X2 không tuân theo phân phối chuẩn (Ha)\n",
            "\n"
          ],
          "name": "stdout"
        }
      ]
    },
    {
      "cell_type": "markdown",
      "metadata": {
        "id": "IxFGOlnyPKjw"
      },
      "source": [
        "Hãy tham khảo các hướng dẫn sau để kiểm định tính chất thứ 3 bằng kiểm định Bartlett hoặc kiểm định Levene\n",
        "\n",
        "(1) [Hướng dẫn tổng quát](https://www.marsja.se/levenes-bartletts-test-of-equality-homogeneity-of-variance-in-python/)\n",
        "\n",
        "(2) [Hướng dẫn ở stackoverflow](https://stackoverflow.com/questions/36141254/how-to-test-for-homoscedasticity-having-the-same-population-variance-in-python)\n",
        "\n",
        "(3) Sử dụng bài giảng về kiểm định Bartlett và Levene ở buổi trước"
      ]
    },
    {
      "cell_type": "code",
      "metadata": {
        "id": "-FauZVVaPKjw"
      },
      "source": [
        "#Code kiểm định tính đồng nhất về phương sai của các nhóm"
      ],
      "execution_count": null,
      "outputs": []
    },
    {
      "cell_type": "code",
      "metadata": {
        "id": "BoRxgf2hPKjx",
        "colab": {
          "base_uri": "https://localhost:8080/"
        },
        "outputId": "3ed20308-9883-4f27-a5f5-6fec6f7a2f2d"
      },
      "source": [
        "p_3 = stats.levene(sample_1,sample_2)[1]\n",
        "print('# Kiểm định Phương Sai')\n",
        "print('''Phát biểu giả thiết thống kê:\n",
        "      H0: Các phương sai bằng nhau\n",
        "      Ha: có ít nhất một cặp Phương sai không bằng nhau ''')\n",
        "if p_3 > 0.05:\n",
        "    print('Không có bằng chứng thống kê để bác bỏ giả thiết H0. Điều này ngụ ý các phương sai bằng nhau\\n')\n",
        "else:\n",
        "    print('Có bằng chứng thống kê để bác bỏ giả thiết H0. Điều này ngụ ý có ít nhất một cặp Phương sai không bằng nhau (Ha)\\n')"
      ],
      "execution_count": 7,
      "outputs": [
        {
          "output_type": "stream",
          "text": [
            "# Kiểm định Phương Sai\n",
            "Phát biểu giả thiết thống kê:\n",
            "      H0: Các phương sai bằng nhau\n",
            "      Ha: có ít nhất một cặp Phương sai không bằng nhau \n",
            "Có bằng chứng thống kê để bác bỏ giả thiết H0. Điều này ngụ ý có ít nhất một cặp Phương sai không bằng nhau (Ha)\n",
            "\n"
          ],
          "name": "stdout"
        }
      ]
    }
  ]
}