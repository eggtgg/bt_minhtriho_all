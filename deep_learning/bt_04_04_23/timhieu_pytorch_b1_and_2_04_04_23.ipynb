{
  "nbformat": 4,
  "nbformat_minor": 0,
  "metadata": {
    "colab": {
      "provenance": [],
      "authorship_tag": "ABX9TyO4dE9CllMkYHjlIa1uzmJu",
      "include_colab_link": true
    },
    "kernelspec": {
      "name": "python3",
      "display_name": "Python 3"
    },
    "language_info": {
      "name": "python"
    }
  },
  "cells": [
    {
      "cell_type": "markdown",
      "metadata": {
        "id": "view-in-github",
        "colab_type": "text"
      },
      "source": [
        "<a href=\"https://colab.research.google.com/github/eggtgg/bt_minhtriho_all/blob/main/deep_learning/bt_04_04_23/timhieu_pytorch_b1_and_2_04_04_23.ipynb\" target=\"_parent\"><img src=\"https://colab.research.google.com/assets/colab-badge.svg\" alt=\"Open In Colab\"/></a>"
      ]
    },
    {
      "cell_type": "code",
      "execution_count": null,
      "metadata": {
        "colab": {
          "base_uri": "https://localhost:8080/"
        },
        "id": "lDx0Nus5E5Wk",
        "outputId": "d78be613-9008-45ec-f5be-2c2c50d8aefe"
      },
      "outputs": [
        {
          "output_type": "stream",
          "name": "stdout",
          "text": [
            "Epoch [100/1000], Loss: 0.2204\n",
            "Epoch [200/1000], Loss: 0.1110\n",
            "Epoch [300/1000], Loss: 0.0852\n",
            "Epoch [400/1000], Loss: 0.0662\n",
            "Epoch [500/1000], Loss: 0.0518\n",
            "Epoch [600/1000], Loss: 0.0410\n",
            "Epoch [700/1000], Loss: 0.0329\n",
            "Epoch [800/1000], Loss: 0.0268\n",
            "Epoch [900/1000], Loss: 0.0222\n",
            "Epoch [1000/1000], Loss: 0.0187\n",
            "Weights: 2.608917236328125\n",
            "Bias: 2.1961300373077393\n"
          ]
        }
      ],
      "source": [
        "import torch\n",
        "import torch.nn as nn\n",
        "import torch.optim as optim\n",
        "import numpy as np\n",
        "\n",
        "# Tạo dữ liệu mẫu\n",
        "np.random.seed(42)\n",
        "X = np.random.rand(100, 1)  # Feature\n",
        "y = 3 * X.squeeze() + 2 + 0.1 * np.random.randn(100)  # Target\n",
        "\n",
        "# Chuyển dữ liệu thành tensor\n",
        "X_tensor = torch.from_numpy(X).float()\n",
        "y_tensor = torch.from_numpy(y).float()\n",
        "\n",
        "# Định nghĩa mô hình Linear Regression\n",
        "class LinearRegression(nn.Module):\n",
        "    def __init__(self, input_size, output_size):\n",
        "        super(LinearRegression, self).__init__()\n",
        "        self.linear = nn.Linear(input_size, output_size)\n",
        "\n",
        "    def forward(self, x):\n",
        "        return self.linear(x)\n",
        "\n",
        "# Khởi tạo mô hình\n",
        "input_size = 1  # Số lượng features\n",
        "output_size = 1  # Số lượng outputs\n",
        "model = LinearRegression(input_size, output_size)\n",
        "\n",
        "# Định nghĩa hàm loss và optimizer\n",
        "criterion = nn.MSELoss()\n",
        "optimizer = optim.SGD(model.parameters(), lr=0.01)\n",
        "\n",
        "# Huấn luyện mô hình\n",
        "num_epochs = 1000\n",
        "for epoch in range(num_epochs):\n",
        "    # Forward pass: tính toán dự đoán\n",
        "    outputs = model(X_tensor)\n",
        "\n",
        "    # Tính toán loss\n",
        "    loss = criterion(outputs, y_tensor.view(-1, 1))\n",
        "\n",
        "    # Backward pass và optimization\n",
        "    optimizer.zero_grad()\n",
        "    loss.backward()\n",
        "    optimizer.step()\n",
        "\n",
        "    if (epoch+1) % 100 == 0:\n",
        "        print('Epoch [{}/{}], Loss: {:.4f}'.format(epoch+1, num_epochs, loss.item()))\n",
        "\n",
        "# In ra các tham số của mô hình đã học được\n",
        "print('Weights:', model.linear.weight.item())\n",
        "print('Bias:', model.linear.bias.item())\n"
      ]
    },
    {
      "cell_type": "code",
      "source": [
        "# Tạo dữ liệu mẫu\n",
        "np.random.seed(42)\n",
        "X = np.random.rand(100, 2)  # Feature\n",
        "y = (X[:, 0] + X[:, 1] > 1).astype(int)  # Target (binary classification)\n",
        "\n",
        "# Chuyển dữ liệu thành tensor\n",
        "X_tensor = torch.from_numpy(X).float()\n",
        "y_tensor = torch.from_numpy(y).float().view(-1, 1)\n",
        "\n",
        "# Định nghĩa mô hình Logistic Regression\n",
        "class LogisticRegression(nn.Module):\n",
        "    def __init__(self, input_size):\n",
        "        super(LogisticRegression, self).__init__()\n",
        "        self.linear = nn.Linear(input_size, 1)\n",
        "        self.sigmoid = nn.Sigmoid()\n",
        "\n",
        "    def forward(self, x):\n",
        "        return self.sigmoid(self.linear(x))\n",
        "\n",
        "# Khởi tạo mô hình\n",
        "input_size = 2  # Số lượng features\n",
        "model = LogisticRegression(input_size)\n",
        "\n",
        "# Định nghĩa hàm loss và optimizer\n",
        "criterion = nn.BCELoss()\n",
        "optimizer = optim.SGD(model.parameters(), lr=0.2)\n",
        "\n",
        "# Huấn luyện mô hình\n",
        "num_epochs = 1000\n",
        "for epoch in range(num_epochs):\n",
        "    # Forward pass: tính toán dự đoán\n",
        "    outputs = model(X_tensor)\n",
        "\n",
        "    # Tính toán loss\n",
        "    loss = criterion(outputs, y_tensor)\n",
        "\n",
        "    # Backward pass và optimization\n",
        "    optimizer.zero_grad()\n",
        "    loss.backward()\n",
        "    optimizer.step()\n",
        "\n",
        "    if (epoch+1) % 100 == 0:\n",
        "        print('Epoch [{}/{}], Loss: {:.4f}'.format(epoch+1, num_epochs, loss.item()))\n",
        "\n",
        "# In ra các tham số của mô hình đã học được\n",
        "print('Weights:', model.linear.weight.detach().numpy())\n",
        "print('Bias:', model.linear.bias.detach().numpy())\n"
      ],
      "metadata": {
        "colab": {
          "base_uri": "https://localhost:8080/"
        },
        "id": "iBtbG_VSGKev",
        "outputId": "61d034c4-a917-4701-b4b1-e00e00e58392"
      },
      "execution_count": null,
      "outputs": [
        {
          "output_type": "stream",
          "name": "stdout",
          "text": [
            "Epoch [100/1000], Loss: 0.5838\n",
            "Epoch [200/1000], Loss: 0.4736\n",
            "Epoch [300/1000], Loss: 0.4053\n",
            "Epoch [400/1000], Loss: 0.3593\n",
            "Epoch [500/1000], Loss: 0.3262\n",
            "Epoch [600/1000], Loss: 0.3012\n",
            "Epoch [700/1000], Loss: 0.2814\n",
            "Epoch [800/1000], Loss: 0.2654\n",
            "Epoch [900/1000], Loss: 0.2521\n",
            "Epoch [1000/1000], Loss: 0.2408\n",
            "Weights: [[5.57982   3.9558163]]\n",
            "Bias: [-4.923908]\n"
          ]
        }
      ]
    }
  ]
}