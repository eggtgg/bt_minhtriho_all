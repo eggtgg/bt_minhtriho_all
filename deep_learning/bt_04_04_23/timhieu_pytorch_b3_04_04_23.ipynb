{
  "nbformat": 4,
  "nbformat_minor": 0,
  "metadata": {
    "colab": {
      "provenance": [],
      "authorship_tag": "ABX9TyN+/sPLuIVA1bdwH9Mc2Ksm",
      "include_colab_link": true
    },
    "kernelspec": {
      "name": "python3",
      "display_name": "Python 3"
    },
    "language_info": {
      "name": "python"
    }
  },
  "cells": [
    {
      "cell_type": "markdown",
      "metadata": {
        "id": "view-in-github",
        "colab_type": "text"
      },
      "source": [
        "<a href=\"https://colab.research.google.com/github/eggtgg/bt_minhtriho_all/blob/main/deep_learning/bt_04_04_23/timhieu_pytorch_b3_04_04_23.ipynb\" target=\"_parent\"><img src=\"https://colab.research.google.com/assets/colab-badge.svg\" alt=\"Open In Colab\"/></a>"
      ]
    },
    {
      "cell_type": "code",
      "execution_count": 29,
      "metadata": {
        "id": "r3WTlQyRkZd7"
      },
      "outputs": [],
      "source": [
        "import torch\n",
        "import torch.nn as nn\n",
        "import torch.optim as optim\n",
        "import numpy as np"
      ]
    },
    {
      "cell_type": "code",
      "source": [
        "X = np.array([[0,0],\n",
        "              [0,1],\n",
        "              [1,0],\n",
        "              [1,1]])\n",
        "X.shape"
      ],
      "metadata": {
        "colab": {
          "base_uri": "https://localhost:8080/"
        },
        "id": "8ENEIeYzkpeW",
        "outputId": "897b1417-b4db-400a-b352-b70c5abd1e02"
      },
      "execution_count": 30,
      "outputs": [
        {
          "output_type": "execute_result",
          "data": {
            "text/plain": [
              "(4, 2)"
            ]
          },
          "metadata": {},
          "execution_count": 30
        }
      ]
    },
    {
      "cell_type": "code",
      "source": [
        "torch_X = torch.from_numpy(X).float()\n",
        "torch_X"
      ],
      "metadata": {
        "colab": {
          "base_uri": "https://localhost:8080/"
        },
        "id": "bsaqt2Xfk7ct",
        "outputId": "275dfed7-f3d3-4d49-8ebc-c20b686c5b8e"
      },
      "execution_count": 31,
      "outputs": [
        {
          "output_type": "execute_result",
          "data": {
            "text/plain": [
              "tensor([[0., 0.],\n",
              "        [0., 1.],\n",
              "        [1., 0.],\n",
              "        [1., 1.]])"
            ]
          },
          "metadata": {},
          "execution_count": 31
        }
      ]
    },
    {
      "cell_type": "code",
      "source": [
        "y_z1 = np.logical_and(X[:,0], np.logical_not(X[:,1]))\n",
        "y_z2 = np.logical_and(np.logical_not(X[:,0]), X[:,1])\n",
        "\n",
        "torch_y_z1 = torch.from_numpy(y_z1).float().view(-1, 1)\n",
        "torch_y_z2 = torch.from_numpy(y_z2).float().view(-1, 1)\n",
        "\n",
        "z = np.array([y_z1,y_z2]).T\n",
        "torch_z = torch.from_numpy(z).float()\n",
        "torch_z"
      ],
      "metadata": {
        "colab": {
          "base_uri": "https://localhost:8080/"
        },
        "id": "16iN0IcnnYyP",
        "outputId": "7f6a6b82-29cf-4643-e016-89244a04a59f"
      },
      "execution_count": 32,
      "outputs": [
        {
          "output_type": "execute_result",
          "data": {
            "text/plain": [
              "tensor([[0., 0.],\n",
              "        [0., 1.],\n",
              "        [1., 0.],\n",
              "        [0., 0.]])"
            ]
          },
          "metadata": {},
          "execution_count": 32
        }
      ]
    },
    {
      "cell_type": "code",
      "source": [
        "print(torch_y_z1,\"\\n\",torch_y_z2)"
      ],
      "metadata": {
        "colab": {
          "base_uri": "https://localhost:8080/"
        },
        "id": "xZHBjJhgoDSN",
        "outputId": "8ba274a6-a650-4a22-b787-0f9595bbfdb9"
      },
      "execution_count": 33,
      "outputs": [
        {
          "output_type": "stream",
          "name": "stdout",
          "text": [
            "tensor([[0.],\n",
            "        [0.],\n",
            "        [1.],\n",
            "        [0.]]) \n",
            " tensor([[0.],\n",
            "        [1.],\n",
            "        [0.],\n",
            "        [0.]])\n"
          ]
        }
      ]
    },
    {
      "cell_type": "code",
      "source": [
        "y = np.logical_or(y_z1, y_z2)\n",
        "torch_y = torch.from_numpy(y).float().view(-1, 1)"
      ],
      "metadata": {
        "id": "JWylyPDEoTFR"
      },
      "execution_count": 34,
      "outputs": []
    },
    {
      "cell_type": "code",
      "source": [
        "w_x1 = torch.ones(2)\n",
        "w_x2 = torch.ones(2)\n",
        "w_z = torch.ones(2)"
      ],
      "metadata": {
        "id": "6PC-zMuAocxP"
      },
      "execution_count": 35,
      "outputs": []
    },
    {
      "cell_type": "code",
      "source": [
        "w_x1"
      ],
      "metadata": {
        "colab": {
          "base_uri": "https://localhost:8080/"
        },
        "id": "LmwQRDy0pxjm",
        "outputId": "028a91c7-6fb4-43d6-96d4-cbd730834ebf"
      },
      "execution_count": 36,
      "outputs": [
        {
          "output_type": "execute_result",
          "data": {
            "text/plain": [
              "tensor([1., 1.])"
            ]
          },
          "metadata": {},
          "execution_count": 36
        }
      ]
    },
    {
      "cell_type": "code",
      "source": [
        "#z1 = x1 * -x2\n",
        "\"\"\"\n",
        "z1\n",
        "  0\n",
        "  0\n",
        "  1\n",
        "  0\n",
        "\"\"\"\n",
        "#z2 = -x1 * x2\n",
        "\"\"\"\n",
        "z2\n",
        "  0\n",
        "  1\n",
        "  0\n",
        "  0\n",
        "\"\"\""
      ],
      "metadata": {
        "colab": {
          "base_uri": "https://localhost:8080/",
          "height": 36
        },
        "id": "W2SXRiGupLuA",
        "outputId": "027b86a7-d657-4395-eae2-5907c0543c53"
      },
      "execution_count": 37,
      "outputs": [
        {
          "output_type": "execute_result",
          "data": {
            "text/plain": [
              "'\\nz2\\n  0\\n  1\\n  0\\n  0\\n'"
            ],
            "application/vnd.google.colaboratory.intrinsic+json": {
              "type": "string"
            }
          },
          "metadata": {},
          "execution_count": 37
        }
      ]
    },
    {
      "cell_type": "code",
      "source": [
        "x1_with_not_x2 = np.array([X[:,0], np.logical_not(X[:,1])]).T\n",
        "print(x1_with_not_x2,\"\\n\")\n",
        "\n",
        "not_x1_with_x2 = np.array([np.logical_not(X[:,0]), X[:,1]]).T\n",
        "print(not_x1_with_x2)"
      ],
      "metadata": {
        "colab": {
          "base_uri": "https://localhost:8080/"
        },
        "id": "WpxbjMJvp8ed",
        "outputId": "21a0d3d7-beac-4aab-f6c9-e409cf9a7abd"
      },
      "execution_count": 38,
      "outputs": [
        {
          "output_type": "stream",
          "name": "stdout",
          "text": [
            "[[0 1]\n",
            " [0 0]\n",
            " [1 1]\n",
            " [1 0]] \n",
            "\n",
            "[[1 0]\n",
            " [1 1]\n",
            " [0 0]\n",
            " [0 1]]\n"
          ]
        }
      ]
    },
    {
      "cell_type": "code",
      "source": [
        "torch_x1_with_not_x2 = torch.from_numpy(x1_with_not_x2).float()\n",
        "torch_not_x1_with_x2 = torch.from_numpy(not_x1_with_x2).float()"
      ],
      "metadata": {
        "id": "SQ4ZxF54rx7E"
      },
      "execution_count": 40,
      "outputs": []
    },
    {
      "cell_type": "code",
      "source": [
        "def tinh_toan(value):\n",
        "  if value >= 1:\n",
        "    return 1\n",
        "  else:\n",
        "    return 0"
      ],
      "metadata": {
        "id": "WGJDpcharrpb"
      },
      "execution_count": 41,
      "outputs": []
    },
    {
      "cell_type": "code",
      "source": [
        "lr = 0.5"
      ],
      "metadata": {
        "id": "IX01GvChs-Ju"
      },
      "execution_count": 42,
      "outputs": []
    },
    {
      "cell_type": "markdown",
      "source": [
        "w = w+ lr(y-y_pred)*x"
      ],
      "metadata": {
        "id": "X-dOEPIatBq8"
      }
    },
    {
      "cell_type": "code",
      "source": [
        "def update(w, x, y_z):\n",
        "  for time in range(10):\n",
        "    for i in range(4):\n",
        "      z = w.T@x[i]\n",
        "      if (tinh_toan(z) == y_z[i]):\n",
        "        print(\"true\")\n",
        "      else:\n",
        "        w = w + lr*(y_z[i]- tinh_toan(z))*x[i]\n",
        "        print(\"sai\")\n",
        "        break\n",
        "\n",
        "  return w"
      ],
      "metadata": {
        "id": "SFwOM622tDyF"
      },
      "execution_count": 43,
      "outputs": []
    },
    {
      "cell_type": "code",
      "source": [
        "#w_x1\n",
        "update(w_x1,torch_x1_with_not_x2,torch_y_z1)"
      ],
      "metadata": {
        "colab": {
          "base_uri": "https://localhost:8080/"
        },
        "id": "vrR0xEbKuIZM",
        "outputId": "40016cc9-1935-4662-d957-1f2a832e49df"
      },
      "execution_count": 44,
      "outputs": [
        {
          "output_type": "stream",
          "name": "stdout",
          "text": [
            "sai\n",
            "true\n",
            "true\n",
            "true\n",
            "sai\n",
            "true\n",
            "true\n",
            "true\n",
            "true\n",
            "true\n",
            "true\n",
            "true\n",
            "true\n",
            "true\n",
            "true\n",
            "true\n",
            "true\n",
            "true\n",
            "true\n",
            "true\n",
            "true\n",
            "true\n",
            "true\n",
            "true\n",
            "true\n",
            "true\n",
            "true\n",
            "true\n",
            "true\n",
            "true\n",
            "true\n",
            "true\n",
            "true\n",
            "true\n",
            "true\n",
            "true\n",
            "true\n"
          ]
        },
        {
          "output_type": "execute_result",
          "data": {
            "text/plain": [
              "tensor([0.5000, 0.5000])"
            ]
          },
          "metadata": {},
          "execution_count": 44
        }
      ]
    },
    {
      "cell_type": "code",
      "source": [
        "#w_x2\n",
        "update(w_x2,torch_not_x1_with_x2,torch_y_z2)"
      ],
      "metadata": {
        "colab": {
          "base_uri": "https://localhost:8080/"
        },
        "id": "Eu12wKPdUE6m",
        "outputId": "20edc134-298c-4b1b-b5f9-d7f9cbe48f10"
      },
      "execution_count": 45,
      "outputs": [
        {
          "output_type": "stream",
          "name": "stdout",
          "text": [
            "sai\n",
            "true\n",
            "true\n",
            "true\n",
            "sai\n",
            "true\n",
            "true\n",
            "true\n",
            "true\n",
            "true\n",
            "true\n",
            "true\n",
            "true\n",
            "true\n",
            "true\n",
            "true\n",
            "true\n",
            "true\n",
            "true\n",
            "true\n",
            "true\n",
            "true\n",
            "true\n",
            "true\n",
            "true\n",
            "true\n",
            "true\n",
            "true\n",
            "true\n",
            "true\n",
            "true\n",
            "true\n",
            "true\n",
            "true\n",
            "true\n",
            "true\n",
            "true\n"
          ]
        },
        {
          "output_type": "execute_result",
          "data": {
            "text/plain": [
              "tensor([0.5000, 0.5000])"
            ]
          },
          "metadata": {},
          "execution_count": 45
        }
      ]
    },
    {
      "cell_type": "code",
      "source": [
        "#w_z\n",
        "update(w_z,torch_z,torch_y)"
      ],
      "metadata": {
        "colab": {
          "base_uri": "https://localhost:8080/"
        },
        "id": "Zz_KFNy7USDO",
        "outputId": "c64e34cb-1fa4-4e83-f5c6-b6fc9cd85dc4"
      },
      "execution_count": 46,
      "outputs": [
        {
          "output_type": "stream",
          "name": "stdout",
          "text": [
            "true\n",
            "true\n",
            "true\n",
            "true\n",
            "true\n",
            "true\n",
            "true\n",
            "true\n",
            "true\n",
            "true\n",
            "true\n",
            "true\n",
            "true\n",
            "true\n",
            "true\n",
            "true\n",
            "true\n",
            "true\n",
            "true\n",
            "true\n",
            "true\n",
            "true\n",
            "true\n",
            "true\n",
            "true\n",
            "true\n",
            "true\n",
            "true\n",
            "true\n",
            "true\n",
            "true\n",
            "true\n",
            "true\n",
            "true\n",
            "true\n",
            "true\n",
            "true\n",
            "true\n",
            "true\n",
            "true\n"
          ]
        },
        {
          "output_type": "execute_result",
          "data": {
            "text/plain": [
              "tensor([1., 1.])"
            ]
          },
          "metadata": {},
          "execution_count": 46
        }
      ]
    }
  ]
}