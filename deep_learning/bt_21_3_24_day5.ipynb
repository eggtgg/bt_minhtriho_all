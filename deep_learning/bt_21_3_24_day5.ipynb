{
  "nbformat": 4,
  "nbformat_minor": 0,
  "metadata": {
    "colab": {
      "provenance": [],
      "authorship_tag": "ABX9TyO/gr1ZIKt9TC9Q3pde0paU",
      "include_colab_link": true
    },
    "kernelspec": {
      "name": "python3",
      "display_name": "Python 3"
    },
    "language_info": {
      "name": "python"
    }
  },
  "cells": [
    {
      "cell_type": "markdown",
      "metadata": {
        "id": "view-in-github",
        "colab_type": "text"
      },
      "source": [
        "<a href=\"https://colab.research.google.com/github/eggtgg/bt_minhtriho_all/blob/main/deep_learning/bt_21_3_24_day5.ipynb\" target=\"_parent\"><img src=\"https://colab.research.google.com/assets/colab-badge.svg\" alt=\"Open In Colab\"/></a>"
      ]
    },
    {
      "cell_type": "code",
      "execution_count": 2,
      "metadata": {
        "colab": {
          "base_uri": "https://localhost:8080/"
        },
        "id": "TNp8uC8QKHVQ",
        "outputId": "6221fcc8-54b1-4b33-cd76-d452d9f065b5"
      },
      "outputs": [
        {
          "output_type": "stream",
          "name": "stdout",
          "text": [
            "[[1 0 0 0]\n",
            " [1 0 0 1]\n",
            " [1 0 1 0]\n",
            " [1 0 1 1]\n",
            " [1 1 0 0]\n",
            " [1 1 0 1]\n",
            " [1 1 1 0]\n",
            " [1 1 1 1]]\n"
          ]
        }
      ],
      "source": [
        "import numpy as np\n",
        "\n",
        "arr = np.array([\n",
        "    [1, 0, 0, 0],\n",
        "    [1, 0, 0, 1],\n",
        "    [1, 0, 1, 0],\n",
        "    [1, 0, 1, 1],\n",
        "    [1, 1, 0, 0],\n",
        "    [1, 1, 0, 1],\n",
        "    [1, 1, 1, 0],\n",
        "    [1, 1, 1, 1]])\n",
        "print(arr)"
      ]
    },
    {
      "cell_type": "code",
      "source": [
        "theta = 1.0\n",
        "la = 1.0"
      ],
      "metadata": {
        "id": "O53FwjhaNf81"
      },
      "execution_count": 3,
      "outputs": []
    },
    {
      "cell_type": "code",
      "source": [
        "y = np.zeros(8, int)\n",
        "y[-1] = 1"
      ],
      "metadata": {
        "id": "bUgzBR7AMSCk"
      },
      "execution_count": 4,
      "outputs": []
    },
    {
      "cell_type": "code",
      "source": [
        "y"
      ],
      "metadata": {
        "colab": {
          "base_uri": "https://localhost:8080/"
        },
        "id": "1xgqquGtMfC7",
        "outputId": "35572428-4a15-487f-891c-ecbdc65b71c0"
      },
      "execution_count": 5,
      "outputs": [
        {
          "output_type": "execute_result",
          "data": {
            "text/plain": [
              "array([0, 0, 0, 0, 0, 0, 0, 1])"
            ]
          },
          "metadata": {},
          "execution_count": 5
        }
      ]
    },
    {
      "cell_type": "code",
      "source": [
        "w = np.array([1,1,1,1])"
      ],
      "metadata": {
        "id": "8BQDZ5fsLfh0"
      },
      "execution_count": 18,
      "outputs": []
    },
    {
      "cell_type": "code",
      "source": [
        "w.T@arr[0]"
      ],
      "metadata": {
        "colab": {
          "base_uri": "https://localhost:8080/"
        },
        "id": "AvZaPPtfLmI7",
        "outputId": "bc6f67a6-36f1-426a-d87e-d001dcea5a2d"
      },
      "execution_count": 19,
      "outputs": [
        {
          "output_type": "execute_result",
          "data": {
            "text/plain": [
              "1"
            ]
          },
          "metadata": {},
          "execution_count": 19
        }
      ]
    },
    {
      "cell_type": "code",
      "source": [
        "arr[1]"
      ],
      "metadata": {
        "colab": {
          "base_uri": "https://localhost:8080/"
        },
        "id": "jgfq4GCrLujD",
        "outputId": "c8d63ff7-a361-47a8-e95a-5ab68fdd2433"
      },
      "execution_count": 20,
      "outputs": [
        {
          "output_type": "execute_result",
          "data": {
            "text/plain": [
              "array([1, 0, 0, 1])"
            ]
          },
          "metadata": {},
          "execution_count": 20
        }
      ]
    },
    {
      "cell_type": "code",
      "source": [
        "while 1:\n",
        "  count = 0\n",
        "  for stt, x in enumerate(arr):\n",
        "    y_h = w.T@x\n",
        "    if y_h >= theta:\n",
        "      y_hat = 1\n",
        "      print(y[stt],\"so voi\" ,y_hat)\n",
        "    else:\n",
        "      y_hat = 0\n",
        "      print(y[stt],\"so voi\" ,y_hat)\n",
        "    if y_hat == y[stt]:\n",
        "      count+=1\n",
        "      pass\n",
        "    else:\n",
        "      for i, w_i in enumerate(w):\n",
        "        w_i = w_i - la*(y_hat-y[stt])*x[i]\n",
        "        w[i] = w_i\n",
        "      break\n",
        "  if count ==8:\n",
        "    break"
      ],
      "metadata": {
        "colab": {
          "base_uri": "https://localhost:8080/"
        },
        "id": "aT740JC8KHSy",
        "outputId": "d84fe95f-97c9-483b-a1b1-fecafb432fec"
      },
      "execution_count": 21,
      "outputs": [
        {
          "output_type": "stream",
          "name": "stdout",
          "text": [
            "0 so voi 1\n",
            "0 so voi 0\n",
            "0 so voi 1\n",
            "0 so voi 0\n",
            "0 so voi 0\n",
            "0 so voi 0\n",
            "0 so voi 0\n",
            "0 so voi 0\n",
            "0 so voi 0\n",
            "0 so voi 1\n",
            "0 so voi 0\n",
            "0 so voi 0\n",
            "0 so voi 0\n",
            "0 so voi 0\n",
            "0 so voi 0\n",
            "0 so voi 0\n",
            "0 so voi 0\n",
            "1 so voi 0\n",
            "0 so voi 0\n",
            "0 so voi 0\n",
            "0 so voi 0\n",
            "0 so voi 1\n",
            "0 so voi 0\n",
            "0 so voi 0\n",
            "0 so voi 0\n",
            "0 so voi 0\n",
            "0 so voi 0\n",
            "0 so voi 0\n",
            "0 so voi 0\n",
            "1 so voi 0\n",
            "0 so voi 0\n",
            "0 so voi 0\n",
            "0 so voi 0\n",
            "0 so voi 1\n",
            "0 so voi 0\n",
            "0 so voi 0\n",
            "0 so voi 0\n",
            "0 so voi 0\n",
            "0 so voi 0\n",
            "0 so voi 0\n",
            "0 so voi 0\n",
            "1 so voi 0\n",
            "0 so voi 0\n",
            "0 so voi 0\n",
            "0 so voi 0\n",
            "0 so voi 1\n",
            "0 so voi 0\n",
            "0 so voi 0\n",
            "0 so voi 0\n",
            "0 so voi 0\n",
            "0 so voi 1\n",
            "0 so voi 0\n",
            "0 so voi 0\n",
            "0 so voi 0\n",
            "0 so voi 0\n",
            "0 so voi 0\n",
            "0 so voi 0\n",
            "0 so voi 0\n",
            "1 so voi 0\n",
            "0 so voi 0\n",
            "0 so voi 0\n",
            "0 so voi 0\n",
            "0 so voi 0\n",
            "0 so voi 1\n",
            "0 so voi 0\n",
            "0 so voi 0\n",
            "0 so voi 0\n",
            "0 so voi 0\n",
            "0 so voi 0\n",
            "0 so voi 0\n",
            "0 so voi 0\n",
            "1 so voi 1\n"
          ]
        }
      ]
    },
    {
      "cell_type": "code",
      "source": [
        "w"
      ],
      "metadata": {
        "colab": {
          "base_uri": "https://localhost:8080/"
        },
        "id": "9Kf8zMEgbHhx",
        "outputId": "da95c7c0-de97-4db6-a025-21d7ad9cf998"
      },
      "execution_count": 22,
      "outputs": [
        {
          "output_type": "execute_result",
          "data": {
            "text/plain": [
              "array([-3,  2,  1,  1])"
            ]
          },
          "metadata": {},
          "execution_count": 22
        }
      ]
    },
    {
      "cell_type": "code",
      "source": [
        "y"
      ],
      "metadata": {
        "colab": {
          "base_uri": "https://localhost:8080/"
        },
        "id": "AtaKk5bwMAoD",
        "outputId": "b4b7ef0d-c8a0-4f78-8347-a666593cb002"
      },
      "execution_count": 23,
      "outputs": [
        {
          "output_type": "execute_result",
          "data": {
            "text/plain": [
              "array([0, 0, 0, 0, 0, 0, 0, 1])"
            ]
          },
          "metadata": {},
          "execution_count": 23
        }
      ]
    },
    {
      "cell_type": "code",
      "source": [
        "w"
      ],
      "metadata": {
        "colab": {
          "base_uri": "https://localhost:8080/"
        },
        "id": "k_ccfoemJjyV",
        "outputId": "2b220477-94d7-42bd-f362-e21bd341ca8f"
      },
      "execution_count": 24,
      "outputs": [
        {
          "output_type": "execute_result",
          "data": {
            "text/plain": [
              "array([-3,  2,  1,  1])"
            ]
          },
          "metadata": {},
          "execution_count": 24
        }
      ]
    },
    {
      "cell_type": "code",
      "source": [
        "for stt, x in enumerate(arr):\n",
        "    print(w.T@x)"
      ],
      "metadata": {
        "id": "bw04hwtqRIgt",
        "colab": {
          "base_uri": "https://localhost:8080/"
        },
        "outputId": "b13542e2-8f87-4487-8f42-fa53ddb3c356"
      },
      "execution_count": 25,
      "outputs": [
        {
          "output_type": "stream",
          "name": "stdout",
          "text": [
            "-3\n",
            "-2\n",
            "-2\n",
            "-1\n",
            "-1\n",
            "0\n",
            "0\n",
            "1\n"
          ]
        }
      ]
    }
  ]
}