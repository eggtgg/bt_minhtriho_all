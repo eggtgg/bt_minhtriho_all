{
  "nbformat": 4,
  "nbformat_minor": 0,
  "metadata": {
    "colab": {
      "provenance": [],
      "authorship_tag": "ABX9TyN7kD6+MWbZE51mxFXhiuhh",
      "include_colab_link": true
    },
    "kernelspec": {
      "name": "python3",
      "display_name": "Python 3"
    },
    "language_info": {
      "name": "python"
    }
  },
  "cells": [
    {
      "cell_type": "markdown",
      "metadata": {
        "id": "view-in-github",
        "colab_type": "text"
      },
      "source": [
        "<a href=\"https://colab.research.google.com/github/eggtgg/bt_minhtriho_all/blob/main/deep_learning/bt_21_3_24_day5.ipynb\" target=\"_parent\"><img src=\"https://colab.research.google.com/assets/colab-badge.svg\" alt=\"Open In Colab\"/></a>"
      ]
    },
    {
      "cell_type": "code",
      "execution_count": 39,
      "metadata": {
        "colab": {
          "base_uri": "https://localhost:8080/"
        },
        "id": "TNp8uC8QKHVQ",
        "outputId": "1dd7712a-9230-42d5-f8af-a0ce7d380829"
      },
      "outputs": [
        {
          "output_type": "stream",
          "name": "stdout",
          "text": [
            "[[1 0 0 0]\n",
            " [1 0 0 1]\n",
            " [1 0 1 0]\n",
            " [1 0 1 1]\n",
            " [1 1 0 0]\n",
            " [1 1 0 1]\n",
            " [1 1 1 0]\n",
            " [1 1 1 1]]\n"
          ]
        }
      ],
      "source": [
        "import numpy as np\n",
        "\n",
        "arr = np.array([\n",
        "    [1, 0, 0, 0],\n",
        "    [1, 0, 0, 1],\n",
        "    [1, 0, 1, 0],\n",
        "    [1, 0, 1, 1],\n",
        "    [1, 1, 0, 0],\n",
        "    [1, 1, 0, 1],\n",
        "    [1, 1, 1, 0],\n",
        "    [1, 1, 1, 1]])\n",
        "print(arr)"
      ]
    },
    {
      "cell_type": "code",
      "source": [
        "theta = 0\n",
        "la = 1.5"
      ],
      "metadata": {
        "id": "O53FwjhaNf81"
      },
      "execution_count": 40,
      "outputs": []
    },
    {
      "cell_type": "code",
      "source": [
        "y = np.zeros(8, int)\n",
        "y[-1] = 1"
      ],
      "metadata": {
        "id": "bUgzBR7AMSCk"
      },
      "execution_count": 41,
      "outputs": []
    },
    {
      "cell_type": "code",
      "source": [
        "y"
      ],
      "metadata": {
        "colab": {
          "base_uri": "https://localhost:8080/"
        },
        "id": "1xgqquGtMfC7",
        "outputId": "3178c40f-6d66-4656-b62a-174a3e8008d0"
      },
      "execution_count": 42,
      "outputs": [
        {
          "output_type": "execute_result",
          "data": {
            "text/plain": [
              "array([0, 0, 0, 0, 0, 0, 0, 1])"
            ]
          },
          "metadata": {},
          "execution_count": 42
        }
      ]
    },
    {
      "cell_type": "code",
      "source": [
        "w = np.array([1,1,1,1])"
      ],
      "metadata": {
        "id": "8BQDZ5fsLfh0"
      },
      "execution_count": 43,
      "outputs": []
    },
    {
      "cell_type": "code",
      "source": [
        "w.T@arr[0]"
      ],
      "metadata": {
        "colab": {
          "base_uri": "https://localhost:8080/"
        },
        "id": "AvZaPPtfLmI7",
        "outputId": "960b5921-5aa7-45bc-c675-9acbea7a6fd8"
      },
      "execution_count": 44,
      "outputs": [
        {
          "output_type": "execute_result",
          "data": {
            "text/plain": [
              "1"
            ]
          },
          "metadata": {},
          "execution_count": 44
        }
      ]
    },
    {
      "cell_type": "code",
      "source": [
        "arr[1]"
      ],
      "metadata": {
        "colab": {
          "base_uri": "https://localhost:8080/"
        },
        "id": "jgfq4GCrLujD",
        "outputId": "afcc2155-7151-4dc4-b513-21200ea11240"
      },
      "execution_count": 45,
      "outputs": [
        {
          "output_type": "execute_result",
          "data": {
            "text/plain": [
              "array([1, 0, 0, 1])"
            ]
          },
          "metadata": {},
          "execution_count": 45
        }
      ]
    },
    {
      "cell_type": "code",
      "source": [
        "done = False\n",
        "while not done:\n",
        "  for stt, x in enumerate(arr):\n",
        "    y_h = w.T@x\n",
        "    if y_h >= theta:\n",
        "      y_hat = 1\n",
        "    else:\n",
        "      y_hat = 0\n",
        "    if y_hat == y[stt]:\n",
        "      print(\"true\")\n",
        "    else:\n",
        "      for i, w_i in enumerate(w):\n",
        "        w_i = w_i - la*(y_hat-y[stt])*x[i]\n",
        "        w[i] = w_i\n",
        "        done = False\n",
        "        break\n",
        "    if stt == 7:\n",
        "      done = True"
      ],
      "metadata": {
        "colab": {
          "base_uri": "https://localhost:8080/"
        },
        "id": "R-IpiB-DLCK1",
        "outputId": "e2df4060-70bb-4c23-b674-1b1692a0d558"
      },
      "execution_count": 46,
      "outputs": [
        {
          "output_type": "stream",
          "name": "stdout",
          "text": [
            "true\n",
            "true\n",
            "true\n",
            "true\n"
          ]
        }
      ]
    },
    {
      "cell_type": "code",
      "source": [
        "w"
      ],
      "metadata": {
        "colab": {
          "base_uri": "https://localhost:8080/"
        },
        "id": "bw04hwtqRIgt",
        "outputId": "e56e70b2-849b-47f5-9b4d-c3066ac62034"
      },
      "execution_count": 47,
      "outputs": [
        {
          "output_type": "execute_result",
          "data": {
            "text/plain": [
              "array([-3,  1,  1,  1])"
            ]
          },
          "metadata": {},
          "execution_count": 47
        }
      ]
    }
  ]
}