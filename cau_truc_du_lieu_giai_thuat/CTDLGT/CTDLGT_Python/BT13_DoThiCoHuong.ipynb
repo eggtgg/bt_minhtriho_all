{
  "nbformat": 4,
  "nbformat_minor": 0,
  "metadata": {
    "colab": {
      "name": "13_do_thi_co_huong.ipynb",
      "provenance": [],
      "authorship_tag": "ABX9TyOp1qQ/gLuaszFIpZ3ZESLu",
      "include_colab_link": true
    },
    "kernelspec": {
      "name": "python3",
      "display_name": "Python 3"
    },
    "language_info": {
      "name": "python"
    }
  },
  "cells": [
    {
      "cell_type": "markdown",
      "metadata": {
        "id": "view-in-github",
        "colab_type": "text"
      },
      "source": [
        "<a href=\"https://colab.research.google.com/github/eggtgg/bt_minhtriho_all/blob/main/cau_truc_du_lieu_giai_thuat/13_do_thi_co_huong.ipynb\" target=\"_parent\"><img src=\"https://colab.research.google.com/assets/colab-badge.svg\" alt=\"Open In Colab\"/></a>"
      ]
    },
    {
      "cell_type": "code",
      "metadata": {
        "colab": {
          "base_uri": "https://localhost:8080/",
          "height": 248
        },
        "id": "uYbE3nGgk_O4",
        "outputId": "35232384-0727-4564-a362-1bdeb18c71e8"
      },
      "source": [
        "import networkx as nx\n",
        "import matplotlib.pyplot as plt\n",
        "\n",
        "G = nx.DiGraph()\n",
        "G.add_edges_from([('A','B'),('B','C'),('C','D'),('A','C'),('D','D')])\n",
        "\n",
        "red_edges = [('A', 'C'), ('E', 'C')]\n",
        "edge_colours = ['black' if not edge in red_edges else 'red'\n",
        "                for edge in G.edges()]\n",
        "black_edges = [edge for edge in G.edges() if edge not in red_edges]\n",
        "pos = nx.spring_layout(G)\n",
        "nx.draw_networkx_nodes(G, pos, cmap=plt.get_cmap('jet'), \n",
        "                       node_size = 500)\n",
        "nx.draw_networkx_labels(G, pos)\n",
        "nx.draw_networkx_edges(G, pos, edgelist=black_edges, arrows=True)\n",
        "plt.show()"
      ],
      "execution_count": 3,
      "outputs": [
        {
          "output_type": "display_data",
          "data": {
            "image/png": "[encoded data removed]",
            "text/plain": [
              "<Figure size 432x288 with 1 Axes>"
            ]
          },
          "metadata": {
            "tags": []
          }
        }
      ]
    }
  ]
}