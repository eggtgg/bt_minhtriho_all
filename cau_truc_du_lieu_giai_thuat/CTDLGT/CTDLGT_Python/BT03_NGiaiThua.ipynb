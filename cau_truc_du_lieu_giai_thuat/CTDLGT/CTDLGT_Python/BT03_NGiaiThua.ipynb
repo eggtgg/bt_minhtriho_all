{
  "nbformat": 4,
  "nbformat_minor": 0,
  "metadata": {
    "colab": {
      "name": "n_giai_thua.ipynb",
      "provenance": [],
      "collapsed_sections": []
    },
    "kernelspec": {
      "name": "python3",
      "display_name": "Python 3"
    },
    "language_info": {
      "name": "python"
    }
  },
  "cells": [
    {
      "cell_type": "code",
      "metadata": {
        "colab": {
          "base_uri": "https://localhost:8080/"
        },
        "id": "Cmi6UR4B5FoY",
        "outputId": "e7ecee43-ca13-4a6a-f7ea-d2d5af71c64c"
      },
      "source": [
        "#Hàm tính giai thừa\n",
        "def giai_thua(n):\n",
        "    if n == 0:\n",
        "        return 1\n",
        "    else:\n",
        "        return n * giai_thua(n - 1)\n",
        "\n",
        "print(giai_thua(9))"
      ],
      "execution_count": 1,
      "outputs": [
        {
          "output_type": "stream",
          "text": [
            "362880\n"
          ],
          "name": "stdout"
        }
      ]
    }
  ]
}