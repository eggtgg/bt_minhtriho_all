{
  "nbformat": 4,
  "nbformat_minor": 0,
  "metadata": {
    "colab": {
      "name": "Untitled18.ipynb",
      "provenance": []
    },
    "kernelspec": {
      "name": "python3",
      "display_name": "Python 3"
    },
    "language_info": {
      "name": "python"
    }
  },
  "cells": [
    {
      "cell_type": "code",
      "metadata": {
        "id": "RDdB7OBB5lf9"
      },
      "source": [
        "\"\"\"\n",
        " * Tìm ước số chung lớn nhất (USCLN)\n",
        " *\n",
        " * @param a: số nguyên dương\n",
        " * @param b: số nguyên dương\n",
        " * @return USCLN của a và b\n",
        "\"\"\"\n",
        "def uscln(a, b):\n",
        "    if (b == 0):\n",
        "        return a;\n",
        "    return uscln(b, a % b)"
      ],
      "execution_count": 1,
      "outputs": []
    },
    {
      "cell_type": "code",
      "metadata": {
        "colab": {
          "base_uri": "https://localhost:8080/"
        },
        "id": "uW__f3IU5zd0",
        "outputId": "c439fd36-733e-48b1-fe8c-e727f0d68cbb"
      },
      "source": [
        "uscln(5,10)"
      ],
      "execution_count": 2,
      "outputs": [
        {
          "output_type": "execute_result",
          "data": {
            "text/plain": [
              "5"
            ]
          },
          "metadata": {
            "tags": []
          },
          "execution_count": 2
        }
      ]
    }
  ]
}