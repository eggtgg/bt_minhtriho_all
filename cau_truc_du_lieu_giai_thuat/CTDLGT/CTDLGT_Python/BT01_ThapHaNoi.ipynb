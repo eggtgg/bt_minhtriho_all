{
  "nbformat": 4,
  "nbformat_minor": 0,
  "metadata": {
    "colab": {
      "name": "Untitled14.ipynb",
      "provenance": [],
      "authorship_tag": "ABX9TyMfYH4FkPLYK40Yzu/dNTij",
      "include_colab_link": true
    },
    "kernelspec": {
      "name": "python3",
      "display_name": "Python 3"
    }
  },
  "cells": [
    {
      "cell_type": "markdown",
      "metadata": {
        "id": "view-in-github",
        "colab_type": "text"
      },
      "source": [
        "<a href=\"https://colab.research.google.com/github/eggtgg/bt_minhtriho_all/blob/main/baitapdequy.ipynb\" target=\"_parent\"><img src=\"https://colab.research.google.com/assets/colab-badge.svg\" alt=\"Open In Colab\"/></a>"
      ]
    },
    {
      "cell_type": "code",
      "metadata": {
        "id": "0WNFLki7S7x9"
      },
      "source": [
        "def thapHaNoi(n, toaMot, toaHai, toaBa):\r\n",
        "\r\n",
        "    if n == 1:\r\n",
        "        print(\"Chuyen tu\", toaMot, \"sang\", toaBa)\r\n",
        "    else:\r\n",
        "        thapHaNoi(n-1,toaMot,toaBa ,toaHai)\r\n",
        "        print(\"Chuyen tu\", toaMot, \"sang\", toaBa)\r\n",
        "        thapHaNoi(n-1,toaHai,toaMot, toaBa)"
      ],
      "execution_count": 1,
      "outputs": []
    },
    {
      "cell_type": "code",
      "metadata": {
        "colab": {
          "base_uri": "https://localhost:8080/"
        },
        "id": "cT32O5ttS868",
        "outputId": "2ee53c56-2adf-412b-9ff1-c254724b7646"
      },
      "source": [
        "thapHaNoi(4,'A','B','C')"
      ],
      "execution_count": 4,
      "outputs": [
        {
          "output_type": "stream",
          "text": [
            "Chuyen tu A sang B\n",
            "Chuyen tu A sang C\n",
            "Chuyen tu B sang C\n",
            "Chuyen tu A sang B\n",
            "Chuyen tu C sang A\n",
            "Chuyen tu C sang B\n",
            "Chuyen tu A sang B\n",
            "Chuyen tu A sang C\n",
            "Chuyen tu B sang C\n",
            "Chuyen tu B sang A\n",
            "Chuyen tu C sang A\n",
            "Chuyen tu B sang C\n",
            "Chuyen tu A sang B\n",
            "Chuyen tu A sang C\n",
            "Chuyen tu B sang C\n"
          ],
          "name": "stdout"
        }
      ]
    },
    {
      "cell_type": "code",
      "metadata": {
        "id": "AM2Ui_p3TFK2"
      },
      "source": [
        "def ucln(a, b):\r\n",
        "    if (b == 0):\r\n",
        "        return a\r\n",
        "    return uscln(b, a % b)"
      ],
      "execution_count": 8,
      "outputs": []
    },
    {
      "cell_type": "code",
      "metadata": {
        "colab": {
          "base_uri": "https://localhost:8080/"
        },
        "id": "__7sPRzsUUW5",
        "outputId": "4f0d14ed-f685-4bcc-9387-8220c997a11a"
      },
      "source": [
        "ucln(10, 15)"
      ],
      "execution_count": 10,
      "outputs": [
        {
          "output_type": "execute_result",
          "data": {
            "text/plain": [
              "5"
            ]
          },
          "metadata": {
            "tags": []
          },
          "execution_count": 10
        }
      ]
    }
  ]
}