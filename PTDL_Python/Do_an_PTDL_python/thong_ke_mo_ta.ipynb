{
 "cells": [
  {
   "cell_type": "markdown",
   "metadata": {},
   "source": [
    "**ĐỒ ÁN KẾT THÚC HỌC PHẦN**\n",
    "\n",
    "***Thống kê mô tả***"
   ]
  },
  {
   "cell_type": "code",
   "execution_count": 2,
   "metadata": {},
   "outputs": [],
   "source": [
    "import numpy as np\n",
    "import pandas as pd\n",
    "from scipy import stats\n",
    "import seaborn as sns\n",
    "from matplotlib import pyplot as plt\n",
    "import statsmodels.api as sm"
   ]
  },
  {
   "cell_type": "code",
   "execution_count": 3,
   "metadata": {},
   "outputs": [],
   "source": [
    "df = pd.read_csv('Inc_Exp_Data.csv')"
   ]
  },
  {
   "cell_type": "code",
   "execution_count": 4,
   "metadata": {},
   "outputs": [
    {
     "data": {
      "text/html": [
       "<div>\n",
       "<style scoped>\n",
       "    .dataframe tbody tr th:only-of-type {\n",
       "        vertical-align: middle;\n",
       "    }\n",
       "\n",
       "    .dataframe tbody tr th {\n",
       "        vertical-align: top;\n",
       "    }\n",
       "\n",
       "    .dataframe thead th {\n",
       "        text-align: right;\n",
       "    }\n",
       "</style>\n",
       "<table border=\"1\" class=\"dataframe\">\n",
       "  <thead>\n",
       "    <tr style=\"text-align: right;\">\n",
       "      <th></th>\n",
       "      <th>Mthly_HH_Income</th>\n",
       "      <th>Mthly_HH_Expense</th>\n",
       "      <th>No_of_Fly_Members</th>\n",
       "      <th>Emi_or_Rent_Amt</th>\n",
       "      <th>Annual_HH_Income</th>\n",
       "      <th>Highest_Qualified_Member</th>\n",
       "      <th>No_of_Earning_Members</th>\n",
       "    </tr>\n",
       "  </thead>\n",
       "  <tbody>\n",
       "    <tr>\n",
       "      <th>21</th>\n",
       "      <td>32000</td>\n",
       "      <td>15000</td>\n",
       "      <td>4</td>\n",
       "      <td>0</td>\n",
       "      <td>445440</td>\n",
       "      <td>Professional</td>\n",
       "      <td>1</td>\n",
       "    </tr>\n",
       "    <tr>\n",
       "      <th>30</th>\n",
       "      <td>45000</td>\n",
       "      <td>25000</td>\n",
       "      <td>6</td>\n",
       "      <td>0</td>\n",
       "      <td>523800</td>\n",
       "      <td>Graduate</td>\n",
       "      <td>3</td>\n",
       "    </tr>\n",
       "    <tr>\n",
       "      <th>1</th>\n",
       "      <td>6000</td>\n",
       "      <td>7000</td>\n",
       "      <td>2</td>\n",
       "      <td>3000</td>\n",
       "      <td>79920</td>\n",
       "      <td>Illiterate</td>\n",
       "      <td>1</td>\n",
       "    </tr>\n",
       "    <tr>\n",
       "      <th>42</th>\n",
       "      <td>70000</td>\n",
       "      <td>9000</td>\n",
       "      <td>2</td>\n",
       "      <td>0</td>\n",
       "      <td>756000</td>\n",
       "      <td>Graduate</td>\n",
       "      <td>1</td>\n",
       "    </tr>\n",
       "    <tr>\n",
       "      <th>35</th>\n",
       "      <td>47000</td>\n",
       "      <td>15000</td>\n",
       "      <td>7</td>\n",
       "      <td>0</td>\n",
       "      <td>456840</td>\n",
       "      <td>Professional</td>\n",
       "      <td>4</td>\n",
       "    </tr>\n",
       "    <tr>\n",
       "      <th>12</th>\n",
       "      <td>23400</td>\n",
       "      <td>5000</td>\n",
       "      <td>3</td>\n",
       "      <td>0</td>\n",
       "      <td>292032</td>\n",
       "      <td>Illiterate</td>\n",
       "      <td>1</td>\n",
       "    </tr>\n",
       "    <tr>\n",
       "      <th>27</th>\n",
       "      <td>40000</td>\n",
       "      <td>10000</td>\n",
       "      <td>4</td>\n",
       "      <td>0</td>\n",
       "      <td>412800</td>\n",
       "      <td>Under-Graduate</td>\n",
       "      <td>1</td>\n",
       "    </tr>\n",
       "    <tr>\n",
       "      <th>38</th>\n",
       "      <td>55000</td>\n",
       "      <td>45000</td>\n",
       "      <td>6</td>\n",
       "      <td>12000</td>\n",
       "      <td>600600</td>\n",
       "      <td>Graduate</td>\n",
       "      <td>2</td>\n",
       "    </tr>\n",
       "    <tr>\n",
       "      <th>15</th>\n",
       "      <td>25000</td>\n",
       "      <td>12300</td>\n",
       "      <td>3</td>\n",
       "      <td>0</td>\n",
       "      <td>246000</td>\n",
       "      <td>Graduate</td>\n",
       "      <td>1</td>\n",
       "    </tr>\n",
       "    <tr>\n",
       "      <th>19</th>\n",
       "      <td>30000</td>\n",
       "      <td>13000</td>\n",
       "      <td>4</td>\n",
       "      <td>0</td>\n",
       "      <td>385200</td>\n",
       "      <td>Graduate</td>\n",
       "      <td>1</td>\n",
       "    </tr>\n",
       "  </tbody>\n",
       "</table>\n",
       "</div>"
      ],
      "text/plain": [
       "    Mthly_HH_Income  Mthly_HH_Expense  No_of_Fly_Members  Emi_or_Rent_Amt  \\\n",
       "21            32000             15000                  4                0   \n",
       "30            45000             25000                  6                0   \n",
       "1              6000              7000                  2             3000   \n",
       "42            70000              9000                  2                0   \n",
       "35            47000             15000                  7                0   \n",
       "12            23400              5000                  3                0   \n",
       "27            40000             10000                  4                0   \n",
       "38            55000             45000                  6            12000   \n",
       "15            25000             12300                  3                0   \n",
       "19            30000             13000                  4                0   \n",
       "\n",
       "    Annual_HH_Income Highest_Qualified_Member  No_of_Earning_Members  \n",
       "21            445440             Professional                      1  \n",
       "30            523800                 Graduate                      3  \n",
       "1              79920               Illiterate                      1  \n",
       "42            756000                 Graduate                      1  \n",
       "35            456840             Professional                      4  \n",
       "12            292032               Illiterate                      1  \n",
       "27            412800           Under-Graduate                      1  \n",
       "38            600600                 Graduate                      2  \n",
       "15            246000                 Graduate                      1  \n",
       "19            385200                 Graduate                      1  "
      ]
     },
     "execution_count": 4,
     "metadata": {},
     "output_type": "execute_result"
    }
   ],
   "source": [
    "df.sample(10)"
   ]
  },
  {
   "cell_type": "markdown",
   "metadata": {},
   "source": [
    "*Kiểu định tính*"
   ]
  },
  {
   "cell_type": "code",
   "execution_count": 30,
   "metadata": {},
   "outputs": [
    {
     "name": "stdout",
     "output_type": "stream",
     "text": [
      "Mthly_HH_Income\n",
      "count        50.000000\n",
      "mean      41558.000000\n",
      "std       26097.908979\n",
      "min        5000.000000\n",
      "25%       23550.000000\n",
      "50%       35000.000000\n",
      "75%       50375.000000\n",
      "max      100000.000000\n",
      "Name: Mthly_HH_Income, dtype: float64\n",
      "\n",
      "Mthly_HH_Expense\n",
      "count       50.000000\n",
      "mean     18818.000000\n",
      "std      12090.216824\n",
      "min       2000.000000\n",
      "25%      10000.000000\n",
      "50%      15500.000000\n",
      "75%      25000.000000\n",
      "max      50000.000000\n",
      "Name: Mthly_HH_Expense, dtype: float64\n",
      "\n",
      "Emi_or_Rent_Amt\n",
      "count       50.000000\n",
      "mean      3060.000000\n",
      "std       6241.434948\n",
      "min          0.000000\n",
      "25%          0.000000\n",
      "50%          0.000000\n",
      "75%       3500.000000\n",
      "max      35000.000000\n",
      "Name: Emi_or_Rent_Amt, dtype: float64\n",
      "\n",
      "Annual_HH_Income\n",
      "count    5.000000e+01\n",
      "mean     4.900190e+05\n",
      "std      3.201358e+05\n",
      "min      6.420000e+04\n",
      "25%      2.587500e+05\n",
      "50%      4.474200e+05\n",
      "75%      5.947200e+05\n",
      "max      1.404000e+06\n",
      "Name: Annual_HH_Income, dtype: float64\n",
      "\n"
     ]
    }
   ],
   "source": [
    "dinh_luong = {}\n",
    "columns_dinh_luong = ['Mthly_HH_Income', 'Mthly_HH_Expense', 'Emi_or_Rent_Amt', 'Annual_HH_Income']\n",
    "for column in columns_dinh_luong:\n",
    "    print(column)\n",
    "    mo_ta = df[column].describe()\n",
    "    print(mo_ta)\n",
    "    dinh_luong[column] = df[column]\n",
    "    print('')"
   ]
  },
  {
   "cell_type": "markdown",
   "metadata": {},
   "source": [
    "*Kiểu định tính*"
   ]
  },
  {
   "cell_type": "code",
   "execution_count": 40,
   "metadata": {},
   "outputs": [],
   "source": [
    "dinh_tinh = {}\n",
    "columns_dinh_tinh = ['No_of_Fly_Members', 'Highest_Qualified_Member', 'No_of_Earning_Members']"
   ]
  },
  {
   "cell_type": "code",
   "execution_count": 42,
   "metadata": {},
   "outputs": [
    {
     "name": "stdout",
     "output_type": "stream",
     "text": [
      "No_of_Fly_Members\n",
      "\n",
      "Highest_Qualified_Member\n",
      "\n",
      "No_of_Earning_Members\n",
      "\n"
     ]
    }
   ],
   "source": [
    "for column in columns_dinh_tinh:\n",
    "    print(column)\n",
    "    dinh_tinh[column] = df[column]\n",
    "    print('')"
   ]
  },
  {
   "cell_type": "code",
   "execution_count": 27,
   "metadata": {},
   "outputs": [
    {
     "data": {
      "text/plain": [
       "4    15\n",
       "6    10\n",
       "3     9\n",
       "2     8\n",
       "5     5\n",
       "7     2\n",
       "1     1\n",
       "Name: No_of_Fly_Members, dtype: int64"
      ]
     },
     "execution_count": 27,
     "metadata": {},
     "output_type": "execute_result"
    }
   ],
   "source": [
    "df['No_of_Fly_Members'].value_counts()"
   ]
  },
  {
   "cell_type": "code",
   "execution_count": 28,
   "metadata": {},
   "outputs": [
    {
     "data": {
      "text/plain": [
       "1    33\n",
       "2    12\n",
       "3     4\n",
       "4     1\n",
       "Name: No_of_Earning_Members, dtype: int64"
      ]
     },
     "execution_count": 28,
     "metadata": {},
     "output_type": "execute_result"
    }
   ],
   "source": [
    "df['No_of_Earning_Members'].value_counts()"
   ]
  },
  {
   "cell_type": "code",
   "execution_count": 29,
   "metadata": {},
   "outputs": [
    {
     "data": {
      "text/plain": [
       "count           50\n",
       "unique           5\n",
       "top       Graduate\n",
       "freq            19\n",
       "Name: Highest_Qualified_Member, dtype: object"
      ]
     },
     "execution_count": 29,
     "metadata": {},
     "output_type": "execute_result"
    }
   ],
   "source": [
    "df['Highest_Qualified_Member'].describe()"
   ]
  },
  {
   "cell_type": "markdown",
   "metadata": {},
   "source": [
    "**Vẽ Biểu Đồ**"
   ]
  },
  {
   "cell_type": "code",
   "execution_count": 36,
   "metadata": {},
   "outputs": [],
   "source": [
    "data_dinh_luong = pd.DataFrame(dinh_luong)"
   ]
  },
  {
   "cell_type": "code",
   "execution_count": 44,
   "metadata": {},
   "outputs": [],
   "source": [
    "data_dinh_tinh = pd.DataFrame(dinh_tinh)"
   ]
  },
  {
   "cell_type": "markdown",
   "metadata": {},
   "source": [
    "*Đối với kiểu dữ liệu định tính thì sử dụng bar chart nằm ngang*"
   ]
  },
  {
   "cell_type": "code",
   "execution_count": 45,
   "metadata": {},
   "outputs": [
    {
     "data": {
      "image/png": "[encoded data removed]",
      "text/plain": [
       "<Figure size 432x288 with 1 Axes>"
      ]
     },
     "metadata": {
      "needs_background": "light"
     },
     "output_type": "display_data"
    },
    {
     "data": {
      "image/png": "[encoded data removed]",
      "text/plain": [
       "<Figure size 432x288 with 1 Axes>"
      ]
     },
     "metadata": {
      "needs_background": "light"
     },
     "output_type": "display_data"
    },
    {
     "data": {
      "image/png": "[encoded data removed]",
      "text/plain": [
       "<Figure size 432x288 with 1 Axes>"
      ]
     },
     "metadata": {
      "needs_background": "light"
     },
     "output_type": "display_data"
    }
   ],
   "source": [
    "for column in data_dinh_tinh.columns:\n",
    "    p = {}\n",
    "    so_luong = []\n",
    "    #print(data_dinh_tinh[column].value_counts())\n",
    "    dem_data = data_dinh_tinh[column].value_counts()\n",
    "    trinh_do = dem_data.index\n",
    "    for i in dem_data:\n",
    "        so_luong.append(i)\n",
    "    p = {'trinh_do':trinh_do, 'so_luong':so_luong}\n",
    "    data = pd.DataFrame(p)\n",
    "    plt.title(column)\n",
    "    sns.barplot(y = 'trinh_do', x= 'so_luong', data = data)\n",
    "    plt.show()"
   ]
  },
  {
   "cell_type": "code",
   "execution_count": 8,
   "metadata": {},
   "outputs": [],
   "source": [
    "data_dinh_tinh_2 = df[['No_of_Fly_Members','No_of_Earning_Members']]"
   ]
  },
  {
   "cell_type": "code",
   "execution_count": 23,
   "metadata": {},
   "outputs": [
    {
     "data": {
      "image/png": "[encoded data removed]",
      "text/plain": [
       "<Figure size 432x288 with 1 Axes>"
      ]
     },
     "metadata": {
      "needs_background": "light"
     },
     "output_type": "display_data"
    },
    {
     "data": {
      "image/png": "[encoded data removed]",
      "text/plain": [
       "<Figure size 432x288 with 1 Axes>"
      ]
     },
     "metadata": {
      "needs_background": "light"
     },
     "output_type": "display_data"
    }
   ],
   "source": [
    "for column in data_dinh_tinh_2.columns:\n",
    "    p = {}\n",
    "    so_luong = []\n",
    "    levels = []\n",
    "    #print(data_dinh_tinh[column].value_counts())\n",
    "    dem_data = data_dinh_tinh_2[column].value_counts()\n",
    "    levels_0 = dem_data.index\n",
    "    for level in levels_0:\n",
    "        levels.append(str(level))\n",
    "    for i in dem_data:\n",
    "        so_luong.append(i)\n",
    "    p = {'levels':levels, 'so_luong':so_luong}\n",
    "    data = pd.DataFrame(p)\n",
    "    plt.title(column)\n",
    "    sns.barplot(y = 'levels', x = 'so_luong', data = data)\n",
    "    plt.show()"
   ]
  },
  {
   "cell_type": "markdown",
   "metadata": {},
   "source": [
    "*Đối với kiểu dữ liệu định lượng thì vẽ histogram*"
   ]
  },
  {
   "cell_type": "code",
   "execution_count": 37,
   "metadata": {},
   "outputs": [
    {
     "data": {
      "image/png": "[encoded data removed]",
      "text/plain": [
       "<Figure size 432x288 with 1 Axes>"
      ]
     },
     "metadata": {
      "needs_background": "light"
     },
     "output_type": "display_data"
    },
    {
     "data": {
      "image/png": "[encoded data removed]",
      "text/plain": [
       "<Figure size 432x288 with 1 Axes>"
      ]
     },
     "metadata": {
      "needs_background": "light"
     },
     "output_type": "display_data"
    },
    {
     "data": {
      "image/png": "[encoded data removed]",
      "text/plain": [
       "<Figure size 432x288 with 1 Axes>"
      ]
     },
     "metadata": {
      "needs_background": "light"
     },
     "output_type": "display_data"
    },
    {
     "data": {
      "image/png": "[encoded data removed]",
      "text/plain": [
       "<Figure size 432x288 with 1 Axes>"
      ]
     },
     "metadata": {
      "needs_background": "light"
     },
     "output_type": "display_data"
    }
   ],
   "source": [
    "for column in data_dinh_luong.columns:\n",
    "    data = data_dinh_luong[column]\n",
    "    # kiem tra data co chuan hay khong?\n",
    "    mean = np.mean(data)\n",
    "    # ddof = 1 :: hiệu chỉnh\n",
    "    std = np.std(data,ddof=1)\n",
    "    domain = np.linspace(np.min(data),np.max(data))\n",
    "    plt.plot(domain, stats.norm.pdf(domain, mean, std))\n",
    "    # density = True :: chuẩn hóa dữ liệu vè normal\n",
    "    plt.hist(data, edgecolor='black', density = True)\n",
    "    plt.title(column)\n",
    "    plt.show()"
   ]
  }
 ],
 "metadata": {
  "kernelspec": {
   "display_name": "Python 3",
   "language": "python",
   "name": "python3"
  },
  "language_info": {
   "codemirror_mode": {
    "name": "ipython",
    "version": 3
   },
   "file_extension": ".py",
   "mimetype": "text/x-python",
   "name": "python",
   "nbconvert_exporter": "python",
   "pygments_lexer": "ipython3",
   "version": "3.8.5"
  }
 },
 "nbformat": 4,
 "nbformat_minor": 4
}
