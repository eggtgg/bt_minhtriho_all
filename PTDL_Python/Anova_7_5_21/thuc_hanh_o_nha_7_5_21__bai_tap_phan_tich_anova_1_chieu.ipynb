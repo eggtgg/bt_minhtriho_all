{
  "nbformat": 4,
  "nbformat_minor": 0,
  "metadata": {
    "kernelspec": {
      "display_name": "Python 3",
      "language": "python",
      "name": "python3"
    },
    "language_info": {
      "codemirror_mode": {
        "name": "ipython",
        "version": 3
      },
      "file_extension": ".py",
      "mimetype": "text/x-python",
      "name": "python",
      "nbconvert_exporter": "python",
      "pygments_lexer": "ipython3",
      "version": "3.7.3"
    },
    "colab": {
      "name": "thuc_hanh_o_nha_7_5_21_ bai-tap-phan-tich-anova-1-chieu.ipynb",
      "provenance": [],
      "toc_visible": true,
      "include_colab_link": true
    }
  },
  "cells": [
    {
      "cell_type": "markdown",
      "metadata": {
        "id": "view-in-github",
        "colab_type": "text"
      },
      "source": [
        "<a href=\"https://colab.research.google.com/github/eggtgg/bt_minhtriho_all/blob/main/PTDL_Python/Anova_7_5_21/thuc_hanh_o_nha_7_5_21__bai_tap_phan_tich_anova_1_chieu.ipynb\" target=\"_parent\"><img src=\"https://colab.research.google.com/assets/colab-badge.svg\" alt=\"Open In Colab\"/></a>"
      ]
    },
    {
      "cell_type": "markdown",
      "metadata": {
        "id": "TqDUs-c_cokc"
      },
      "source": [
        "Hãy sử dụng các tập dữ liệu sau và tiến hành phân tích ANOVA 1 chiều\n",
        "\n",
        "- [Excavation Depth and Archaeology](https://college.cengage.com/mathematics/brase/understandable_statistics/7e/students/datasets/owan/frames/owan01.html)\n",
        "- [Apple Orchard Experiment](https://college.cengage.com/mathematics/brase/understandable_statistics/7e/students/datasets/owan/frames/owan02.html)\n",
        "- [Red Dye Number 40](https://college.cengage.com/mathematics/brase/understandable_statistics/7e/students/datasets/owan/frames/owan03.html)\n",
        "- [Business Startup Costs](https://college.cengage.com/mathematics/brase/understandable_statistics/7e/students/datasets/owan/frames/owan04.html)\n",
        "- [Weights of Football Players](https://college.cengage.com/mathematics/brase/understandable_statistics/7e/students/datasets/owan/frames/owan05.html)"
      ]
    },
    {
      "cell_type": "code",
      "metadata": {
        "id": "h0Hds9QGcokm"
      },
      "source": [
        "import pandas as pd\n",
        "from scipy import stats"
      ],
      "execution_count": 3,
      "outputs": []
    },
    {
      "cell_type": "markdown",
      "metadata": {
        "id": "okhPpj4Z9p8j"
      },
      "source": [
        "### **Chạy từ từ**"
      ]
    },
    {
      "cell_type": "code",
      "metadata": {
        "colab": {
          "base_uri": "https://localhost:8080/"
        },
        "id": "T8G0ganLq97z",
        "outputId": "c3226689-a7df-4587-8ca4-9499e422989c"
      },
      "source": [
        "df1['X4'].dropna() # loại bỏ Nan"
      ],
      "execution_count": 35,
      "outputs": [
        {
          "output_type": "execute_result",
          "data": {
            "text/plain": [
              "0    96.0\n",
              "1    58.0\n",
              "2    95.0\n",
              "3    90.0\n",
              "4    65.0\n",
              "5    80.0\n",
              "6    85.0\n",
              "7    95.0\n",
              "8    82.0\n",
              "Name: X4, dtype: float64"
            ]
          },
          "metadata": {
            "tags": []
          },
          "execution_count": 35
        }
      ]
    },
    {
      "cell_type": "code",
      "metadata": {
        "colab": {
          "base_uri": "https://localhost:8080/"
        },
        "id": "9UrfYd1hhx6T",
        "outputId": "bbce1eaf-69f9-4a0c-a0ff-0b9c4b6fea08"
      },
      "source": [
        "df1.columns"
      ],
      "execution_count": 36,
      "outputs": [
        {
          "output_type": "execute_result",
          "data": {
            "text/plain": [
              "Index(['X1', 'X2', 'X3', 'X4'], dtype='object')"
            ]
          },
          "metadata": {
            "tags": []
          },
          "execution_count": 36
        }
      ]
    },
    {
      "cell_type": "code",
      "metadata": {
        "id": "YX7GOfLtdtY0",
        "colab": {
          "base_uri": "https://localhost:8080/"
        },
        "outputId": "46554002-eebb-4190-ccaa-7e706d603f2e"
      },
      "source": [
        "for (stt, i) in enumerate(df1.columns):\n",
        "    pvalue_s = stats.shapiro(df1[i].dropna())[1]\n",
        "    print(f'# Kiểm định Phân phối chuẩn (X{stt})')\n",
        "    print(f'''Phát biểu giả thiết thống kê:\n",
        "        H0: X{stt} tuân theo phân phối chuẩn\n",
        "        Ha: X{stt} khống tuân theo phân phối chuẩn''')\n",
        "    if pvalue_s > 0.05:\n",
        "        print(f'Không có bằng chứng thống kê để bác bỏ giả thiết H0. Điều này ngụ ý X{stt} tuân theo phân phối chuẩn\\n')\n",
        "    else:\n",
        "        print(f'Có bằng chứng thống kê để bác bỏ giả thiết H0. Điều này ngụ ý X{stt} không tuân theo phân phối chuẩn (Ha)\\n')"
      ],
      "execution_count": 50,
      "outputs": [
        {
          "output_type": "stream",
          "text": [
            "# Kiểm định Phân phối chuẩn (X0)\n",
            "Phát biểu giả thiết thống kê:\n",
            "        H0: X0 tuân theo phân phối chuẩn\n",
            "        Ha: X0 khống tuân theo phân phối chuẩn\n",
            "Không có bằng chứng thống kê để bác bỏ giả thiết H0. Điều này ngụ ý X0 tuân theo phân phối chuẩn\n",
            "\n",
            "# Kiểm định Phân phối chuẩn (X1)\n",
            "Phát biểu giả thiết thống kê:\n",
            "        H0: X1 tuân theo phân phối chuẩn\n",
            "        Ha: X1 khống tuân theo phân phối chuẩn\n",
            "Không có bằng chứng thống kê để bác bỏ giả thiết H0. Điều này ngụ ý X1 tuân theo phân phối chuẩn\n",
            "\n",
            "# Kiểm định Phân phối chuẩn (X2)\n",
            "Phát biểu giả thiết thống kê:\n",
            "        H0: X2 tuân theo phân phối chuẩn\n",
            "        Ha: X2 khống tuân theo phân phối chuẩn\n",
            "Không có bằng chứng thống kê để bác bỏ giả thiết H0. Điều này ngụ ý X2 tuân theo phân phối chuẩn\n",
            "\n",
            "# Kiểm định Phân phối chuẩn (X3)\n",
            "Phát biểu giả thiết thống kê:\n",
            "        H0: X3 tuân theo phân phối chuẩn\n",
            "        Ha: X3 khống tuân theo phân phối chuẩn\n",
            "Không có bằng chứng thống kê để bác bỏ giả thiết H0. Điều này ngụ ý X3 tuân theo phân phối chuẩn\n",
            "\n"
          ],
          "name": "stdout"
        }
      ]
    },
    {
      "cell_type": "code",
      "metadata": {
        "colab": {
          "base_uri": "https://localhost:8080/"
        },
        "id": "R4RB6Qt8jWHi",
        "outputId": "0ab4e827-8829-49e4-aed5-c2adc21c3d46"
      },
      "source": [
        "pvalue_s"
      ],
      "execution_count": 38,
      "outputs": [
        {
          "output_type": "execute_result",
          "data": {
            "text/plain": [
              "0.13579683005809784"
            ]
          },
          "metadata": {
            "tags": []
          },
          "execution_count": 38
        }
      ]
    },
    {
      "cell_type": "code",
      "metadata": {
        "id": "uqdwbIDDjVr5"
      },
      "source": [
        "args = (df1['X1'].dropna(), df1['X2'].dropna(), df1['X3'].dropna(),df1['X4'].dropna())"
      ],
      "execution_count": 39,
      "outputs": []
    },
    {
      "cell_type": "code",
      "metadata": {
        "colab": {
          "base_uri": "https://localhost:8080/"
        },
        "id": "dBnKz8ecimzE",
        "outputId": "336f55a0-3d42-496f-e14d-08d51c43480b"
      },
      "source": [
        "pl = stats.levene(*args)[1]\n",
        "print('# Kiểm định Phương Sai')\n",
        "print('''Phát biểu giả thiết thống kê:\n",
        "      H0: Các phương sai bằng nhau\n",
        "      Ha: có ít nhất một cặp Phương sai không bằng nhau ''')\n",
        "if pl > 0.05:\n",
        "    print('Không có bằng chứng thống kê để bác bỏ giả thiết H0. Điều này ngụ ý các phương sai bằng nhau\\n')\n",
        "else:\n",
        "    print('Có bằng chứng thống kê để bác bỏ giả thiết H0. Điều này ngụ ý có ít nhất một cặp Phương sai không bằng nhau (Ha)\\n')"
      ],
      "execution_count": 43,
      "outputs": [
        {
          "output_type": "stream",
          "text": [
            "# Kiểm định Phương Sai\n",
            "Phát biểu giả thiết thống kê:\n",
            "      H0: Các phương sai bằng nhau\n",
            "      Ha: có ít nhất một cặp Phương sai không bằng nhau \n",
            "Không có bằng chứng thống kê để bác bỏ giả thiết H0. Điều này ngụ ý các phương sai bằng nhau\n",
            "\n"
          ],
          "name": "stdout"
        }
      ]
    },
    {
      "cell_type": "code",
      "metadata": {
        "colab": {
          "base_uri": "https://localhost:8080/"
        },
        "id": "vIUkl48KkN9u",
        "outputId": "f68c4cbf-a7bc-42e1-9aa3-5fb7c7160654"
      },
      "source": [
        " pv_a = stats.f_oneway(*args)[1]\n",
        "print('# Kiểm định Anova')\n",
        "print('''Phát biểu giả thiết thống kê:\n",
        "      H0: Các giá trị trung bình có giá trị bằng nhau\n",
        "      Ha: Có tối thiểu một cặp giá trị trung bình có giá trị khác nhau ''')\n",
        "if pv_a > 0.05:\n",
        "    print('Không có bằng chứng thống kê để bác bỏ giả thiết H0. Điều này ngụ ý các cặp giá trị trung bình có giá trị bằng nhau\\n')\n",
        "else:\n",
        "    print('Có bằng chứng thống kê để bác bỏ giả thiết H0. Điều này ngụ ý Có tối thiểu một cặp giá trị trung bình có giá trị khác nhau (Ha)\\n')"
      ],
      "execution_count": 46,
      "outputs": [
        {
          "output_type": "stream",
          "text": [
            "# Kiểm định Anova\n",
            "Phát biểu giả thiết thống kê:\n",
            "     H0: Các giá trị trung bình có giá trị bằng nhau\n",
            "     Ha: Có tối thiểu một cặp giá trị trung bình có giá trị khác nhau \n",
            "Có bằng chứng thống kê để bác bỏ giả thiết H0. Điều này ngụ ý Có tối thiểu một cặp giá trị trung bình có giá trị khác nhau (Ha)\n",
            "\n"
          ],
          "name": "stdout"
        }
      ]
    },
    {
      "cell_type": "markdown",
      "metadata": {
        "id": "VI1K0NoE_KdW"
      },
      "source": [
        "### **Xây dựng class**"
      ]
    },
    {
      "cell_type": "code",
      "metadata": {
        "id": "hWbi9QlJyAGq"
      },
      "source": [
        "# class phân tích avova\n",
        "# đầu vào là một data frame\n",
        "class projectAnova:\n",
        "    def __init__(self,data):\n",
        "        self.data = data\n",
        "        self.samples = []\n",
        "        for i in data.columns:\n",
        "            self.samples.append(data[i].dropna())\n",
        "    #kiem tra su phan phoi chuan\n",
        "    def shapiro_test(self):\n",
        "        for (stt, sample) in enumerate(self.samples):\n",
        "            print(f'# Kiểm định Phân phối chuẩn (X{stt})')\n",
        "            print(f'''Phát biểu giả thiết thống kê:\n",
        "            H0: X{stt} tuân theo phân phối chuẩn\n",
        "            Ha: X{stt} khống tuân theo phân phối chuẩn''')\n",
        "            pv_s = stats.shapiro(sample)[1]\n",
        "            if pv_s > 0.05:\n",
        "                print(f'Không có bằng chứng thống kê để bác bỏ giả thiết H0. Điều này ngụ ý X{stt} tuân theo phân phối chuẩn\\n')\n",
        "            else:\n",
        "                print(f'Có bằng chứng thống kê để bác bỏ giả thiết H0. Điều này ngụ ý X{stt} không tuân theo phân phối chuẩn (Ha)\\n')\n",
        "    #kiem tra su khac biet cua phuong sai\n",
        "    def levene_test(self):\n",
        "        pv_l = stats.levene(*self.samples)[1]\n",
        "        print('# Kiểm định Phương Sai')\n",
        "        print('''Phát biểu giả thiết thống kê:\n",
        "            H0: Các phương sai bằng nhau\n",
        "            Ha: có ít nhất một cặp Phương sai không bằng nhau ''')\n",
        "        if pv_l > 0.05:\n",
        "            print('Không có bằng chứng thống kê để bác bỏ giả thiết H0. Điều này ngụ ý các phương sai bằng nhau\\n')\n",
        "        else:\n",
        "            print('Có bằng chứng thống kê để bác bỏ giả thiết H0. Điều này ngụ ý có ít nhất một cặp Phương sai không bằng nhau (Ha)\\n')\n",
        "    #anova test\n",
        "    def anova_test(self):\n",
        "        pv_a = stats.f_oneway(*self.samples)[1]\n",
        "        print('# Kiểm định Anova')\n",
        "        print('''Phát biểu giả thiết thống kê:\n",
        "            H0: Các giá trị trung bình có giá trị bằng nhau\n",
        "            Ha: Có tối thiểu một cặp giá trị trung bình có giá trị khác nhau ''')\n",
        "        if pv_a > 0.05:\n",
        "            print('Không có bằng chứng thống kê để bác bỏ giả thiết H0. Điều này ngụ ý các cặp giá trị trung bình có giá trị bằng nhau\\n')\n",
        "        else:\n",
        "            print('Có bằng chứng thống kê để bác bỏ giả thiết H0. Điều này ngụ ý Có tối thiểu một cặp giá trị trung bình có giá trị khác nhau (Ha)\\n')\n",
        "        \n",
        "                "
      ],
      "execution_count": 19,
      "outputs": []
    },
    {
      "cell_type": "markdown",
      "metadata": {
        "id": "NIS_Drjo_TjA"
      },
      "source": [
        "### **chạy**"
      ]
    },
    {
      "cell_type": "code",
      "metadata": {
        "id": "_1dzLoq6cokn",
        "colab": {
          "base_uri": "https://localhost:8080/"
        },
        "outputId": "d72c6ef9-3f29-4b97-f571-2efedbf13667"
      },
      "source": [
        "df1 = pd.read_excel('owan01.xls')"
      ],
      "execution_count": 22,
      "outputs": [
        {
          "output_type": "stream",
          "text": [
            "*** No CODEPAGE record, no encoding_override: will use 'ascii'\n"
          ],
          "name": "stdout"
        }
      ]
    },
    {
      "cell_type": "code",
      "metadata": {
        "colab": {
          "base_uri": "https://localhost:8080/"
        },
        "id": "y-RuMdVR6cp3",
        "outputId": "ba547564-85e4-446d-c141-80a8175668e0"
      },
      "source": [
        "df2 = pd.read_excel('owan02.xls')"
      ],
      "execution_count": 23,
      "outputs": [
        {
          "output_type": "stream",
          "text": [
            "*** No CODEPAGE record, no encoding_override: will use 'ascii'\n"
          ],
          "name": "stdout"
        }
      ]
    },
    {
      "cell_type": "code",
      "metadata": {
        "id": "ZfpIIiEf5tOm"
      },
      "source": [
        "a1 = projectAnova(df1)"
      ],
      "execution_count": 24,
      "outputs": []
    },
    {
      "cell_type": "code",
      "metadata": {
        "colab": {
          "base_uri": "https://localhost:8080/"
        },
        "id": "FZjT3n0r54w3",
        "outputId": "32f6e60b-9fcc-4825-df51-15a034d6bad3"
      },
      "source": [
        "a1.shapiro_test()\n",
        "a1.levene_test()\n",
        "a1.anova_test()"
      ],
      "execution_count": 25,
      "outputs": [
        {
          "output_type": "stream",
          "text": [
            "# Kiểm định Phân phối chuẩn (X0)\n",
            "Phát biểu giả thiết thống kê:\n",
            "            H0: X0 tuân theo phân phối chuẩn\n",
            "            Ha: X0 khống tuân theo phân phối chuẩn\n",
            "Không có bằng chứng thống kê để bác bỏ giả thiết H0. Điều này ngụ ý X0 tuân theo phân phối chuẩn\n",
            "\n",
            "# Kiểm định Phân phối chuẩn (X1)\n",
            "Phát biểu giả thiết thống kê:\n",
            "            H0: X1 tuân theo phân phối chuẩn\n",
            "            Ha: X1 khống tuân theo phân phối chuẩn\n",
            "Không có bằng chứng thống kê để bác bỏ giả thiết H0. Điều này ngụ ý X1 tuân theo phân phối chuẩn\n",
            "\n",
            "# Kiểm định Phân phối chuẩn (X2)\n",
            "Phát biểu giả thiết thống kê:\n",
            "            H0: X2 tuân theo phân phối chuẩn\n",
            "            Ha: X2 khống tuân theo phân phối chuẩn\n",
            "Không có bằng chứng thống kê để bác bỏ giả thiết H0. Điều này ngụ ý X2 tuân theo phân phối chuẩn\n",
            "\n",
            "# Kiểm định Phân phối chuẩn (X3)\n",
            "Phát biểu giả thiết thống kê:\n",
            "            H0: X3 tuân theo phân phối chuẩn\n",
            "            Ha: X3 khống tuân theo phân phối chuẩn\n",
            "Không có bằng chứng thống kê để bác bỏ giả thiết H0. Điều này ngụ ý X3 tuân theo phân phối chuẩn\n",
            "\n",
            "# Kiểm định Phương Sai\n",
            "Phát biểu giả thiết thống kê:\n",
            "            H0: Các phương sai bằng nhau\n",
            "            Ha: có ít nhất một cặp Phương sai không bằng nhau \n",
            "Không có bằng chứng thống kê để bác bỏ giả thiết H0. Điều này ngụ ý các phương sai bằng nhau\n",
            "\n",
            "# Kiểm định Anova\n",
            "Phát biểu giả thiết thống kê:\n",
            "            H0: Các giá trị trung bình có giá trị bằng nhau\n",
            "            Ha: Có tối thiểu một cặp giá trị trung bình có giá trị khác nhau \n",
            "có bằng chứng thống kê để bác bỏ giả thiết H0. Điều này ngụ ý Có tối thiểu một cặp giá trị trung bình có giá trị khác nhau (Ha)\n",
            "\n"
          ],
          "name": "stdout"
        }
      ]
    },
    {
      "cell_type": "code",
      "metadata": {
        "id": "1Ple-SkP6nWX"
      },
      "source": [
        "a2 = projectAnova(df2)"
      ],
      "execution_count": 26,
      "outputs": []
    },
    {
      "cell_type": "code",
      "metadata": {
        "colab": {
          "base_uri": "https://localhost:8080/"
        },
        "id": "K0urp55i6rNd",
        "outputId": "2aefb3aa-21c1-49aa-fcb9-f4e5d67719d1"
      },
      "source": [
        "a2.shapiro_test()\n",
        "a2.levene_test()\n",
        "a2.anova_test()"
      ],
      "execution_count": 27,
      "outputs": [
        {
          "output_type": "stream",
          "text": [
            "# Kiểm định Phân phối chuẩn (X0)\n",
            "Phát biểu giả thiết thống kê:\n",
            "            H0: X0 tuân theo phân phối chuẩn\n",
            "            Ha: X0 khống tuân theo phân phối chuẩn\n",
            "Không có bằng chứng thống kê để bác bỏ giả thiết H0. Điều này ngụ ý X0 tuân theo phân phối chuẩn\n",
            "\n",
            "# Kiểm định Phân phối chuẩn (X1)\n",
            "Phát biểu giả thiết thống kê:\n",
            "            H0: X1 tuân theo phân phối chuẩn\n",
            "            Ha: X1 khống tuân theo phân phối chuẩn\n",
            "Không có bằng chứng thống kê để bác bỏ giả thiết H0. Điều này ngụ ý X1 tuân theo phân phối chuẩn\n",
            "\n",
            "# Kiểm định Phân phối chuẩn (X2)\n",
            "Phát biểu giả thiết thống kê:\n",
            "            H0: X2 tuân theo phân phối chuẩn\n",
            "            Ha: X2 khống tuân theo phân phối chuẩn\n",
            "Không có bằng chứng thống kê để bác bỏ giả thiết H0. Điều này ngụ ý X2 tuân theo phân phối chuẩn\n",
            "\n",
            "# Kiểm định Phân phối chuẩn (X3)\n",
            "Phát biểu giả thiết thống kê:\n",
            "            H0: X3 tuân theo phân phối chuẩn\n",
            "            Ha: X3 khống tuân theo phân phối chuẩn\n",
            "Không có bằng chứng thống kê để bác bỏ giả thiết H0. Điều này ngụ ý X3 tuân theo phân phối chuẩn\n",
            "\n",
            "# Kiểm định Phân phối chuẩn (X4)\n",
            "Phát biểu giả thiết thống kê:\n",
            "            H0: X4 tuân theo phân phối chuẩn\n",
            "            Ha: X4 khống tuân theo phân phối chuẩn\n",
            "Không có bằng chứng thống kê để bác bỏ giả thiết H0. Điều này ngụ ý X4 tuân theo phân phối chuẩn\n",
            "\n",
            "# Kiểm định Phương Sai\n",
            "Phát biểu giả thiết thống kê:\n",
            "            H0: Các phương sai bằng nhau\n",
            "            Ha: có ít nhất một cặp Phương sai không bằng nhau \n",
            "Không có bằng chứng thống kê để bác bỏ giả thiết H0. Điều này ngụ ý các phương sai bằng nhau\n",
            "\n",
            "# Kiểm định Anova\n",
            "Phát biểu giả thiết thống kê:\n",
            "            H0: Các giá trị trung bình có giá trị bằng nhau\n",
            "            Ha: Có tối thiểu một cặp giá trị trung bình có giá trị khác nhau \n",
            "Không có bằng chứng thống kê để bác bỏ giả thiết H0. Điều này ngụ ý các cặp giá trị trung bình có giá trị bằng nhau\n",
            "\n"
          ],
          "name": "stdout"
        }
      ]
    },
    {
      "cell_type": "code",
      "metadata": {
        "colab": {
          "base_uri": "https://localhost:8080/"
        },
        "id": "CscsK5517MQB",
        "outputId": "b1c3e4d2-4b05-4edc-d94a-3c61f515ca90"
      },
      "source": [
        "a3 = projectAnova(pd.read_excel('owan03.xls'))"
      ],
      "execution_count": 28,
      "outputs": [
        {
          "output_type": "stream",
          "text": [
            "*** No CODEPAGE record, no encoding_override: will use 'ascii'\n"
          ],
          "name": "stdout"
        }
      ]
    },
    {
      "cell_type": "code",
      "metadata": {
        "colab": {
          "base_uri": "https://localhost:8080/"
        },
        "id": "40LKnPFU7aPf",
        "outputId": "abab1600-0a09-4549-a0ef-08c6331f9372"
      },
      "source": [
        "a3.shapiro_test()\n",
        "a3.levene_test()# các cặp phương sai không bằng nhau nên sẽ không thỏa các điều kiện để tiến hành anova test\n",
        "a3.anova_test()"
      ],
      "execution_count": 29,
      "outputs": [
        {
          "output_type": "stream",
          "text": [
            "# Kiểm định Phân phối chuẩn (X0)\n",
            "Phát biểu giả thiết thống kê:\n",
            "            H0: X0 tuân theo phân phối chuẩn\n",
            "            Ha: X0 khống tuân theo phân phối chuẩn\n",
            "Không có bằng chứng thống kê để bác bỏ giả thiết H0. Điều này ngụ ý X0 tuân theo phân phối chuẩn\n",
            "\n",
            "# Kiểm định Phân phối chuẩn (X1)\n",
            "Phát biểu giả thiết thống kê:\n",
            "            H0: X1 tuân theo phân phối chuẩn\n",
            "            Ha: X1 khống tuân theo phân phối chuẩn\n",
            "Không có bằng chứng thống kê để bác bỏ giả thiết H0. Điều này ngụ ý X1 tuân theo phân phối chuẩn\n",
            "\n",
            "# Kiểm định Phân phối chuẩn (X2)\n",
            "Phát biểu giả thiết thống kê:\n",
            "            H0: X2 tuân theo phân phối chuẩn\n",
            "            Ha: X2 khống tuân theo phân phối chuẩn\n",
            "Không có bằng chứng thống kê để bác bỏ giả thiết H0. Điều này ngụ ý X2 tuân theo phân phối chuẩn\n",
            "\n",
            "# Kiểm định Phân phối chuẩn (X3)\n",
            "Phát biểu giả thiết thống kê:\n",
            "            H0: X3 tuân theo phân phối chuẩn\n",
            "            Ha: X3 khống tuân theo phân phối chuẩn\n",
            "Không có bằng chứng thống kê để bác bỏ giả thiết H0. Điều này ngụ ý X3 tuân theo phân phối chuẩn\n",
            "\n",
            "# Kiểm định Phương Sai\n",
            "Phát biểu giả thiết thống kê:\n",
            "            H0: Các phương sai bằng nhau\n",
            "            Ha: có ít nhất một cặp Phương sai không bằng nhau \n",
            "Có bằng chứng thống kê để bác bỏ giả thiết H0. Điều này ngụ ý có ít nhất một cặp Phương sai không bằng nhau (Ha)\n",
            "\n",
            "# Kiểm định Anova\n",
            "Phát biểu giả thiết thống kê:\n",
            "            H0: Các giá trị trung bình có giá trị bằng nhau\n",
            "            Ha: Có tối thiểu một cặp giá trị trung bình có giá trị khác nhau \n",
            "có bằng chứng thống kê để bác bỏ giả thiết H0. Điều này ngụ ý Có tối thiểu một cặp giá trị trung bình có giá trị khác nhau (Ha)\n",
            "\n"
          ],
          "name": "stdout"
        }
      ]
    },
    {
      "cell_type": "code",
      "metadata": {
        "colab": {
          "base_uri": "https://localhost:8080/"
        },
        "id": "4ZEEdC2o7sFQ",
        "outputId": "1d1eb473-af91-44cb-e7e7-d20ec5458fb5"
      },
      "source": [
        "a4 = projectAnova(pd.read_excel('owan04.xls'))"
      ],
      "execution_count": 30,
      "outputs": [
        {
          "output_type": "stream",
          "text": [
            "*** No CODEPAGE record, no encoding_override: will use 'ascii'\n"
          ],
          "name": "stdout"
        }
      ]
    },
    {
      "cell_type": "code",
      "metadata": {
        "colab": {
          "base_uri": "https://localhost:8080/"
        },
        "id": "1b0F0EL17_sX",
        "outputId": "81ba5db4-26c5-49cc-d387-c21b75397fed"
      },
      "source": [
        "a4.shapiro_test()\n",
        "a4.levene_test()\n",
        "a4.anova_test()"
      ],
      "execution_count": 31,
      "outputs": [
        {
          "output_type": "stream",
          "text": [
            "# Kiểm định Phân phối chuẩn (X0)\n",
            "Phát biểu giả thiết thống kê:\n",
            "            H0: X0 tuân theo phân phối chuẩn\n",
            "            Ha: X0 khống tuân theo phân phối chuẩn\n",
            "Không có bằng chứng thống kê để bác bỏ giả thiết H0. Điều này ngụ ý X0 tuân theo phân phối chuẩn\n",
            "\n",
            "# Kiểm định Phân phối chuẩn (X1)\n",
            "Phát biểu giả thiết thống kê:\n",
            "            H0: X1 tuân theo phân phối chuẩn\n",
            "            Ha: X1 khống tuân theo phân phối chuẩn\n",
            "Không có bằng chứng thống kê để bác bỏ giả thiết H0. Điều này ngụ ý X1 tuân theo phân phối chuẩn\n",
            "\n",
            "# Kiểm định Phân phối chuẩn (X2)\n",
            "Phát biểu giả thiết thống kê:\n",
            "            H0: X2 tuân theo phân phối chuẩn\n",
            "            Ha: X2 khống tuân theo phân phối chuẩn\n",
            "Không có bằng chứng thống kê để bác bỏ giả thiết H0. Điều này ngụ ý X2 tuân theo phân phối chuẩn\n",
            "\n",
            "# Kiểm định Phân phối chuẩn (X3)\n",
            "Phát biểu giả thiết thống kê:\n",
            "            H0: X3 tuân theo phân phối chuẩn\n",
            "            Ha: X3 khống tuân theo phân phối chuẩn\n",
            "Không có bằng chứng thống kê để bác bỏ giả thiết H0. Điều này ngụ ý X3 tuân theo phân phối chuẩn\n",
            "\n",
            "# Kiểm định Phân phối chuẩn (X4)\n",
            "Phát biểu giả thiết thống kê:\n",
            "            H0: X4 tuân theo phân phối chuẩn\n",
            "            Ha: X4 khống tuân theo phân phối chuẩn\n",
            "Không có bằng chứng thống kê để bác bỏ giả thiết H0. Điều này ngụ ý X4 tuân theo phân phối chuẩn\n",
            "\n",
            "# Kiểm định Phương Sai\n",
            "Phát biểu giả thiết thống kê:\n",
            "            H0: Các phương sai bằng nhau\n",
            "            Ha: có ít nhất một cặp Phương sai không bằng nhau \n",
            "Không có bằng chứng thống kê để bác bỏ giả thiết H0. Điều này ngụ ý các phương sai bằng nhau\n",
            "\n",
            "# Kiểm định Anova\n",
            "Phát biểu giả thiết thống kê:\n",
            "            H0: Các giá trị trung bình có giá trị bằng nhau\n",
            "            Ha: Có tối thiểu một cặp giá trị trung bình có giá trị khác nhau \n",
            "có bằng chứng thống kê để bác bỏ giả thiết H0. Điều này ngụ ý Có tối thiểu một cặp giá trị trung bình có giá trị khác nhau (Ha)\n",
            "\n"
          ],
          "name": "stdout"
        }
      ]
    },
    {
      "cell_type": "code",
      "metadata": {
        "colab": {
          "base_uri": "https://localhost:8080/"
        },
        "id": "OuB7lcL98Syn",
        "outputId": "dcfb7e85-832f-412d-b211-bcb28ca533f2"
      },
      "source": [
        "a5 = projectAnova(pd.read_excel('owan05.xls'))"
      ],
      "execution_count": 33,
      "outputs": [
        {
          "output_type": "stream",
          "text": [
            "*** No CODEPAGE record, no encoding_override: will use 'ascii'\n"
          ],
          "name": "stdout"
        }
      ]
    },
    {
      "cell_type": "code",
      "metadata": {
        "colab": {
          "base_uri": "https://localhost:8080/"
        },
        "id": "MONhIYI18fTA",
        "outputId": "470059f0-7052-43e6-e423-fb5baa23b007"
      },
      "source": [
        "a5.shapiro_test() # vì có một mẫu không tuân theo phân phối chuẩn nên khó đi đến kết luận của Anova test\n",
        "a5.levene_test()\n",
        "a5.anova_test()"
      ],
      "execution_count": 34,
      "outputs": [
        {
          "output_type": "stream",
          "text": [
            "# Kiểm định Phân phối chuẩn (X0)\n",
            "Phát biểu giả thiết thống kê:\n",
            "            H0: X0 tuân theo phân phối chuẩn\n",
            "            Ha: X0 khống tuân theo phân phối chuẩn\n",
            "Có bằng chứng thống kê để bác bỏ giả thiết H0. Điều này ngụ ý X0 không tuân theo phân phối chuẩn (Ha)\n",
            "\n",
            "# Kiểm định Phân phối chuẩn (X1)\n",
            "Phát biểu giả thiết thống kê:\n",
            "            H0: X1 tuân theo phân phối chuẩn\n",
            "            Ha: X1 khống tuân theo phân phối chuẩn\n",
            "Không có bằng chứng thống kê để bác bỏ giả thiết H0. Điều này ngụ ý X1 tuân theo phân phối chuẩn\n",
            "\n",
            "# Kiểm định Phân phối chuẩn (X2)\n",
            "Phát biểu giả thiết thống kê:\n",
            "            H0: X2 tuân theo phân phối chuẩn\n",
            "            Ha: X2 khống tuân theo phân phối chuẩn\n",
            "Không có bằng chứng thống kê để bác bỏ giả thiết H0. Điều này ngụ ý X2 tuân theo phân phối chuẩn\n",
            "\n",
            "# Kiểm định Phân phối chuẩn (X3)\n",
            "Phát biểu giả thiết thống kê:\n",
            "            H0: X3 tuân theo phân phối chuẩn\n",
            "            Ha: X3 khống tuân theo phân phối chuẩn\n",
            "Không có bằng chứng thống kê để bác bỏ giả thiết H0. Điều này ngụ ý X3 tuân theo phân phối chuẩn\n",
            "\n",
            "# Kiểm định Phân phối chuẩn (X4)\n",
            "Phát biểu giả thiết thống kê:\n",
            "            H0: X4 tuân theo phân phối chuẩn\n",
            "            Ha: X4 khống tuân theo phân phối chuẩn\n",
            "Không có bằng chứng thống kê để bác bỏ giả thiết H0. Điều này ngụ ý X4 tuân theo phân phối chuẩn\n",
            "\n",
            "# Kiểm định Phương Sai\n",
            "Phát biểu giả thiết thống kê:\n",
            "            H0: Các phương sai bằng nhau\n",
            "            Ha: có ít nhất một cặp Phương sai không bằng nhau \n",
            "Không có bằng chứng thống kê để bác bỏ giả thiết H0. Điều này ngụ ý các phương sai bằng nhau\n",
            "\n",
            "# Kiểm định Anova\n",
            "Phát biểu giả thiết thống kê:\n",
            "            H0: Các giá trị trung bình có giá trị bằng nhau\n",
            "            Ha: Có tối thiểu một cặp giá trị trung bình có giá trị khác nhau \n",
            "Không có bằng chứng thống kê để bác bỏ giả thiết H0. Điều này ngụ ý các cặp giá trị trung bình có giá trị bằng nhau\n",
            "\n"
          ],
          "name": "stdout"
        }
      ]
    }
  ]
}